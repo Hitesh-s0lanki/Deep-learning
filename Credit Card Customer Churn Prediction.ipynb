{
 "cells": [
  {
   "cell_type": "code",
   "execution_count": 39,
   "id": "2ac8d973",
   "metadata": {
    "ExecuteTime": {
     "end_time": "2024-03-26T12:02:42.583210Z",
     "start_time": "2024-03-26T12:02:42.577580Z"
    }
   },
   "outputs": [],
   "source": [
    "import pandas as pd \n",
    "import numpy as np"
   ]
  },
  {
   "cell_type": "code",
   "execution_count": 3,
   "id": "b0808221",
   "metadata": {
    "ExecuteTime": {
     "end_time": "2024-03-26T11:33:54.690855Z",
     "start_time": "2024-03-26T11:33:54.641505Z"
    }
   },
   "outputs": [],
   "source": [
    "df = pd.read_csv('datasets/Churn_Modelling.csv')"
   ]
  },
  {
   "cell_type": "code",
   "execution_count": 4,
   "id": "6d0e395c",
   "metadata": {
    "ExecuteTime": {
     "end_time": "2024-03-26T11:34:04.521294Z",
     "start_time": "2024-03-26T11:34:04.486028Z"
    }
   },
   "outputs": [
    {
     "data": {
      "text/html": [
       "<div>\n",
       "<style scoped>\n",
       "    .dataframe tbody tr th:only-of-type {\n",
       "        vertical-align: middle;\n",
       "    }\n",
       "\n",
       "    .dataframe tbody tr th {\n",
       "        vertical-align: top;\n",
       "    }\n",
       "\n",
       "    .dataframe thead th {\n",
       "        text-align: right;\n",
       "    }\n",
       "</style>\n",
       "<table border=\"1\" class=\"dataframe\">\n",
       "  <thead>\n",
       "    <tr style=\"text-align: right;\">\n",
       "      <th></th>\n",
       "      <th>RowNumber</th>\n",
       "      <th>CustomerId</th>\n",
       "      <th>Surname</th>\n",
       "      <th>CreditScore</th>\n",
       "      <th>Geography</th>\n",
       "      <th>Gender</th>\n",
       "      <th>Age</th>\n",
       "      <th>Tenure</th>\n",
       "      <th>Balance</th>\n",
       "      <th>NumOfProducts</th>\n",
       "      <th>HasCrCard</th>\n",
       "      <th>IsActiveMember</th>\n",
       "      <th>EstimatedSalary</th>\n",
       "      <th>Exited</th>\n",
       "    </tr>\n",
       "  </thead>\n",
       "  <tbody>\n",
       "    <tr>\n",
       "      <th>0</th>\n",
       "      <td>1</td>\n",
       "      <td>15634602</td>\n",
       "      <td>Hargrave</td>\n",
       "      <td>619</td>\n",
       "      <td>France</td>\n",
       "      <td>Female</td>\n",
       "      <td>42</td>\n",
       "      <td>2</td>\n",
       "      <td>0.00</td>\n",
       "      <td>1</td>\n",
       "      <td>1</td>\n",
       "      <td>1</td>\n",
       "      <td>101348.88</td>\n",
       "      <td>1</td>\n",
       "    </tr>\n",
       "    <tr>\n",
       "      <th>1</th>\n",
       "      <td>2</td>\n",
       "      <td>15647311</td>\n",
       "      <td>Hill</td>\n",
       "      <td>608</td>\n",
       "      <td>Spain</td>\n",
       "      <td>Female</td>\n",
       "      <td>41</td>\n",
       "      <td>1</td>\n",
       "      <td>83807.86</td>\n",
       "      <td>1</td>\n",
       "      <td>0</td>\n",
       "      <td>1</td>\n",
       "      <td>112542.58</td>\n",
       "      <td>0</td>\n",
       "    </tr>\n",
       "    <tr>\n",
       "      <th>2</th>\n",
       "      <td>3</td>\n",
       "      <td>15619304</td>\n",
       "      <td>Onio</td>\n",
       "      <td>502</td>\n",
       "      <td>France</td>\n",
       "      <td>Female</td>\n",
       "      <td>42</td>\n",
       "      <td>8</td>\n",
       "      <td>159660.80</td>\n",
       "      <td>3</td>\n",
       "      <td>1</td>\n",
       "      <td>0</td>\n",
       "      <td>113931.57</td>\n",
       "      <td>1</td>\n",
       "    </tr>\n",
       "    <tr>\n",
       "      <th>3</th>\n",
       "      <td>4</td>\n",
       "      <td>15701354</td>\n",
       "      <td>Boni</td>\n",
       "      <td>699</td>\n",
       "      <td>France</td>\n",
       "      <td>Female</td>\n",
       "      <td>39</td>\n",
       "      <td>1</td>\n",
       "      <td>0.00</td>\n",
       "      <td>2</td>\n",
       "      <td>0</td>\n",
       "      <td>0</td>\n",
       "      <td>93826.63</td>\n",
       "      <td>0</td>\n",
       "    </tr>\n",
       "    <tr>\n",
       "      <th>4</th>\n",
       "      <td>5</td>\n",
       "      <td>15737888</td>\n",
       "      <td>Mitchell</td>\n",
       "      <td>850</td>\n",
       "      <td>Spain</td>\n",
       "      <td>Female</td>\n",
       "      <td>43</td>\n",
       "      <td>2</td>\n",
       "      <td>125510.82</td>\n",
       "      <td>1</td>\n",
       "      <td>1</td>\n",
       "      <td>1</td>\n",
       "      <td>79084.10</td>\n",
       "      <td>0</td>\n",
       "    </tr>\n",
       "  </tbody>\n",
       "</table>\n",
       "</div>"
      ],
      "text/plain": [
       "   RowNumber  CustomerId   Surname  CreditScore Geography  Gender  Age  \\\n",
       "0          1    15634602  Hargrave          619    France  Female   42   \n",
       "1          2    15647311      Hill          608     Spain  Female   41   \n",
       "2          3    15619304      Onio          502    France  Female   42   \n",
       "3          4    15701354      Boni          699    France  Female   39   \n",
       "4          5    15737888  Mitchell          850     Spain  Female   43   \n",
       "\n",
       "   Tenure    Balance  NumOfProducts  HasCrCard  IsActiveMember  \\\n",
       "0       2       0.00              1          1               1   \n",
       "1       1   83807.86              1          0               1   \n",
       "2       8  159660.80              3          1               0   \n",
       "3       1       0.00              2          0               0   \n",
       "4       2  125510.82              1          1               1   \n",
       "\n",
       "   EstimatedSalary  Exited  \n",
       "0        101348.88       1  \n",
       "1        112542.58       0  \n",
       "2        113931.57       1  \n",
       "3         93826.63       0  \n",
       "4         79084.10       0  "
      ]
     },
     "execution_count": 4,
     "metadata": {},
     "output_type": "execute_result"
    }
   ],
   "source": [
    "df.head()"
   ]
  },
  {
   "cell_type": "code",
   "execution_count": 5,
   "id": "596a4455",
   "metadata": {
    "ExecuteTime": {
     "end_time": "2024-03-26T11:34:11.913319Z",
     "start_time": "2024-03-26T11:34:11.904768Z"
    }
   },
   "outputs": [
    {
     "data": {
      "text/plain": [
       "(10000, 14)"
      ]
     },
     "execution_count": 5,
     "metadata": {},
     "output_type": "execute_result"
    }
   ],
   "source": [
    "df.shape"
   ]
  },
  {
   "cell_type": "code",
   "execution_count": 7,
   "id": "b3cbc2bd",
   "metadata": {
    "ExecuteTime": {
     "end_time": "2024-03-26T11:35:17.096092Z",
     "start_time": "2024-03-26T11:35:17.061593Z"
    }
   },
   "outputs": [
    {
     "name": "stdout",
     "output_type": "stream",
     "text": [
      "<class 'pandas.core.frame.DataFrame'>\n",
      "RangeIndex: 10000 entries, 0 to 9999\n",
      "Data columns (total 14 columns):\n",
      " #   Column           Non-Null Count  Dtype  \n",
      "---  ------           --------------  -----  \n",
      " 0   RowNumber        10000 non-null  int64  \n",
      " 1   CustomerId       10000 non-null  int64  \n",
      " 2   Surname          10000 non-null  object \n",
      " 3   CreditScore      10000 non-null  int64  \n",
      " 4   Geography        10000 non-null  object \n",
      " 5   Gender           10000 non-null  object \n",
      " 6   Age              10000 non-null  int64  \n",
      " 7   Tenure           10000 non-null  int64  \n",
      " 8   Balance          10000 non-null  float64\n",
      " 9   NumOfProducts    10000 non-null  int64  \n",
      " 10  HasCrCard        10000 non-null  int64  \n",
      " 11  IsActiveMember   10000 non-null  int64  \n",
      " 12  EstimatedSalary  10000 non-null  float64\n",
      " 13  Exited           10000 non-null  int64  \n",
      "dtypes: float64(2), int64(9), object(3)\n",
      "memory usage: 1.1+ MB\n"
     ]
    }
   ],
   "source": [
    "df.info()"
   ]
  },
  {
   "cell_type": "code",
   "execution_count": 8,
   "id": "08f36753",
   "metadata": {
    "ExecuteTime": {
     "end_time": "2024-03-26T11:35:39.612355Z",
     "start_time": "2024-03-26T11:35:39.586864Z"
    }
   },
   "outputs": [
    {
     "data": {
      "text/plain": [
       "0"
      ]
     },
     "execution_count": 8,
     "metadata": {},
     "output_type": "execute_result"
    }
   ],
   "source": [
    "# check duplicate \n",
    "df.duplicated().sum()"
   ]
  },
  {
   "cell_type": "code",
   "execution_count": 9,
   "id": "5380733a",
   "metadata": {
    "ExecuteTime": {
     "end_time": "2024-03-26T11:35:57.168173Z",
     "start_time": "2024-03-26T11:35:57.156939Z"
    }
   },
   "outputs": [
    {
     "data": {
      "text/plain": [
       "Exited\n",
       "0    7963\n",
       "1    2037\n",
       "Name: count, dtype: int64"
      ]
     },
     "execution_count": 9,
     "metadata": {},
     "output_type": "execute_result"
    }
   ],
   "source": [
    "df['Exited'].value_counts()"
   ]
  },
  {
   "cell_type": "code",
   "execution_count": 10,
   "id": "100767fc",
   "metadata": {
    "ExecuteTime": {
     "end_time": "2024-03-26T11:36:20.053263Z",
     "start_time": "2024-03-26T11:36:20.042510Z"
    }
   },
   "outputs": [
    {
     "data": {
      "text/plain": [
       "Geography\n",
       "France     5014\n",
       "Germany    2509\n",
       "Spain      2477\n",
       "Name: count, dtype: int64"
      ]
     },
     "execution_count": 10,
     "metadata": {},
     "output_type": "execute_result"
    }
   ],
   "source": [
    "df['Geography'].value_counts()"
   ]
  },
  {
   "cell_type": "code",
   "execution_count": 11,
   "id": "f9238a1b",
   "metadata": {
    "ExecuteTime": {
     "end_time": "2024-03-26T11:37:26.918634Z",
     "start_time": "2024-03-26T11:37:26.910367Z"
    }
   },
   "outputs": [],
   "source": [
    "df.drop(columns=['RowNumber','CustomerId','Surname'], inplace=True)"
   ]
  },
  {
   "cell_type": "code",
   "execution_count": 12,
   "id": "eff225bf",
   "metadata": {
    "ExecuteTime": {
     "end_time": "2024-03-26T11:37:33.730718Z",
     "start_time": "2024-03-26T11:37:33.707530Z"
    }
   },
   "outputs": [
    {
     "data": {
      "text/html": [
       "<div>\n",
       "<style scoped>\n",
       "    .dataframe tbody tr th:only-of-type {\n",
       "        vertical-align: middle;\n",
       "    }\n",
       "\n",
       "    .dataframe tbody tr th {\n",
       "        vertical-align: top;\n",
       "    }\n",
       "\n",
       "    .dataframe thead th {\n",
       "        text-align: right;\n",
       "    }\n",
       "</style>\n",
       "<table border=\"1\" class=\"dataframe\">\n",
       "  <thead>\n",
       "    <tr style=\"text-align: right;\">\n",
       "      <th></th>\n",
       "      <th>CreditScore</th>\n",
       "      <th>Geography</th>\n",
       "      <th>Gender</th>\n",
       "      <th>Age</th>\n",
       "      <th>Tenure</th>\n",
       "      <th>Balance</th>\n",
       "      <th>NumOfProducts</th>\n",
       "      <th>HasCrCard</th>\n",
       "      <th>IsActiveMember</th>\n",
       "      <th>EstimatedSalary</th>\n",
       "      <th>Exited</th>\n",
       "    </tr>\n",
       "  </thead>\n",
       "  <tbody>\n",
       "    <tr>\n",
       "      <th>0</th>\n",
       "      <td>619</td>\n",
       "      <td>France</td>\n",
       "      <td>Female</td>\n",
       "      <td>42</td>\n",
       "      <td>2</td>\n",
       "      <td>0.00</td>\n",
       "      <td>1</td>\n",
       "      <td>1</td>\n",
       "      <td>1</td>\n",
       "      <td>101348.88</td>\n",
       "      <td>1</td>\n",
       "    </tr>\n",
       "    <tr>\n",
       "      <th>1</th>\n",
       "      <td>608</td>\n",
       "      <td>Spain</td>\n",
       "      <td>Female</td>\n",
       "      <td>41</td>\n",
       "      <td>1</td>\n",
       "      <td>83807.86</td>\n",
       "      <td>1</td>\n",
       "      <td>0</td>\n",
       "      <td>1</td>\n",
       "      <td>112542.58</td>\n",
       "      <td>0</td>\n",
       "    </tr>\n",
       "    <tr>\n",
       "      <th>2</th>\n",
       "      <td>502</td>\n",
       "      <td>France</td>\n",
       "      <td>Female</td>\n",
       "      <td>42</td>\n",
       "      <td>8</td>\n",
       "      <td>159660.80</td>\n",
       "      <td>3</td>\n",
       "      <td>1</td>\n",
       "      <td>0</td>\n",
       "      <td>113931.57</td>\n",
       "      <td>1</td>\n",
       "    </tr>\n",
       "    <tr>\n",
       "      <th>3</th>\n",
       "      <td>699</td>\n",
       "      <td>France</td>\n",
       "      <td>Female</td>\n",
       "      <td>39</td>\n",
       "      <td>1</td>\n",
       "      <td>0.00</td>\n",
       "      <td>2</td>\n",
       "      <td>0</td>\n",
       "      <td>0</td>\n",
       "      <td>93826.63</td>\n",
       "      <td>0</td>\n",
       "    </tr>\n",
       "    <tr>\n",
       "      <th>4</th>\n",
       "      <td>850</td>\n",
       "      <td>Spain</td>\n",
       "      <td>Female</td>\n",
       "      <td>43</td>\n",
       "      <td>2</td>\n",
       "      <td>125510.82</td>\n",
       "      <td>1</td>\n",
       "      <td>1</td>\n",
       "      <td>1</td>\n",
       "      <td>79084.10</td>\n",
       "      <td>0</td>\n",
       "    </tr>\n",
       "  </tbody>\n",
       "</table>\n",
       "</div>"
      ],
      "text/plain": [
       "   CreditScore Geography  Gender  Age  Tenure    Balance  NumOfProducts  \\\n",
       "0          619    France  Female   42       2       0.00              1   \n",
       "1          608     Spain  Female   41       1   83807.86              1   \n",
       "2          502    France  Female   42       8  159660.80              3   \n",
       "3          699    France  Female   39       1       0.00              2   \n",
       "4          850     Spain  Female   43       2  125510.82              1   \n",
       "\n",
       "   HasCrCard  IsActiveMember  EstimatedSalary  Exited  \n",
       "0          1               1        101348.88       1  \n",
       "1          0               1        112542.58       0  \n",
       "2          1               0        113931.57       1  \n",
       "3          0               0         93826.63       0  \n",
       "4          1               1         79084.10       0  "
      ]
     },
     "execution_count": 12,
     "metadata": {},
     "output_type": "execute_result"
    }
   ],
   "source": [
    "df.head()"
   ]
  },
  {
   "cell_type": "code",
   "execution_count": 14,
   "id": "c0cc9048",
   "metadata": {
    "ExecuteTime": {
     "end_time": "2024-03-26T11:39:45.990958Z",
     "start_time": "2024-03-26T11:39:45.959100Z"
    }
   },
   "outputs": [
    {
     "data": {
      "text/html": [
       "<div>\n",
       "<style scoped>\n",
       "    .dataframe tbody tr th:only-of-type {\n",
       "        vertical-align: middle;\n",
       "    }\n",
       "\n",
       "    .dataframe tbody tr th {\n",
       "        vertical-align: top;\n",
       "    }\n",
       "\n",
       "    .dataframe thead th {\n",
       "        text-align: right;\n",
       "    }\n",
       "</style>\n",
       "<table border=\"1\" class=\"dataframe\">\n",
       "  <thead>\n",
       "    <tr style=\"text-align: right;\">\n",
       "      <th></th>\n",
       "      <th>CreditScore</th>\n",
       "      <th>Age</th>\n",
       "      <th>Tenure</th>\n",
       "      <th>Balance</th>\n",
       "      <th>NumOfProducts</th>\n",
       "      <th>HasCrCard</th>\n",
       "      <th>IsActiveMember</th>\n",
       "      <th>EstimatedSalary</th>\n",
       "      <th>Exited</th>\n",
       "      <th>Geography_Germany</th>\n",
       "      <th>Geography_Spain</th>\n",
       "      <th>Gender_Male</th>\n",
       "    </tr>\n",
       "  </thead>\n",
       "  <tbody>\n",
       "    <tr>\n",
       "      <th>0</th>\n",
       "      <td>619</td>\n",
       "      <td>42</td>\n",
       "      <td>2</td>\n",
       "      <td>0.00</td>\n",
       "      <td>1</td>\n",
       "      <td>1</td>\n",
       "      <td>1</td>\n",
       "      <td>101348.88</td>\n",
       "      <td>1</td>\n",
       "      <td>False</td>\n",
       "      <td>False</td>\n",
       "      <td>False</td>\n",
       "    </tr>\n",
       "    <tr>\n",
       "      <th>1</th>\n",
       "      <td>608</td>\n",
       "      <td>41</td>\n",
       "      <td>1</td>\n",
       "      <td>83807.86</td>\n",
       "      <td>1</td>\n",
       "      <td>0</td>\n",
       "      <td>1</td>\n",
       "      <td>112542.58</td>\n",
       "      <td>0</td>\n",
       "      <td>False</td>\n",
       "      <td>True</td>\n",
       "      <td>False</td>\n",
       "    </tr>\n",
       "    <tr>\n",
       "      <th>2</th>\n",
       "      <td>502</td>\n",
       "      <td>42</td>\n",
       "      <td>8</td>\n",
       "      <td>159660.80</td>\n",
       "      <td>3</td>\n",
       "      <td>1</td>\n",
       "      <td>0</td>\n",
       "      <td>113931.57</td>\n",
       "      <td>1</td>\n",
       "      <td>False</td>\n",
       "      <td>False</td>\n",
       "      <td>False</td>\n",
       "    </tr>\n",
       "    <tr>\n",
       "      <th>3</th>\n",
       "      <td>699</td>\n",
       "      <td>39</td>\n",
       "      <td>1</td>\n",
       "      <td>0.00</td>\n",
       "      <td>2</td>\n",
       "      <td>0</td>\n",
       "      <td>0</td>\n",
       "      <td>93826.63</td>\n",
       "      <td>0</td>\n",
       "      <td>False</td>\n",
       "      <td>False</td>\n",
       "      <td>False</td>\n",
       "    </tr>\n",
       "    <tr>\n",
       "      <th>4</th>\n",
       "      <td>850</td>\n",
       "      <td>43</td>\n",
       "      <td>2</td>\n",
       "      <td>125510.82</td>\n",
       "      <td>1</td>\n",
       "      <td>1</td>\n",
       "      <td>1</td>\n",
       "      <td>79084.10</td>\n",
       "      <td>0</td>\n",
       "      <td>False</td>\n",
       "      <td>True</td>\n",
       "      <td>False</td>\n",
       "    </tr>\n",
       "  </tbody>\n",
       "</table>\n",
       "</div>"
      ],
      "text/plain": [
       "   CreditScore  Age  Tenure    Balance  NumOfProducts  HasCrCard  \\\n",
       "0          619   42       2       0.00              1          1   \n",
       "1          608   41       1   83807.86              1          0   \n",
       "2          502   42       8  159660.80              3          1   \n",
       "3          699   39       1       0.00              2          0   \n",
       "4          850   43       2  125510.82              1          1   \n",
       "\n",
       "   IsActiveMember  EstimatedSalary  Exited  Geography_Germany  \\\n",
       "0               1        101348.88       1              False   \n",
       "1               1        112542.58       0              False   \n",
       "2               0        113931.57       1              False   \n",
       "3               0         93826.63       0              False   \n",
       "4               1         79084.10       0              False   \n",
       "\n",
       "   Geography_Spain  Gender_Male  \n",
       "0            False        False  \n",
       "1             True        False  \n",
       "2            False        False  \n",
       "3            False        False  \n",
       "4             True        False  "
      ]
     },
     "execution_count": 14,
     "metadata": {},
     "output_type": "execute_result"
    }
   ],
   "source": [
    "df = pd.get_dummies(df, columns=['Geography', 'Gender'], drop_first=True)\n",
    "df.head()"
   ]
  },
  {
   "cell_type": "code",
   "execution_count": 15,
   "id": "2a20aaf3",
   "metadata": {
    "ExecuteTime": {
     "end_time": "2024-03-26T11:42:21.529344Z",
     "start_time": "2024-03-26T11:42:21.511305Z"
    }
   },
   "outputs": [],
   "source": [
    "X = df.drop(columns=['Exited'])\n",
    "y = df['Exited']\n",
    "from sklearn.model_selection import train_test_split\n",
    "X_train, X_test, y_train, y_test = train_test_split(X, y, test_size=0.2, random_state=1)"
   ]
  },
  {
   "cell_type": "code",
   "execution_count": 19,
   "id": "24230169",
   "metadata": {
    "ExecuteTime": {
     "end_time": "2024-03-26T11:42:41.680183Z",
     "start_time": "2024-03-26T11:42:41.671682Z"
    }
   },
   "outputs": [
    {
     "data": {
      "text/plain": [
       "(8000, 11)"
      ]
     },
     "execution_count": 19,
     "metadata": {},
     "output_type": "execute_result"
    }
   ],
   "source": [
    "X_train.shape"
   ]
  },
  {
   "cell_type": "code",
   "execution_count": 20,
   "id": "6c8c213d",
   "metadata": {
    "ExecuteTime": {
     "end_time": "2024-03-26T11:43:43.254165Z",
     "start_time": "2024-03-26T11:43:43.217099Z"
    }
   },
   "outputs": [],
   "source": [
    "from sklearn.preprocessing import StandardScaler\n",
    "scaler = StandardScaler()\n",
    "\n",
    "X_train_trf = scaler.fit_transform(X_train)\n",
    "X_test_trf = scaler.transform(X_test)"
   ]
  },
  {
   "cell_type": "code",
   "execution_count": 21,
   "id": "967f9bc3",
   "metadata": {
    "ExecuteTime": {
     "end_time": "2024-03-26T11:43:49.869073Z",
     "start_time": "2024-03-26T11:43:49.858174Z"
    }
   },
   "outputs": [
    {
     "data": {
      "text/plain": [
       "array([[-0.23082038, -0.94449979, -0.70174202, ...,  1.71490137,\n",
       "        -0.57273139,  0.91509065],\n",
       "       [-0.25150912, -0.94449979, -0.35520275, ..., -0.58312392,\n",
       "        -0.57273139, -1.09278791],\n",
       "       [-0.3963303 ,  0.77498705,  0.33787579, ...,  1.71490137,\n",
       "        -0.57273139, -1.09278791],\n",
       "       ...,\n",
       "       [ 0.22433188,  0.58393295,  1.3774936 , ..., -0.58312392,\n",
       "        -0.57273139, -1.09278791],\n",
       "       [ 0.13123255,  0.01077067,  1.03095433, ..., -0.58312392,\n",
       "        -0.57273139, -1.09278791],\n",
       "       [ 1.1656695 ,  0.29735181,  0.33787579, ...,  1.71490137,\n",
       "        -0.57273139,  0.91509065]])"
      ]
     },
     "execution_count": 21,
     "metadata": {},
     "output_type": "execute_result"
    }
   ],
   "source": [
    "X_train_trf"
   ]
  },
  {
   "cell_type": "code",
   "execution_count": 23,
   "id": "499074c9",
   "metadata": {
    "ExecuteTime": {
     "end_time": "2024-03-26T11:54:19.671398Z",
     "start_time": "2024-03-26T11:54:19.667058Z"
    }
   },
   "outputs": [],
   "source": [
    "import tensorflow\n",
    "from tensorflow import keras\n",
    "from tensorflow.keras import Sequential\n",
    "from tensorflow.keras.layers import Dense"
   ]
  },
  {
   "cell_type": "code",
   "execution_count": 64,
   "id": "382ae281",
   "metadata": {
    "ExecuteTime": {
     "end_time": "2024-03-26T12:19:23.674182Z",
     "start_time": "2024-03-26T12:19:23.622962Z"
    }
   },
   "outputs": [
    {
     "name": "stderr",
     "output_type": "stream",
     "text": [
      "C:\\Users\\kapil\\anaconda3\\Lib\\site-packages\\keras\\src\\layers\\core\\dense.py:88: UserWarning: Do not pass an `input_shape`/`input_dim` argument to a layer. When using Sequential models, prefer using an `Input(shape)` object as the first layer in the model instead.\n",
      "  super().__init__(activity_regularizer=activity_regularizer, **kwargs)\n"
     ]
    }
   ],
   "source": [
    "model = Sequential()\n",
    "\n",
    "model.add(Dense(11, activation='relu', input_dim = 11))\n",
    "model.add(Dense(11, activation='relu'))\n",
    "model.add(Dense(1, activation='sigmoid'))"
   ]
  },
  {
   "cell_type": "code",
   "execution_count": 65,
   "id": "d6c4063f",
   "metadata": {
    "ExecuteTime": {
     "end_time": "2024-03-26T12:19:24.984137Z",
     "start_time": "2024-03-26T12:19:24.961061Z"
    }
   },
   "outputs": [
    {
     "data": {
      "text/html": [
       "<pre style=\"white-space:pre;overflow-x:auto;line-height:normal;font-family:Menlo,'DejaVu Sans Mono',consolas,'Courier New',monospace\"><span style=\"font-weight: bold\">Model: \"sequential_4\"</span>\n",
       "</pre>\n"
      ],
      "text/plain": [
       "\u001b[1mModel: \"sequential_4\"\u001b[0m\n"
      ]
     },
     "metadata": {},
     "output_type": "display_data"
    },
    {
     "data": {
      "text/html": [
       "<pre style=\"white-space:pre;overflow-x:auto;line-height:normal;font-family:Menlo,'DejaVu Sans Mono',consolas,'Courier New',monospace\">┏━━━━━━━━━━━━━━━━━━━━━━━━━━━━━━━━━━━━━━┳━━━━━━━━━━━━━━━━━━━━━━━━━━━━━┳━━━━━━━━━━━━━━━━━┓\n",
       "┃<span style=\"font-weight: bold\"> Layer (type)                         </span>┃<span style=\"font-weight: bold\"> Output Shape                </span>┃<span style=\"font-weight: bold\">         Param # </span>┃\n",
       "┡━━━━━━━━━━━━━━━━━━━━━━━━━━━━━━━━━━━━━━╇━━━━━━━━━━━━━━━━━━━━━━━━━━━━━╇━━━━━━━━━━━━━━━━━┩\n",
       "│ dense_9 (<span style=\"color: #0087ff; text-decoration-color: #0087ff\">Dense</span>)                      │ (<span style=\"color: #00d7ff; text-decoration-color: #00d7ff\">None</span>, <span style=\"color: #00af00; text-decoration-color: #00af00\">11</span>)                  │             <span style=\"color: #00af00; text-decoration-color: #00af00\">132</span> │\n",
       "├──────────────────────────────────────┼─────────────────────────────┼─────────────────┤\n",
       "│ dense_10 (<span style=\"color: #0087ff; text-decoration-color: #0087ff\">Dense</span>)                     │ (<span style=\"color: #00d7ff; text-decoration-color: #00d7ff\">None</span>, <span style=\"color: #00af00; text-decoration-color: #00af00\">11</span>)                  │             <span style=\"color: #00af00; text-decoration-color: #00af00\">132</span> │\n",
       "├──────────────────────────────────────┼─────────────────────────────┼─────────────────┤\n",
       "│ dense_11 (<span style=\"color: #0087ff; text-decoration-color: #0087ff\">Dense</span>)                     │ (<span style=\"color: #00d7ff; text-decoration-color: #00d7ff\">None</span>, <span style=\"color: #00af00; text-decoration-color: #00af00\">1</span>)                   │              <span style=\"color: #00af00; text-decoration-color: #00af00\">12</span> │\n",
       "└──────────────────────────────────────┴─────────────────────────────┴─────────────────┘\n",
       "</pre>\n"
      ],
      "text/plain": [
       "┏━━━━━━━━━━━━━━━━━━━━━━━━━━━━━━━━━━━━━━┳━━━━━━━━━━━━━━━━━━━━━━━━━━━━━┳━━━━━━━━━━━━━━━━━┓\n",
       "┃\u001b[1m \u001b[0m\u001b[1mLayer (type)                        \u001b[0m\u001b[1m \u001b[0m┃\u001b[1m \u001b[0m\u001b[1mOutput Shape               \u001b[0m\u001b[1m \u001b[0m┃\u001b[1m \u001b[0m\u001b[1m        Param #\u001b[0m\u001b[1m \u001b[0m┃\n",
       "┡━━━━━━━━━━━━━━━━━━━━━━━━━━━━━━━━━━━━━━╇━━━━━━━━━━━━━━━━━━━━━━━━━━━━━╇━━━━━━━━━━━━━━━━━┩\n",
       "│ dense_9 (\u001b[38;5;33mDense\u001b[0m)                      │ (\u001b[38;5;45mNone\u001b[0m, \u001b[38;5;34m11\u001b[0m)                  │             \u001b[38;5;34m132\u001b[0m │\n",
       "├──────────────────────────────────────┼─────────────────────────────┼─────────────────┤\n",
       "│ dense_10 (\u001b[38;5;33mDense\u001b[0m)                     │ (\u001b[38;5;45mNone\u001b[0m, \u001b[38;5;34m11\u001b[0m)                  │             \u001b[38;5;34m132\u001b[0m │\n",
       "├──────────────────────────────────────┼─────────────────────────────┼─────────────────┤\n",
       "│ dense_11 (\u001b[38;5;33mDense\u001b[0m)                     │ (\u001b[38;5;45mNone\u001b[0m, \u001b[38;5;34m1\u001b[0m)                   │              \u001b[38;5;34m12\u001b[0m │\n",
       "└──────────────────────────────────────┴─────────────────────────────┴─────────────────┘\n"
      ]
     },
     "metadata": {},
     "output_type": "display_data"
    },
    {
     "data": {
      "text/html": [
       "<pre style=\"white-space:pre;overflow-x:auto;line-height:normal;font-family:Menlo,'DejaVu Sans Mono',consolas,'Courier New',monospace\"><span style=\"font-weight: bold\"> Total params: </span><span style=\"color: #00af00; text-decoration-color: #00af00\">276</span> (1.08 KB)\n",
       "</pre>\n"
      ],
      "text/plain": [
       "\u001b[1m Total params: \u001b[0m\u001b[38;5;34m276\u001b[0m (1.08 KB)\n"
      ]
     },
     "metadata": {},
     "output_type": "display_data"
    },
    {
     "data": {
      "text/html": [
       "<pre style=\"white-space:pre;overflow-x:auto;line-height:normal;font-family:Menlo,'DejaVu Sans Mono',consolas,'Courier New',monospace\"><span style=\"font-weight: bold\"> Trainable params: </span><span style=\"color: #00af00; text-decoration-color: #00af00\">276</span> (1.08 KB)\n",
       "</pre>\n"
      ],
      "text/plain": [
       "\u001b[1m Trainable params: \u001b[0m\u001b[38;5;34m276\u001b[0m (1.08 KB)\n"
      ]
     },
     "metadata": {},
     "output_type": "display_data"
    },
    {
     "data": {
      "text/html": [
       "<pre style=\"white-space:pre;overflow-x:auto;line-height:normal;font-family:Menlo,'DejaVu Sans Mono',consolas,'Courier New',monospace\"><span style=\"font-weight: bold\"> Non-trainable params: </span><span style=\"color: #00af00; text-decoration-color: #00af00\">0</span> (0.00 B)\n",
       "</pre>\n"
      ],
      "text/plain": [
       "\u001b[1m Non-trainable params: \u001b[0m\u001b[38;5;34m0\u001b[0m (0.00 B)\n"
      ]
     },
     "metadata": {},
     "output_type": "display_data"
    }
   ],
   "source": [
    "model.summary()"
   ]
  },
  {
   "cell_type": "code",
   "execution_count": 66,
   "id": "8eadf3cd",
   "metadata": {
    "ExecuteTime": {
     "end_time": "2024-03-26T12:19:29.285924Z",
     "start_time": "2024-03-26T12:19:29.273871Z"
    }
   },
   "outputs": [],
   "source": [
    "model.compile(optimizer='Adam',loss='binary_crossentropy', metrics=['accuracy'])"
   ]
  },
  {
   "cell_type": "code",
   "execution_count": 67,
   "id": "5a612a97",
   "metadata": {
    "ExecuteTime": {
     "end_time": "2024-03-26T12:20:21.424165Z",
     "start_time": "2024-03-26T12:19:29.980702Z"
    }
   },
   "outputs": [
    {
     "name": "stdout",
     "output_type": "stream",
     "text": [
      "Epoch 1/100\n",
      "\u001b[1m200/200\u001b[0m \u001b[32m━━━━━━━━━━━━━━━━━━━━\u001b[0m\u001b[37m\u001b[0m \u001b[1m1s\u001b[0m 2ms/step - accuracy: 0.7839 - loss: 0.5444 - val_accuracy: 0.7975 - val_loss: 0.4748\n",
      "Epoch 2/100\n",
      "\u001b[1m200/200\u001b[0m \u001b[32m━━━━━━━━━━━━━━━━━━━━\u001b[0m\u001b[37m\u001b[0m \u001b[1m0s\u001b[0m 2ms/step - accuracy: 0.7939 - loss: 0.4652 - val_accuracy: 0.8037 - val_loss: 0.4477\n",
      "Epoch 3/100\n",
      "\u001b[1m200/200\u001b[0m \u001b[32m━━━━━━━━━━━━━━━━━━━━\u001b[0m\u001b[37m\u001b[0m \u001b[1m0s\u001b[0m 2ms/step - accuracy: 0.8038 - loss: 0.4350 - val_accuracy: 0.8087 - val_loss: 0.4320\n",
      "Epoch 4/100\n",
      "\u001b[1m200/200\u001b[0m \u001b[32m━━━━━━━━━━━━━━━━━━━━\u001b[0m\u001b[37m\u001b[0m \u001b[1m0s\u001b[0m 2ms/step - accuracy: 0.8056 - loss: 0.4310 - val_accuracy: 0.8125 - val_loss: 0.4227\n",
      "Epoch 5/100\n",
      "\u001b[1m200/200\u001b[0m \u001b[32m━━━━━━━━━━━━━━━━━━━━\u001b[0m\u001b[37m\u001b[0m \u001b[1m1s\u001b[0m 3ms/step - accuracy: 0.8192 - loss: 0.4157 - val_accuracy: 0.8156 - val_loss: 0.4149\n",
      "Epoch 6/100\n",
      "\u001b[1m200/200\u001b[0m \u001b[32m━━━━━━━━━━━━━━━━━━━━\u001b[0m\u001b[37m\u001b[0m \u001b[1m1s\u001b[0m 2ms/step - accuracy: 0.8328 - loss: 0.4035 - val_accuracy: 0.8250 - val_loss: 0.4066\n",
      "Epoch 7/100\n",
      "\u001b[1m200/200\u001b[0m \u001b[32m━━━━━━━━━━━━━━━━━━━━\u001b[0m\u001b[37m\u001b[0m \u001b[1m1s\u001b[0m 2ms/step - accuracy: 0.8409 - loss: 0.3875 - val_accuracy: 0.8275 - val_loss: 0.3962\n",
      "Epoch 8/100\n",
      "\u001b[1m200/200\u001b[0m \u001b[32m━━━━━━━━━━━━━━━━━━━━\u001b[0m\u001b[37m\u001b[0m \u001b[1m0s\u001b[0m 2ms/step - accuracy: 0.8397 - loss: 0.3895 - val_accuracy: 0.8356 - val_loss: 0.3844\n",
      "Epoch 9/100\n",
      "\u001b[1m200/200\u001b[0m \u001b[32m━━━━━━━━━━━━━━━━━━━━\u001b[0m\u001b[37m\u001b[0m \u001b[1m0s\u001b[0m 2ms/step - accuracy: 0.8484 - loss: 0.3760 - val_accuracy: 0.8381 - val_loss: 0.3729\n",
      "Epoch 10/100\n",
      "\u001b[1m200/200\u001b[0m \u001b[32m━━━━━━━━━━━━━━━━━━━━\u001b[0m\u001b[37m\u001b[0m \u001b[1m0s\u001b[0m 2ms/step - accuracy: 0.8510 - loss: 0.3695 - val_accuracy: 0.8438 - val_loss: 0.3630\n",
      "Epoch 11/100\n",
      "\u001b[1m200/200\u001b[0m \u001b[32m━━━━━━━━━━━━━━━━━━━━\u001b[0m\u001b[37m\u001b[0m \u001b[1m0s\u001b[0m 2ms/step - accuracy: 0.8648 - loss: 0.3466 - val_accuracy: 0.8487 - val_loss: 0.3575\n",
      "Epoch 12/100\n",
      "\u001b[1m200/200\u001b[0m \u001b[32m━━━━━━━━━━━━━━━━━━━━\u001b[0m\u001b[37m\u001b[0m \u001b[1m0s\u001b[0m 2ms/step - accuracy: 0.8604 - loss: 0.3520 - val_accuracy: 0.8500 - val_loss: 0.3543\n",
      "Epoch 13/100\n",
      "\u001b[1m200/200\u001b[0m \u001b[32m━━━━━━━━━━━━━━━━━━━━\u001b[0m\u001b[37m\u001b[0m \u001b[1m1s\u001b[0m 2ms/step - accuracy: 0.8574 - loss: 0.3439 - val_accuracy: 0.8506 - val_loss: 0.3517\n",
      "Epoch 14/100\n",
      "\u001b[1m200/200\u001b[0m \u001b[32m━━━━━━━━━━━━━━━━━━━━\u001b[0m\u001b[37m\u001b[0m \u001b[1m1s\u001b[0m 2ms/step - accuracy: 0.8597 - loss: 0.3495 - val_accuracy: 0.8525 - val_loss: 0.3497\n",
      "Epoch 15/100\n",
      "\u001b[1m200/200\u001b[0m \u001b[32m━━━━━━━━━━━━━━━━━━━━\u001b[0m\u001b[37m\u001b[0m \u001b[1m0s\u001b[0m 2ms/step - accuracy: 0.8594 - loss: 0.3496 - val_accuracy: 0.8544 - val_loss: 0.3485\n",
      "Epoch 16/100\n",
      "\u001b[1m200/200\u001b[0m \u001b[32m━━━━━━━━━━━━━━━━━━━━\u001b[0m\u001b[37m\u001b[0m \u001b[1m0s\u001b[0m 2ms/step - accuracy: 0.8666 - loss: 0.3350 - val_accuracy: 0.8487 - val_loss: 0.3492\n",
      "Epoch 17/100\n",
      "\u001b[1m200/200\u001b[0m \u001b[32m━━━━━━━━━━━━━━━━━━━━\u001b[0m\u001b[37m\u001b[0m \u001b[1m0s\u001b[0m 2ms/step - accuracy: 0.8654 - loss: 0.3397 - val_accuracy: 0.8487 - val_loss: 0.3477\n",
      "Epoch 18/100\n",
      "\u001b[1m200/200\u001b[0m \u001b[32m━━━━━━━━━━━━━━━━━━━━\u001b[0m\u001b[37m\u001b[0m \u001b[1m1s\u001b[0m 2ms/step - accuracy: 0.8583 - loss: 0.3451 - val_accuracy: 0.8519 - val_loss: 0.3483\n",
      "Epoch 19/100\n",
      "\u001b[1m200/200\u001b[0m \u001b[32m━━━━━━━━━━━━━━━━━━━━\u001b[0m\u001b[37m\u001b[0m \u001b[1m0s\u001b[0m 2ms/step - accuracy: 0.8681 - loss: 0.3246 - val_accuracy: 0.8544 - val_loss: 0.3467\n",
      "Epoch 20/100\n",
      "\u001b[1m200/200\u001b[0m \u001b[32m━━━━━━━━━━━━━━━━━━━━\u001b[0m\u001b[37m\u001b[0m \u001b[1m0s\u001b[0m 2ms/step - accuracy: 0.8652 - loss: 0.3401 - val_accuracy: 0.8575 - val_loss: 0.3460\n",
      "Epoch 21/100\n",
      "\u001b[1m200/200\u001b[0m \u001b[32m━━━━━━━━━━━━━━━━━━━━\u001b[0m\u001b[37m\u001b[0m \u001b[1m0s\u001b[0m 2ms/step - accuracy: 0.8648 - loss: 0.3377 - val_accuracy: 0.8537 - val_loss: 0.3462\n",
      "Epoch 22/100\n",
      "\u001b[1m200/200\u001b[0m \u001b[32m━━━━━━━━━━━━━━━━━━━━\u001b[0m\u001b[37m\u001b[0m \u001b[1m0s\u001b[0m 2ms/step - accuracy: 0.8601 - loss: 0.3378 - val_accuracy: 0.8537 - val_loss: 0.3455\n",
      "Epoch 23/100\n",
      "\u001b[1m200/200\u001b[0m \u001b[32m━━━━━━━━━━━━━━━━━━━━\u001b[0m\u001b[37m\u001b[0m \u001b[1m1s\u001b[0m 2ms/step - accuracy: 0.8681 - loss: 0.3312 - val_accuracy: 0.8525 - val_loss: 0.3477\n",
      "Epoch 24/100\n",
      "\u001b[1m200/200\u001b[0m \u001b[32m━━━━━━━━━━━━━━━━━━━━\u001b[0m\u001b[37m\u001b[0m \u001b[1m1s\u001b[0m 3ms/step - accuracy: 0.8661 - loss: 0.3302 - val_accuracy: 0.8531 - val_loss: 0.3463\n",
      "Epoch 25/100\n",
      "\u001b[1m200/200\u001b[0m \u001b[32m━━━━━━━━━━━━━━━━━━━━\u001b[0m\u001b[37m\u001b[0m \u001b[1m1s\u001b[0m 3ms/step - accuracy: 0.8738 - loss: 0.3223 - val_accuracy: 0.8544 - val_loss: 0.3465\n",
      "Epoch 26/100\n",
      "\u001b[1m200/200\u001b[0m \u001b[32m━━━━━━━━━━━━━━━━━━━━\u001b[0m\u001b[37m\u001b[0m \u001b[1m0s\u001b[0m 2ms/step - accuracy: 0.8690 - loss: 0.3327 - val_accuracy: 0.8544 - val_loss: 0.3451\n",
      "Epoch 27/100\n",
      "\u001b[1m200/200\u001b[0m \u001b[32m━━━━━━━━━━━━━━━━━━━━\u001b[0m\u001b[37m\u001b[0m \u001b[1m0s\u001b[0m 2ms/step - accuracy: 0.8686 - loss: 0.3270 - val_accuracy: 0.8537 - val_loss: 0.3475\n",
      "Epoch 28/100\n",
      "\u001b[1m200/200\u001b[0m \u001b[32m━━━━━━━━━━━━━━━━━━━━\u001b[0m\u001b[37m\u001b[0m \u001b[1m0s\u001b[0m 2ms/step - accuracy: 0.8637 - loss: 0.3349 - val_accuracy: 0.8525 - val_loss: 0.3475\n",
      "Epoch 29/100\n",
      "\u001b[1m200/200\u001b[0m \u001b[32m━━━━━━━━━━━━━━━━━━━━\u001b[0m\u001b[37m\u001b[0m \u001b[1m0s\u001b[0m 2ms/step - accuracy: 0.8674 - loss: 0.3319 - val_accuracy: 0.8512 - val_loss: 0.3462\n",
      "Epoch 30/100\n",
      "\u001b[1m200/200\u001b[0m \u001b[32m━━━━━━━━━━━━━━━━━━━━\u001b[0m\u001b[37m\u001b[0m \u001b[1m0s\u001b[0m 2ms/step - accuracy: 0.8678 - loss: 0.3278 - val_accuracy: 0.8550 - val_loss: 0.3459\n",
      "Epoch 31/100\n",
      "\u001b[1m200/200\u001b[0m \u001b[32m━━━━━━━━━━━━━━━━━━━━\u001b[0m\u001b[37m\u001b[0m \u001b[1m1s\u001b[0m 2ms/step - accuracy: 0.8681 - loss: 0.3295 - val_accuracy: 0.8487 - val_loss: 0.3493\n",
      "Epoch 32/100\n",
      "\u001b[1m200/200\u001b[0m \u001b[32m━━━━━━━━━━━━━━━━━━━━\u001b[0m\u001b[37m\u001b[0m \u001b[1m0s\u001b[0m 2ms/step - accuracy: 0.8680 - loss: 0.3277 - val_accuracy: 0.8537 - val_loss: 0.3462\n",
      "Epoch 33/100\n",
      "\u001b[1m200/200\u001b[0m \u001b[32m━━━━━━━━━━━━━━━━━━━━\u001b[0m\u001b[37m\u001b[0m \u001b[1m0s\u001b[0m 2ms/step - accuracy: 0.8579 - loss: 0.3392 - val_accuracy: 0.8494 - val_loss: 0.3490\n",
      "Epoch 34/100\n",
      "\u001b[1m200/200\u001b[0m \u001b[32m━━━━━━━━━━━━━━━━━━━━\u001b[0m\u001b[37m\u001b[0m \u001b[1m0s\u001b[0m 2ms/step - accuracy: 0.8630 - loss: 0.3333 - val_accuracy: 0.8537 - val_loss: 0.3450\n",
      "Epoch 35/100\n",
      "\u001b[1m200/200\u001b[0m \u001b[32m━━━━━━━━━━━━━━━━━━━━\u001b[0m\u001b[37m\u001b[0m \u001b[1m0s\u001b[0m 2ms/step - accuracy: 0.8609 - loss: 0.3341 - val_accuracy: 0.8556 - val_loss: 0.3455\n",
      "Epoch 36/100\n",
      "\u001b[1m200/200\u001b[0m \u001b[32m━━━━━━━━━━━━━━━━━━━━\u001b[0m\u001b[37m\u001b[0m \u001b[1m0s\u001b[0m 2ms/step - accuracy: 0.8626 - loss: 0.3396 - val_accuracy: 0.8544 - val_loss: 0.3455\n",
      "Epoch 37/100\n",
      "\u001b[1m200/200\u001b[0m \u001b[32m━━━━━━━━━━━━━━━━━━━━\u001b[0m\u001b[37m\u001b[0m \u001b[1m0s\u001b[0m 2ms/step - accuracy: 0.8686 - loss: 0.3279 - val_accuracy: 0.8544 - val_loss: 0.3460\n",
      "Epoch 38/100\n",
      "\u001b[1m200/200\u001b[0m \u001b[32m━━━━━━━━━━━━━━━━━━━━\u001b[0m\u001b[37m\u001b[0m \u001b[1m0s\u001b[0m 2ms/step - accuracy: 0.8657 - loss: 0.3255 - val_accuracy: 0.8525 - val_loss: 0.3469\n",
      "Epoch 39/100\n",
      "\u001b[1m200/200\u001b[0m \u001b[32m━━━━━━━━━━━━━━━━━━━━\u001b[0m\u001b[37m\u001b[0m \u001b[1m1s\u001b[0m 2ms/step - accuracy: 0.8607 - loss: 0.3302 - val_accuracy: 0.8550 - val_loss: 0.3444\n",
      "Epoch 40/100\n",
      "\u001b[1m200/200\u001b[0m \u001b[32m━━━━━━━━━━━━━━━━━━━━\u001b[0m\u001b[37m\u001b[0m \u001b[1m1s\u001b[0m 2ms/step - accuracy: 0.8629 - loss: 0.3329 - val_accuracy: 0.8519 - val_loss: 0.3462\n",
      "Epoch 41/100\n",
      "\u001b[1m200/200\u001b[0m \u001b[32m━━━━━━━━━━━━━━━━━━━━\u001b[0m\u001b[37m\u001b[0m \u001b[1m0s\u001b[0m 2ms/step - accuracy: 0.8653 - loss: 0.3272 - val_accuracy: 0.8562 - val_loss: 0.3454\n",
      "Epoch 42/100\n",
      "\u001b[1m200/200\u001b[0m \u001b[32m━━━━━━━━━━━━━━━━━━━━\u001b[0m\u001b[37m\u001b[0m \u001b[1m0s\u001b[0m 2ms/step - accuracy: 0.8619 - loss: 0.3371 - val_accuracy: 0.8525 - val_loss: 0.3462\n",
      "Epoch 43/100\n",
      "\u001b[1m200/200\u001b[0m \u001b[32m━━━━━━━━━━━━━━━━━━━━\u001b[0m\u001b[37m\u001b[0m \u001b[1m1s\u001b[0m 2ms/step - accuracy: 0.8739 - loss: 0.3164 - val_accuracy: 0.8562 - val_loss: 0.3451\n",
      "Epoch 44/100\n",
      "\u001b[1m200/200\u001b[0m \u001b[32m━━━━━━━━━━━━━━━━━━━━\u001b[0m\u001b[37m\u001b[0m \u001b[1m0s\u001b[0m 2ms/step - accuracy: 0.8794 - loss: 0.3134 - val_accuracy: 0.8531 - val_loss: 0.3470\n",
      "Epoch 45/100\n",
      "\u001b[1m200/200\u001b[0m \u001b[32m━━━━━━━━━━━━━━━━━━━━\u001b[0m\u001b[37m\u001b[0m \u001b[1m1s\u001b[0m 2ms/step - accuracy: 0.8782 - loss: 0.3125 - val_accuracy: 0.8525 - val_loss: 0.3469\n",
      "Epoch 46/100\n",
      "\u001b[1m200/200\u001b[0m \u001b[32m━━━━━━━━━━━━━━━━━━━━\u001b[0m\u001b[37m\u001b[0m \u001b[1m0s\u001b[0m 2ms/step - accuracy: 0.8711 - loss: 0.3180 - val_accuracy: 0.8519 - val_loss: 0.3478\n",
      "Epoch 47/100\n",
      "\u001b[1m200/200\u001b[0m \u001b[32m━━━━━━━━━━━━━━━━━━━━\u001b[0m\u001b[37m\u001b[0m \u001b[1m1s\u001b[0m 2ms/step - accuracy: 0.8604 - loss: 0.3305 - val_accuracy: 0.8531 - val_loss: 0.3458\n",
      "Epoch 48/100\n",
      "\u001b[1m200/200\u001b[0m \u001b[32m━━━━━━━━━━━━━━━━━━━━\u001b[0m\u001b[37m\u001b[0m \u001b[1m1s\u001b[0m 2ms/step - accuracy: 0.8667 - loss: 0.3241 - val_accuracy: 0.8544 - val_loss: 0.3447\n",
      "Epoch 49/100\n",
      "\u001b[1m200/200\u001b[0m \u001b[32m━━━━━━━━━━━━━━━━━━━━\u001b[0m\u001b[37m\u001b[0m \u001b[1m0s\u001b[0m 2ms/step - accuracy: 0.8680 - loss: 0.3166 - val_accuracy: 0.8550 - val_loss: 0.3466\n",
      "Epoch 50/100\n",
      "\u001b[1m200/200\u001b[0m \u001b[32m━━━━━━━━━━━━━━━━━━━━\u001b[0m\u001b[37m\u001b[0m \u001b[1m0s\u001b[0m 2ms/step - accuracy: 0.8656 - loss: 0.3218 - val_accuracy: 0.8494 - val_loss: 0.3476\n",
      "Epoch 51/100\n"
     ]
    },
    {
     "name": "stdout",
     "output_type": "stream",
     "text": [
      "\u001b[1m200/200\u001b[0m \u001b[32m━━━━━━━━━━━━━━━━━━━━\u001b[0m\u001b[37m\u001b[0m \u001b[1m0s\u001b[0m 2ms/step - accuracy: 0.8689 - loss: 0.3274 - val_accuracy: 0.8544 - val_loss: 0.3452\n",
      "Epoch 52/100\n",
      "\u001b[1m200/200\u001b[0m \u001b[32m━━━━━━━━━━━━━━━━━━━━\u001b[0m\u001b[37m\u001b[0m \u001b[1m1s\u001b[0m 2ms/step - accuracy: 0.8739 - loss: 0.3118 - val_accuracy: 0.8531 - val_loss: 0.3451\n",
      "Epoch 53/100\n",
      "\u001b[1m200/200\u001b[0m \u001b[32m━━━━━━━━━━━━━━━━━━━━\u001b[0m\u001b[37m\u001b[0m \u001b[1m1s\u001b[0m 2ms/step - accuracy: 0.8614 - loss: 0.3336 - val_accuracy: 0.8531 - val_loss: 0.3457\n",
      "Epoch 54/100\n",
      "\u001b[1m200/200\u001b[0m \u001b[32m━━━━━━━━━━━━━━━━━━━━\u001b[0m\u001b[37m\u001b[0m \u001b[1m0s\u001b[0m 2ms/step - accuracy: 0.8679 - loss: 0.3304 - val_accuracy: 0.8519 - val_loss: 0.3462\n",
      "Epoch 55/100\n",
      "\u001b[1m200/200\u001b[0m \u001b[32m━━━━━━━━━━━━━━━━━━━━\u001b[0m\u001b[37m\u001b[0m \u001b[1m1s\u001b[0m 2ms/step - accuracy: 0.8699 - loss: 0.3206 - val_accuracy: 0.8500 - val_loss: 0.3479\n",
      "Epoch 56/100\n",
      "\u001b[1m200/200\u001b[0m \u001b[32m━━━━━━━━━━━━━━━━━━━━\u001b[0m\u001b[37m\u001b[0m \u001b[1m0s\u001b[0m 2ms/step - accuracy: 0.8630 - loss: 0.3230 - val_accuracy: 0.8531 - val_loss: 0.3461\n",
      "Epoch 57/100\n",
      "\u001b[1m200/200\u001b[0m \u001b[32m━━━━━━━━━━━━━━━━━━━━\u001b[0m\u001b[37m\u001b[0m \u001b[1m0s\u001b[0m 2ms/step - accuracy: 0.8659 - loss: 0.3246 - val_accuracy: 0.8512 - val_loss: 0.3461\n",
      "Epoch 58/100\n",
      "\u001b[1m200/200\u001b[0m \u001b[32m━━━━━━━━━━━━━━━━━━━━\u001b[0m\u001b[37m\u001b[0m \u001b[1m1s\u001b[0m 2ms/step - accuracy: 0.8577 - loss: 0.3344 - val_accuracy: 0.8487 - val_loss: 0.3491\n",
      "Epoch 59/100\n",
      "\u001b[1m200/200\u001b[0m \u001b[32m━━━━━━━━━━━━━━━━━━━━\u001b[0m\u001b[37m\u001b[0m \u001b[1m0s\u001b[0m 2ms/step - accuracy: 0.8624 - loss: 0.3308 - val_accuracy: 0.8494 - val_loss: 0.3493\n",
      "Epoch 60/100\n",
      "\u001b[1m200/200\u001b[0m \u001b[32m━━━━━━━━━━━━━━━━━━━━\u001b[0m\u001b[37m\u001b[0m \u001b[1m1s\u001b[0m 3ms/step - accuracy: 0.8706 - loss: 0.3182 - val_accuracy: 0.8494 - val_loss: 0.3482\n",
      "Epoch 61/100\n",
      "\u001b[1m200/200\u001b[0m \u001b[32m━━━━━━━━━━━━━━━━━━━━\u001b[0m\u001b[37m\u001b[0m \u001b[1m1s\u001b[0m 2ms/step - accuracy: 0.8702 - loss: 0.3156 - val_accuracy: 0.8519 - val_loss: 0.3469\n",
      "Epoch 62/100\n",
      "\u001b[1m200/200\u001b[0m \u001b[32m━━━━━━━━━━━━━━━━━━━━\u001b[0m\u001b[37m\u001b[0m \u001b[1m0s\u001b[0m 2ms/step - accuracy: 0.8691 - loss: 0.3142 - val_accuracy: 0.8512 - val_loss: 0.3460\n",
      "Epoch 63/100\n",
      "\u001b[1m200/200\u001b[0m \u001b[32m━━━━━━━━━━━━━━━━━━━━\u001b[0m\u001b[37m\u001b[0m \u001b[1m1s\u001b[0m 3ms/step - accuracy: 0.8725 - loss: 0.3210 - val_accuracy: 0.8519 - val_loss: 0.3472\n",
      "Epoch 64/100\n",
      "\u001b[1m200/200\u001b[0m \u001b[32m━━━━━━━━━━━━━━━━━━━━\u001b[0m\u001b[37m\u001b[0m \u001b[1m1s\u001b[0m 2ms/step - accuracy: 0.8565 - loss: 0.3372 - val_accuracy: 0.8556 - val_loss: 0.3458\n",
      "Epoch 65/100\n",
      "\u001b[1m200/200\u001b[0m \u001b[32m━━━━━━━━━━━━━━━━━━━━\u001b[0m\u001b[37m\u001b[0m \u001b[1m0s\u001b[0m 2ms/step - accuracy: 0.8767 - loss: 0.3105 - val_accuracy: 0.8506 - val_loss: 0.3491\n",
      "Epoch 66/100\n",
      "\u001b[1m200/200\u001b[0m \u001b[32m━━━━━━━━━━━━━━━━━━━━\u001b[0m\u001b[37m\u001b[0m \u001b[1m1s\u001b[0m 3ms/step - accuracy: 0.8640 - loss: 0.3185 - val_accuracy: 0.8494 - val_loss: 0.3489\n",
      "Epoch 67/100\n",
      "\u001b[1m200/200\u001b[0m \u001b[32m━━━━━━━━━━━━━━━━━━━━\u001b[0m\u001b[37m\u001b[0m \u001b[1m0s\u001b[0m 2ms/step - accuracy: 0.8645 - loss: 0.3262 - val_accuracy: 0.8500 - val_loss: 0.3493\n",
      "Epoch 68/100\n",
      "\u001b[1m200/200\u001b[0m \u001b[32m━━━━━━━━━━━━━━━━━━━━\u001b[0m\u001b[37m\u001b[0m \u001b[1m0s\u001b[0m 2ms/step - accuracy: 0.8701 - loss: 0.3208 - val_accuracy: 0.8525 - val_loss: 0.3488\n",
      "Epoch 69/100\n",
      "\u001b[1m200/200\u001b[0m \u001b[32m━━━━━━━━━━━━━━━━━━━━\u001b[0m\u001b[37m\u001b[0m \u001b[1m1s\u001b[0m 2ms/step - accuracy: 0.8719 - loss: 0.3174 - val_accuracy: 0.8506 - val_loss: 0.3483\n",
      "Epoch 70/100\n",
      "\u001b[1m200/200\u001b[0m \u001b[32m━━━━━━━━━━━━━━━━━━━━\u001b[0m\u001b[37m\u001b[0m \u001b[1m0s\u001b[0m 2ms/step - accuracy: 0.8680 - loss: 0.3162 - val_accuracy: 0.8531 - val_loss: 0.3476\n",
      "Epoch 71/100\n",
      "\u001b[1m200/200\u001b[0m \u001b[32m━━━━━━━━━━━━━━━━━━━━\u001b[0m\u001b[37m\u001b[0m \u001b[1m0s\u001b[0m 2ms/step - accuracy: 0.8705 - loss: 0.3155 - val_accuracy: 0.8487 - val_loss: 0.3503\n",
      "Epoch 72/100\n",
      "\u001b[1m200/200\u001b[0m \u001b[32m━━━━━━━━━━━━━━━━━━━━\u001b[0m\u001b[37m\u001b[0m \u001b[1m0s\u001b[0m 2ms/step - accuracy: 0.8666 - loss: 0.3252 - val_accuracy: 0.8500 - val_loss: 0.3497\n",
      "Epoch 73/100\n",
      "\u001b[1m200/200\u001b[0m \u001b[32m━━━━━━━━━━━━━━━━━━━━\u001b[0m\u001b[37m\u001b[0m \u001b[1m0s\u001b[0m 2ms/step - accuracy: 0.8639 - loss: 0.3286 - val_accuracy: 0.8519 - val_loss: 0.3493\n",
      "Epoch 74/100\n",
      "\u001b[1m200/200\u001b[0m \u001b[32m━━━━━━━━━━━━━━━━━━━━\u001b[0m\u001b[37m\u001b[0m \u001b[1m0s\u001b[0m 2ms/step - accuracy: 0.8618 - loss: 0.3378 - val_accuracy: 0.8512 - val_loss: 0.3493\n",
      "Epoch 75/100\n",
      "\u001b[1m200/200\u001b[0m \u001b[32m━━━━━━━━━━━━━━━━━━━━\u001b[0m\u001b[37m\u001b[0m \u001b[1m1s\u001b[0m 2ms/step - accuracy: 0.8657 - loss: 0.3240 - val_accuracy: 0.8537 - val_loss: 0.3497\n",
      "Epoch 76/100\n",
      "\u001b[1m200/200\u001b[0m \u001b[32m━━━━━━━━━━━━━━━━━━━━\u001b[0m\u001b[37m\u001b[0m \u001b[1m0s\u001b[0m 2ms/step - accuracy: 0.8682 - loss: 0.3191 - val_accuracy: 0.8500 - val_loss: 0.3507\n",
      "Epoch 77/100\n",
      "\u001b[1m200/200\u001b[0m \u001b[32m━━━━━━━━━━━━━━━━━━━━\u001b[0m\u001b[37m\u001b[0m \u001b[1m0s\u001b[0m 2ms/step - accuracy: 0.8614 - loss: 0.3326 - val_accuracy: 0.8519 - val_loss: 0.3495\n",
      "Epoch 78/100\n",
      "\u001b[1m200/200\u001b[0m \u001b[32m━━━━━━━━━━━━━━━━━━━━\u001b[0m\u001b[37m\u001b[0m \u001b[1m0s\u001b[0m 2ms/step - accuracy: 0.8725 - loss: 0.3095 - val_accuracy: 0.8531 - val_loss: 0.3486\n",
      "Epoch 79/100\n",
      "\u001b[1m200/200\u001b[0m \u001b[32m━━━━━━━━━━━━━━━━━━━━\u001b[0m\u001b[37m\u001b[0m \u001b[1m0s\u001b[0m 2ms/step - accuracy: 0.8617 - loss: 0.3296 - val_accuracy: 0.8562 - val_loss: 0.3496\n",
      "Epoch 80/100\n",
      "\u001b[1m200/200\u001b[0m \u001b[32m━━━━━━━━━━━━━━━━━━━━\u001b[0m\u001b[37m\u001b[0m \u001b[1m0s\u001b[0m 2ms/step - accuracy: 0.8791 - loss: 0.3045 - val_accuracy: 0.8544 - val_loss: 0.3495\n",
      "Epoch 81/100\n",
      "\u001b[1m200/200\u001b[0m \u001b[32m━━━━━━━━━━━━━━━━━━━━\u001b[0m\u001b[37m\u001b[0m \u001b[1m0s\u001b[0m 2ms/step - accuracy: 0.8696 - loss: 0.3153 - val_accuracy: 0.8500 - val_loss: 0.3500\n",
      "Epoch 82/100\n",
      "\u001b[1m200/200\u001b[0m \u001b[32m━━━━━━━━━━━━━━━━━━━━\u001b[0m\u001b[37m\u001b[0m \u001b[1m0s\u001b[0m 2ms/step - accuracy: 0.8635 - loss: 0.3354 - val_accuracy: 0.8525 - val_loss: 0.3488\n",
      "Epoch 83/100\n",
      "\u001b[1m200/200\u001b[0m \u001b[32m━━━━━━━━━━━━━━━━━━━━\u001b[0m\u001b[37m\u001b[0m \u001b[1m0s\u001b[0m 2ms/step - accuracy: 0.8647 - loss: 0.3227 - val_accuracy: 0.8537 - val_loss: 0.3495\n",
      "Epoch 84/100\n",
      "\u001b[1m200/200\u001b[0m \u001b[32m━━━━━━━━━━━━━━━━━━━━\u001b[0m\u001b[37m\u001b[0m \u001b[1m0s\u001b[0m 2ms/step - accuracy: 0.8723 - loss: 0.3173 - val_accuracy: 0.8512 - val_loss: 0.3511\n",
      "Epoch 85/100\n",
      "\u001b[1m200/200\u001b[0m \u001b[32m━━━━━━━━━━━━━━━━━━━━\u001b[0m\u001b[37m\u001b[0m \u001b[1m0s\u001b[0m 2ms/step - accuracy: 0.8650 - loss: 0.3250 - val_accuracy: 0.8587 - val_loss: 0.3502\n",
      "Epoch 86/100\n",
      "\u001b[1m200/200\u001b[0m \u001b[32m━━━━━━━━━━━━━━━━━━━━\u001b[0m\u001b[37m\u001b[0m \u001b[1m1s\u001b[0m 2ms/step - accuracy: 0.8791 - loss: 0.3061 - val_accuracy: 0.8537 - val_loss: 0.3490\n",
      "Epoch 87/100\n",
      "\u001b[1m200/200\u001b[0m \u001b[32m━━━━━━━━━━━━━━━━━━━━\u001b[0m\u001b[37m\u001b[0m \u001b[1m0s\u001b[0m 2ms/step - accuracy: 0.8725 - loss: 0.3138 - val_accuracy: 0.8562 - val_loss: 0.3493\n",
      "Epoch 88/100\n",
      "\u001b[1m200/200\u001b[0m \u001b[32m━━━━━━━━━━━━━━━━━━━━\u001b[0m\u001b[37m\u001b[0m \u001b[1m1s\u001b[0m 2ms/step - accuracy: 0.8609 - loss: 0.3246 - val_accuracy: 0.8525 - val_loss: 0.3507\n",
      "Epoch 89/100\n",
      "\u001b[1m200/200\u001b[0m \u001b[32m━━━━━━━━━━━━━━━━━━━━\u001b[0m\u001b[37m\u001b[0m \u001b[1m1s\u001b[0m 2ms/step - accuracy: 0.8697 - loss: 0.3171 - val_accuracy: 0.8544 - val_loss: 0.3504\n",
      "Epoch 90/100\n",
      "\u001b[1m200/200\u001b[0m \u001b[32m━━━━━━━━━━━━━━━━━━━━\u001b[0m\u001b[37m\u001b[0m \u001b[1m0s\u001b[0m 2ms/step - accuracy: 0.8645 - loss: 0.3234 - val_accuracy: 0.8550 - val_loss: 0.3515\n",
      "Epoch 91/100\n",
      "\u001b[1m200/200\u001b[0m \u001b[32m━━━━━━━━━━━━━━━━━━━━\u001b[0m\u001b[37m\u001b[0m \u001b[1m0s\u001b[0m 2ms/step - accuracy: 0.8657 - loss: 0.3234 - val_accuracy: 0.8531 - val_loss: 0.3520\n",
      "Epoch 92/100\n",
      "\u001b[1m200/200\u001b[0m \u001b[32m━━━━━━━━━━━━━━━━━━━━\u001b[0m\u001b[37m\u001b[0m \u001b[1m0s\u001b[0m 2ms/step - accuracy: 0.8655 - loss: 0.3262 - val_accuracy: 0.8506 - val_loss: 0.3535\n",
      "Epoch 93/100\n",
      "\u001b[1m200/200\u001b[0m \u001b[32m━━━━━━━━━━━━━━━━━━━━\u001b[0m\u001b[37m\u001b[0m \u001b[1m0s\u001b[0m 2ms/step - accuracy: 0.8589 - loss: 0.3342 - val_accuracy: 0.8550 - val_loss: 0.3498\n",
      "Epoch 94/100\n",
      "\u001b[1m200/200\u001b[0m \u001b[32m━━━━━━━━━━━━━━━━━━━━\u001b[0m\u001b[37m\u001b[0m \u001b[1m1s\u001b[0m 2ms/step - accuracy: 0.8685 - loss: 0.3121 - val_accuracy: 0.8556 - val_loss: 0.3512\n",
      "Epoch 95/100\n",
      "\u001b[1m200/200\u001b[0m \u001b[32m━━━━━━━━━━━━━━━━━━━━\u001b[0m\u001b[37m\u001b[0m \u001b[1m1s\u001b[0m 3ms/step - accuracy: 0.8653 - loss: 0.3256 - val_accuracy: 0.8537 - val_loss: 0.3505\n",
      "Epoch 96/100\n",
      "\u001b[1m200/200\u001b[0m \u001b[32m━━━━━━━━━━━━━━━━━━━━\u001b[0m\u001b[37m\u001b[0m \u001b[1m1s\u001b[0m 2ms/step - accuracy: 0.8671 - loss: 0.3177 - val_accuracy: 0.8531 - val_loss: 0.3502\n",
      "Epoch 97/100\n",
      "\u001b[1m200/200\u001b[0m \u001b[32m━━━━━━━━━━━━━━━━━━━━\u001b[0m\u001b[37m\u001b[0m \u001b[1m1s\u001b[0m 3ms/step - accuracy: 0.8643 - loss: 0.3211 - val_accuracy: 0.8537 - val_loss: 0.3506\n",
      "Epoch 98/100\n",
      "\u001b[1m200/200\u001b[0m \u001b[32m━━━━━━━━━━━━━━━━━━━━\u001b[0m\u001b[37m\u001b[0m \u001b[1m1s\u001b[0m 3ms/step - accuracy: 0.8662 - loss: 0.3220 - val_accuracy: 0.8556 - val_loss: 0.3512\n",
      "Epoch 99/100\n",
      "\u001b[1m200/200\u001b[0m \u001b[32m━━━━━━━━━━━━━━━━━━━━\u001b[0m\u001b[37m\u001b[0m \u001b[1m1s\u001b[0m 3ms/step - accuracy: 0.8616 - loss: 0.3301 - val_accuracy: 0.8550 - val_loss: 0.3503\n",
      "Epoch 100/100\n",
      "\u001b[1m200/200\u001b[0m \u001b[32m━━━━━━━━━━━━━━━━━━━━\u001b[0m\u001b[37m\u001b[0m \u001b[1m1s\u001b[0m 3ms/step - accuracy: 0.8688 - loss: 0.3241 - val_accuracy: 0.8550 - val_loss: 0.3504\n"
     ]
    }
   ],
   "source": [
    "history = model.fit(X_train_trf, y_train, epochs=100, validation_split=0.2)"
   ]
  },
  {
   "cell_type": "code",
   "execution_count": 68,
   "id": "f6912cae",
   "metadata": {
    "ExecuteTime": {
     "end_time": "2024-03-26T12:20:26.445760Z",
     "start_time": "2024-03-26T12:20:26.430805Z"
    }
   },
   "outputs": [
    {
     "data": {
      "text/plain": [
       "[array([[ 4.17593479e-01,  3.83165568e-01,  4.99657802e-02,\n",
       "          6.04665935e-01, -8.22150588e-01, -3.04242760e-01,\n",
       "         -4.65040684e-01,  5.38844168e-01,  3.12807024e-01,\n",
       "          3.04504484e-01,  3.02790105e-01],\n",
       "        [ 3.65243852e-01,  3.32655430e-01, -6.20407820e-01,\n",
       "         -5.96282899e-01,  3.63414764e-01,  4.14637089e-01,\n",
       "          9.17851850e-02,  1.86392725e-01, -5.74789345e-01,\n",
       "          7.20155239e-01, -7.48131454e-01],\n",
       "        [ 3.12390506e-01, -5.10678394e-04, -1.19819529e-01,\n",
       "          3.90846968e-01,  3.80926460e-01, -3.25966656e-01,\n",
       "          8.33117068e-01,  2.78430860e-02,  4.87439990e-01,\n",
       "          9.18003544e-02, -2.28957068e-02],\n",
       "        [-6.92624867e-01, -5.69160134e-02, -1.40630245e+00,\n",
       "         -2.59779751e-01, -6.18156075e-01,  1.15465987e+00,\n",
       "         -1.31091652e-02,  1.08209670e+00, -5.71191430e-01,\n",
       "         -7.59951234e-01, -5.68070531e-01],\n",
       "        [ 1.31476462e-01, -1.35837388e+00, -2.99979746e-01,\n",
       "          2.54805475e-01,  5.00407577e-01, -2.59602189e-01,\n",
       "         -1.05287181e-02,  4.71303999e-01,  2.96034724e-01,\n",
       "          3.35227773e-02,  8.09140056e-02],\n",
       "        [ 1.27695590e-01,  7.45028257e-02, -1.22007775e+00,\n",
       "         -1.41032308e-01,  2.89236933e-01,  7.33675718e-01,\n",
       "         -9.91323113e-01, -2.45300144e-01,  1.75526977e-01,\n",
       "          1.01369232e-01,  2.04879731e-01],\n",
       "        [ 4.53262955e-01, -4.83116835e-01,  3.63169193e-01,\n",
       "          3.60829458e-02,  5.49010098e-01, -9.02168453e-01,\n",
       "          2.78966963e-01,  3.83648604e-01, -2.32150212e-01,\n",
       "          3.15337360e-01,  1.01354912e-01],\n",
       "        [-5.85570395e-01, -4.35857326e-01,  5.43252110e-01,\n",
       "         -8.21141154e-02, -1.05204750e-02,  3.59259218e-01,\n",
       "         -1.74611032e-01,  3.82999152e-01,  5.52218966e-02,\n",
       "         -7.23338604e-01, -1.07317723e-01],\n",
       "        [-5.60065508e-01, -3.40807050e-01, -1.38506770e-01,\n",
       "          1.45847514e-01, -1.40542924e-01,  3.82109970e-01,\n",
       "         -9.58084822e-01,  4.87587005e-01,  1.12160392e-01,\n",
       "         -2.89051563e-01, -4.66303259e-01],\n",
       "        [ 2.93817613e-02, -1.79855421e-01, -1.41823739e-01,\n",
       "          2.94770766e-03, -8.11434388e-01, -2.09871437e-02,\n",
       "          5.54511473e-02,  5.07372260e-01,  1.14278354e-01,\n",
       "         -5.40012896e-01,  1.97528809e-01],\n",
       "        [ 4.29534972e-01,  5.41472852e-01, -2.96903938e-01,\n",
       "          2.21552983e-01,  3.22759628e-01, -4.76260483e-02,\n",
       "         -6.88241050e-02,  3.57565135e-01, -8.27418864e-02,\n",
       "          4.44499224e-01, -7.75316358e-01]], dtype=float32),\n",
       " array([ 0.28581074, -0.25995687,  0.13201873,  0.70078814, -0.14670989,\n",
       "         0.08193392, -0.15039618,  0.25308287,  0.9364606 , -0.05791524,\n",
       "         0.6292183 ], dtype=float32)]"
      ]
     },
     "execution_count": 68,
     "metadata": {},
     "output_type": "execute_result"
    }
   ],
   "source": [
    "model.layers[1].get_weights()"
   ]
  },
  {
   "cell_type": "code",
   "execution_count": 69,
   "id": "857f00ed",
   "metadata": {
    "ExecuteTime": {
     "end_time": "2024-03-26T12:20:29.719096Z",
     "start_time": "2024-03-26T12:20:29.433433Z"
    }
   },
   "outputs": [
    {
     "name": "stdout",
     "output_type": "stream",
     "text": [
      "\u001b[1m63/63\u001b[0m \u001b[32m━━━━━━━━━━━━━━━━━━━━\u001b[0m\u001b[37m\u001b[0m \u001b[1m0s\u001b[0m 2ms/step\n"
     ]
    }
   ],
   "source": [
    "y_pred = model.predict(X_test_trf)\n",
    "y_pred = np.where(y_pred > 0.5, 1, 0)"
   ]
  },
  {
   "cell_type": "code",
   "execution_count": 70,
   "id": "9251edb7",
   "metadata": {
    "ExecuteTime": {
     "end_time": "2024-03-26T12:20:29.844777Z",
     "start_time": "2024-03-26T12:20:29.836887Z"
    }
   },
   "outputs": [
    {
     "data": {
      "text/plain": [
       "array([[0],\n",
       "       [0],\n",
       "       [0],\n",
       "       ...,\n",
       "       [0],\n",
       "       [0],\n",
       "       [0]])"
      ]
     },
     "execution_count": 70,
     "metadata": {},
     "output_type": "execute_result"
    }
   ],
   "source": [
    "y_pred"
   ]
  },
  {
   "cell_type": "code",
   "execution_count": 71,
   "id": "696c3f29",
   "metadata": {
    "ExecuteTime": {
     "end_time": "2024-03-26T12:20:30.207755Z",
     "start_time": "2024-03-26T12:20:30.197681Z"
    }
   },
   "outputs": [
    {
     "data": {
      "text/plain": [
       "0.8605"
      ]
     },
     "execution_count": 71,
     "metadata": {},
     "output_type": "execute_result"
    }
   ],
   "source": [
    "from sklearn.metrics import accuracy_score\n",
    "accuracy_score(y_test,y_pred)"
   ]
  },
  {
   "cell_type": "code",
   "execution_count": 72,
   "id": "0b7a9ba8",
   "metadata": {
    "ExecuteTime": {
     "end_time": "2024-03-26T12:20:30.618317Z",
     "start_time": "2024-03-26T12:20:30.612700Z"
    }
   },
   "outputs": [],
   "source": [
    "import matplotlib.pyplot as plt"
   ]
  },
  {
   "cell_type": "code",
   "execution_count": 73,
   "id": "2d66f2da",
   "metadata": {
    "ExecuteTime": {
     "end_time": "2024-03-26T12:20:31.377434Z",
     "start_time": "2024-03-26T12:20:31.365154Z"
    }
   },
   "outputs": [
    {
     "data": {
      "text/plain": [
       "{'accuracy': [0.7920312285423279,\n",
       "  0.7987499833106995,\n",
       "  0.8043749928474426,\n",
       "  0.8112499713897705,\n",
       "  0.8185937404632568,\n",
       "  0.8299999833106995,\n",
       "  0.836718738079071,\n",
       "  0.8435937762260437,\n",
       "  0.8498437404632568,\n",
       "  0.8539062738418579,\n",
       "  0.8556249737739563,\n",
       "  0.8578125238418579,\n",
       "  0.8592187762260437,\n",
       "  0.859375,\n",
       "  0.8606250286102295,\n",
       "  0.8609374761581421,\n",
       "  0.8628125190734863,\n",
       "  0.8618749976158142,\n",
       "  0.8614062666893005,\n",
       "  0.8623437285423279,\n",
       "  0.8634374737739563,\n",
       "  0.8645312786102295,\n",
       "  0.8646875023841858,\n",
       "  0.8631250262260437,\n",
       "  0.8629687428474426,\n",
       "  0.8646875023841858,\n",
       "  0.8648437261581421,\n",
       "  0.8643749952316284,\n",
       "  0.8648437261581421,\n",
       "  0.8642187714576721,\n",
       "  0.8639062643051147,\n",
       "  0.864062488079071,\n",
       "  0.8635937571525574,\n",
       "  0.8648437261581421,\n",
       "  0.8651562333106995,\n",
       "  0.8657812476158142,\n",
       "  0.8654687404632568,\n",
       "  0.8645312786102295,\n",
       "  0.8650000095367432,\n",
       "  0.8659374713897705,\n",
       "  0.8656250238418579,\n",
       "  0.8665624856948853,\n",
       "  0.8670312762260437,\n",
       "  0.8665624856948853,\n",
       "  0.8659374713897705,\n",
       "  0.8648437261581421,\n",
       "  0.8650000095367432,\n",
       "  0.8659374713897705,\n",
       "  0.8645312786102295,\n",
       "  0.8656250238418579,\n",
       "  0.8670312762260437,\n",
       "  0.866406261920929,\n",
       "  0.866406261920929,\n",
       "  0.8670312762260437,\n",
       "  0.8659374713897705,\n",
       "  0.8656250238418579,\n",
       "  0.8675000071525574,\n",
       "  0.8656250238418579,\n",
       "  0.8660937547683716,\n",
       "  0.8657812476158142,\n",
       "  0.8660937547683716,\n",
       "  0.8656250238418579,\n",
       "  0.8667187690734863,\n",
       "  0.8653125166893005,\n",
       "  0.8659374713897705,\n",
       "  0.8648437261581421,\n",
       "  0.8653125166893005,\n",
       "  0.8662499785423279,\n",
       "  0.8662499785423279,\n",
       "  0.867968738079071,\n",
       "  0.8665624856948853,\n",
       "  0.8654687404632568,\n",
       "  0.8670312762260437,\n",
       "  0.8665624856948853,\n",
       "  0.8673437237739563,\n",
       "  0.8678125143051147,\n",
       "  0.8673437237739563,\n",
       "  0.8653125166893005,\n",
       "  0.8648437261581421,\n",
       "  0.8675000071525574,\n",
       "  0.8667187690734863,\n",
       "  0.866406261920929,\n",
       "  0.8660937547683716,\n",
       "  0.8665624856948853,\n",
       "  0.8667187690734863,\n",
       "  0.8665624856948853,\n",
       "  0.8681250214576721,\n",
       "  0.8654687404632568,\n",
       "  0.866406261920929,\n",
       "  0.8673437237739563,\n",
       "  0.8685937523841858,\n",
       "  0.866406261920929,\n",
       "  0.8671875,\n",
       "  0.8673437237739563,\n",
       "  0.8662499785423279,\n",
       "  0.8673437237739563,\n",
       "  0.8665624856948853,\n",
       "  0.8670312762260437,\n",
       "  0.8689062595367432,\n",
       "  0.8675000071525574],\n",
       " 'loss': [0.5086772441864014,\n",
       "  0.4506104290485382,\n",
       "  0.4335783123970032,\n",
       "  0.4235730469226837,\n",
       "  0.41532179713249207,\n",
       "  0.4073697328567505,\n",
       "  0.39845165610313416,\n",
       "  0.3876323699951172,\n",
       "  0.3761269450187683,\n",
       "  0.3667246103286743,\n",
       "  0.35946664214134216,\n",
       "  0.35425037145614624,\n",
       "  0.35010087490081787,\n",
       "  0.34797534346580505,\n",
       "  0.3459891080856323,\n",
       "  0.343754380941391,\n",
       "  0.342870831489563,\n",
       "  0.3414051830768585,\n",
       "  0.33976107835769653,\n",
       "  0.3388047516345978,\n",
       "  0.3381463885307312,\n",
       "  0.33679646253585815,\n",
       "  0.3366262912750244,\n",
       "  0.33561185002326965,\n",
       "  0.3351280987262726,\n",
       "  0.3352174758911133,\n",
       "  0.3341290354728699,\n",
       "  0.3335994780063629,\n",
       "  0.33348897099494934,\n",
       "  0.3326287567615509,\n",
       "  0.3322969377040863,\n",
       "  0.3316611051559448,\n",
       "  0.3316391110420227,\n",
       "  0.3310467600822449,\n",
       "  0.33057743310928345,\n",
       "  0.3303978741168976,\n",
       "  0.33023321628570557,\n",
       "  0.32975834608078003,\n",
       "  0.3295910358428955,\n",
       "  0.32905226945877075,\n",
       "  0.32994750142097473,\n",
       "  0.3292817771434784,\n",
       "  0.32840701937675476,\n",
       "  0.3281852602958679,\n",
       "  0.32791468501091003,\n",
       "  0.327421098947525,\n",
       "  0.32747241854667664,\n",
       "  0.3276304602622986,\n",
       "  0.32700812816619873,\n",
       "  0.32685524225234985,\n",
       "  0.3268413245677948,\n",
       "  0.32697972655296326,\n",
       "  0.3267509937286377,\n",
       "  0.32592570781707764,\n",
       "  0.3258321285247803,\n",
       "  0.32588422298431396,\n",
       "  0.32536575198173523,\n",
       "  0.3251851201057434,\n",
       "  0.3256182074546814,\n",
       "  0.32464829087257385,\n",
       "  0.32497161626815796,\n",
       "  0.3248414993286133,\n",
       "  0.3246777653694153,\n",
       "  0.32436954975128174,\n",
       "  0.32420310378074646,\n",
       "  0.32429343461990356,\n",
       "  0.32403525710105896,\n",
       "  0.3236818015575409,\n",
       "  0.32357242703437805,\n",
       "  0.3236778974533081,\n",
       "  0.32333147525787354,\n",
       "  0.3234368562698364,\n",
       "  0.3233417868614197,\n",
       "  0.3233353793621063,\n",
       "  0.3234289586544037,\n",
       "  0.32280367612838745,\n",
       "  0.32340025901794434,\n",
       "  0.3224340081214905,\n",
       "  0.32256150245666504,\n",
       "  0.32247865200042725,\n",
       "  0.3225747346878052,\n",
       "  0.32267260551452637,\n",
       "  0.32280081510543823,\n",
       "  0.322051465511322,\n",
       "  0.3219890296459198,\n",
       "  0.3225766122341156,\n",
       "  0.3218991756439209,\n",
       "  0.3224664032459259,\n",
       "  0.3223412036895752,\n",
       "  0.32158219814300537,\n",
       "  0.32198336720466614,\n",
       "  0.3220544755458832,\n",
       "  0.32240501046180725,\n",
       "  0.3209066092967987,\n",
       "  0.32204583287239075,\n",
       "  0.32178056240081787,\n",
       "  0.3217029273509979,\n",
       "  0.3219759464263916,\n",
       "  0.3210234045982361,\n",
       "  0.3212198317050934],\n",
       " 'val_accuracy': [0.7975000143051147,\n",
       "  0.8037499785423279,\n",
       "  0.8087499737739563,\n",
       "  0.8125,\n",
       "  0.815625011920929,\n",
       "  0.824999988079071,\n",
       "  0.8274999856948853,\n",
       "  0.8356249928474426,\n",
       "  0.8381249904632568,\n",
       "  0.84375,\n",
       "  0.8487499952316284,\n",
       "  0.8500000238418579,\n",
       "  0.8506249785423279,\n",
       "  0.8525000214576721,\n",
       "  0.8543750047683716,\n",
       "  0.8487499952316284,\n",
       "  0.8487499952316284,\n",
       "  0.8518750071525574,\n",
       "  0.8543750047683716,\n",
       "  0.8575000166893005,\n",
       "  0.8537499904632568,\n",
       "  0.8537499904632568,\n",
       "  0.8525000214576721,\n",
       "  0.8531249761581421,\n",
       "  0.8543750047683716,\n",
       "  0.8543750047683716,\n",
       "  0.8537499904632568,\n",
       "  0.8525000214576721,\n",
       "  0.8512499928474426,\n",
       "  0.8550000190734863,\n",
       "  0.8487499952316284,\n",
       "  0.8537499904632568,\n",
       "  0.8493750095367432,\n",
       "  0.8537499904632568,\n",
       "  0.8556249737739563,\n",
       "  0.8543750047683716,\n",
       "  0.8543750047683716,\n",
       "  0.8525000214576721,\n",
       "  0.8550000190734863,\n",
       "  0.8518750071525574,\n",
       "  0.856249988079071,\n",
       "  0.8525000214576721,\n",
       "  0.856249988079071,\n",
       "  0.8531249761581421,\n",
       "  0.8525000214576721,\n",
       "  0.8518750071525574,\n",
       "  0.8531249761581421,\n",
       "  0.8543750047683716,\n",
       "  0.8550000190734863,\n",
       "  0.8493750095367432,\n",
       "  0.8543750047683716,\n",
       "  0.8531249761581421,\n",
       "  0.8531249761581421,\n",
       "  0.8518750071525574,\n",
       "  0.8500000238418579,\n",
       "  0.8531249761581421,\n",
       "  0.8512499928474426,\n",
       "  0.8487499952316284,\n",
       "  0.8493750095367432,\n",
       "  0.8493750095367432,\n",
       "  0.8518750071525574,\n",
       "  0.8512499928474426,\n",
       "  0.8518750071525574,\n",
       "  0.8556249737739563,\n",
       "  0.8506249785423279,\n",
       "  0.8493750095367432,\n",
       "  0.8500000238418579,\n",
       "  0.8525000214576721,\n",
       "  0.8506249785423279,\n",
       "  0.8531249761581421,\n",
       "  0.8487499952316284,\n",
       "  0.8500000238418579,\n",
       "  0.8518750071525574,\n",
       "  0.8512499928474426,\n",
       "  0.8537499904632568,\n",
       "  0.8500000238418579,\n",
       "  0.8518750071525574,\n",
       "  0.8531249761581421,\n",
       "  0.856249988079071,\n",
       "  0.8543750047683716,\n",
       "  0.8500000238418579,\n",
       "  0.8525000214576721,\n",
       "  0.8537499904632568,\n",
       "  0.8512499928474426,\n",
       "  0.8587499856948853,\n",
       "  0.8537499904632568,\n",
       "  0.856249988079071,\n",
       "  0.8525000214576721,\n",
       "  0.8543750047683716,\n",
       "  0.8550000190734863,\n",
       "  0.8531249761581421,\n",
       "  0.8506249785423279,\n",
       "  0.8550000190734863,\n",
       "  0.8556249737739563,\n",
       "  0.8537499904632568,\n",
       "  0.8531249761581421,\n",
       "  0.8537499904632568,\n",
       "  0.8556249737739563,\n",
       "  0.8550000190734863,\n",
       "  0.8550000190734863],\n",
       " 'val_loss': [0.47478702664375305,\n",
       "  0.44773733615875244,\n",
       "  0.43204957246780396,\n",
       "  0.42271849513053894,\n",
       "  0.41487520933151245,\n",
       "  0.4066058397293091,\n",
       "  0.39618462324142456,\n",
       "  0.38437601923942566,\n",
       "  0.3729114532470703,\n",
       "  0.36299747228622437,\n",
       "  0.3574649691581726,\n",
       "  0.3542586863040924,\n",
       "  0.35174986720085144,\n",
       "  0.3497350215911865,\n",
       "  0.34848594665527344,\n",
       "  0.3492010533809662,\n",
       "  0.3476680815219879,\n",
       "  0.34830066561698914,\n",
       "  0.34672659635543823,\n",
       "  0.34596842527389526,\n",
       "  0.3462373614311218,\n",
       "  0.34545135498046875,\n",
       "  0.34766194224357605,\n",
       "  0.3463301956653595,\n",
       "  0.3465360403060913,\n",
       "  0.3451283574104309,\n",
       "  0.34746336936950684,\n",
       "  0.34745118021965027,\n",
       "  0.34615153074264526,\n",
       "  0.3459133207798004,\n",
       "  0.34929993748664856,\n",
       "  0.346248060464859,\n",
       "  0.3489764332771301,\n",
       "  0.34504181146621704,\n",
       "  0.34553825855255127,\n",
       "  0.34551143646240234,\n",
       "  0.34600773453712463,\n",
       "  0.3468581438064575,\n",
       "  0.3443765640258789,\n",
       "  0.34624481201171875,\n",
       "  0.3453807830810547,\n",
       "  0.3462142050266266,\n",
       "  0.3451130986213684,\n",
       "  0.3470061421394348,\n",
       "  0.34685710072517395,\n",
       "  0.34780657291412354,\n",
       "  0.345798134803772,\n",
       "  0.3447008430957794,\n",
       "  0.346608430147171,\n",
       "  0.3475830852985382,\n",
       "  0.34516337513923645,\n",
       "  0.3451324701309204,\n",
       "  0.3457387089729309,\n",
       "  0.3461756408214569,\n",
       "  0.3478931188583374,\n",
       "  0.34613677859306335,\n",
       "  0.3461131751537323,\n",
       "  0.3490689992904663,\n",
       "  0.34931331872940063,\n",
       "  0.34817057847976685,\n",
       "  0.3468531370162964,\n",
       "  0.3460134267807007,\n",
       "  0.3471592366695404,\n",
       "  0.3457707464694977,\n",
       "  0.3490693271160126,\n",
       "  0.3489266335964203,\n",
       "  0.34927845001220703,\n",
       "  0.34882980585098267,\n",
       "  0.34829747676849365,\n",
       "  0.3475700318813324,\n",
       "  0.3502531945705414,\n",
       "  0.34971633553504944,\n",
       "  0.34925395250320435,\n",
       "  0.34931236505508423,\n",
       "  0.3496560752391815,\n",
       "  0.35069820284843445,\n",
       "  0.3494816720485687,\n",
       "  0.3485735356807709,\n",
       "  0.34963104128837585,\n",
       "  0.3495081067085266,\n",
       "  0.3499867618083954,\n",
       "  0.34877145290374756,\n",
       "  0.34950873255729675,\n",
       "  0.35106170177459717,\n",
       "  0.35017746686935425,\n",
       "  0.34899455308914185,\n",
       "  0.3492824137210846,\n",
       "  0.3507401645183563,\n",
       "  0.3503752648830414,\n",
       "  0.3514503240585327,\n",
       "  0.3519614338874817,\n",
       "  0.3535199463367462,\n",
       "  0.3497508764266968,\n",
       "  0.35124051570892334,\n",
       "  0.35052692890167236,\n",
       "  0.35016173124313354,\n",
       "  0.3505619764328003,\n",
       "  0.3511935770511627,\n",
       "  0.35029831528663635,\n",
       "  0.3503842055797577]}"
      ]
     },
     "execution_count": 73,
     "metadata": {},
     "output_type": "execute_result"
    }
   ],
   "source": [
    "history.history"
   ]
  },
  {
   "cell_type": "code",
   "execution_count": 74,
   "id": "f72bf51f",
   "metadata": {
    "ExecuteTime": {
     "end_time": "2024-03-26T12:20:32.140284Z",
     "start_time": "2024-03-26T12:20:31.999440Z"
    }
   },
   "outputs": [
    {
     "data": {
      "text/plain": [
       "[<matplotlib.lines.Line2D at 0x22e7bf16d50>]"
      ]
     },
     "execution_count": 74,
     "metadata": {},
     "output_type": "execute_result"
    },
    {
     "data": {
      "image/png": "[encoded data removed]",
      "text/plain": [
       "<Figure size 640x480 with 1 Axes>"
      ]
     },
     "metadata": {},
     "output_type": "display_data"
    }
   ],
   "source": [
    "plt.plot(history.history['loss'])\n",
    "plt.plot(history.history['val_loss'])"
   ]
  },
  {
   "cell_type": "code",
   "execution_count": null,
   "id": "ed6c1643",
   "metadata": {},
   "outputs": [],
   "source": []
  },
  {
   "cell_type": "code",
   "execution_count": null,
   "id": "394ea45c",
   "metadata": {},
   "outputs": [],
   "source": []
  },
  {
   "cell_type": "code",
   "execution_count": null,
   "id": "38e5c081",
   "metadata": {},
   "outputs": [],
   "source": []
  },
  {
   "cell_type": "code",
   "execution_count": null,
   "id": "5ff3aaef",
   "metadata": {},
   "outputs": [],
   "source": []
  },
  {
   "cell_type": "code",
   "execution_count": null,
   "id": "db35cb61",
   "metadata": {},
   "outputs": [],
   "source": []
  }
 ],
 "metadata": {
  "kernelspec": {
   "display_name": "Python 3 (ipykernel)",
   "language": "python",
   "name": "python3"
  },
  "language_info": {
   "codemirror_mode": {
    "name": "ipython",
    "version": 3
   },
   "file_extension": ".py",
   "mimetype": "text/x-python",
   "name": "python",
   "nbconvert_exporter": "python",
   "pygments_lexer": "ipython3",
   "version": "3.11.5"
  },
  "varInspector": {
   "cols": {
    "lenName": 16,
    "lenType": 16,
    "lenVar": 40
   },
   "kernels_config": {
    "python": {
     "delete_cmd_postfix": "",
     "delete_cmd_prefix": "del ",
     "library": "var_list.py",
     "varRefreshCmd": "print(var_dic_list())"
    },
    "r": {
     "delete_cmd_postfix": ") ",
     "delete_cmd_prefix": "rm(",
     "library": "var_list.r",
     "varRefreshCmd": "cat(var_dic_list()) "
    }
   },
   "types_to_exclude": [
    "module",
    "function",
    "builtin_function_or_method",
    "instance",
    "_Feature"
   ],
   "window_display": false
  }
 },
 "nbformat": 4,
 "nbformat_minor": 5
}
