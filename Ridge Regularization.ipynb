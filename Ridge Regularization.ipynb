{
 "cells": [
  {
   "cell_type": "code",
   "execution_count": 2,
   "id": "b4040dc0",
   "metadata": {},
   "outputs": [],
   "source": [
    "import numpy as np \n",
    "import pandas as pd\n",
    "import matplotlib.pyplot as plt"
   ]
  },
  {
   "cell_type": "code",
   "execution_count": 3,
   "id": "2f0549c7",
   "metadata": {},
   "outputs": [],
   "source": [
    "from sklearn.datasets import load_diabetes\n",
    "\n",
    "data = load_diabetes()"
   ]
  },
  {
   "cell_type": "code",
   "execution_count": 4,
   "id": "7a73524c",
   "metadata": {},
   "outputs": [
    {
     "name": "stdout",
     "output_type": "stream",
     "text": [
      ".. _diabetes_dataset:\n",
      "\n",
      "Diabetes dataset\n",
      "----------------\n",
      "\n",
      "Ten baseline variables, age, sex, body mass index, average blood\n",
      "pressure, and six blood serum measurements were obtained for each of n =\n",
      "442 diabetes patients, as well as the response of interest, a\n",
      "quantitative measure of disease progression one year after baseline.\n",
      "\n",
      "**Data Set Characteristics:**\n",
      "\n",
      "  :Number of Instances: 442\n",
      "\n",
      "  :Number of Attributes: First 10 columns are numeric predictive values\n",
      "\n",
      "  :Target: Column 11 is a quantitative measure of disease progression one year after baseline\n",
      "\n",
      "  :Attribute Information:\n",
      "      - age     age in years\n",
      "      - sex\n",
      "      - bmi     body mass index\n",
      "      - bp      average blood pressure\n",
      "      - s1      tc, total serum cholesterol\n",
      "      - s2      ldl, low-density lipoproteins\n",
      "      - s3      hdl, high-density lipoproteins\n",
      "      - s4      tch, total cholesterol / HDL\n",
      "      - s5      ltg, possibly log of serum triglycerides level\n",
      "      - s6      glu, blood sugar level\n",
      "\n",
      "Note: Each of these 10 feature variables have been mean centered and scaled by the standard deviation times the square root of `n_samples` (i.e. the sum of squares of each column totals 1).\n",
      "\n",
      "Source URL:\n",
      "https://www4.stat.ncsu.edu/~boos/var.select/diabetes.html\n",
      "\n",
      "For more information see:\n",
      "Bradley Efron, Trevor Hastie, Iain Johnstone and Robert Tibshirani (2004) \"Least Angle Regression,\" Annals of Statistics (with discussion), 407-499.\n",
      "(https://web.stanford.edu/~hastie/Papers/LARS/LeastAngle_2002.pdf)\n",
      "\n"
     ]
    }
   ],
   "source": [
    "print(data.DESCR)"
   ]
  },
  {
   "cell_type": "code",
   "execution_count": 5,
   "id": "205f65bf",
   "metadata": {},
   "outputs": [
    {
     "data": {
      "text/plain": [
       "{'data': array([[ 0.03807591,  0.05068012,  0.06169621, ..., -0.00259226,\n",
       "          0.01990749, -0.01764613],\n",
       "        [-0.00188202, -0.04464164, -0.05147406, ..., -0.03949338,\n",
       "         -0.06833155, -0.09220405],\n",
       "        [ 0.08529891,  0.05068012,  0.04445121, ..., -0.00259226,\n",
       "          0.00286131, -0.02593034],\n",
       "        ...,\n",
       "        [ 0.04170844,  0.05068012, -0.01590626, ..., -0.01107952,\n",
       "         -0.04688253,  0.01549073],\n",
       "        [-0.04547248, -0.04464164,  0.03906215, ...,  0.02655962,\n",
       "          0.04452873, -0.02593034],\n",
       "        [-0.04547248, -0.04464164, -0.0730303 , ..., -0.03949338,\n",
       "         -0.00422151,  0.00306441]]),\n",
       " 'target': array([151.,  75., 141., 206., 135.,  97., 138.,  63., 110., 310., 101.,\n",
       "         69., 179., 185., 118., 171., 166., 144.,  97., 168.,  68.,  49.,\n",
       "         68., 245., 184., 202., 137.,  85., 131., 283., 129.,  59., 341.,\n",
       "         87.,  65., 102., 265., 276., 252.,  90., 100.,  55.,  61.,  92.,\n",
       "        259.,  53., 190., 142.,  75., 142., 155., 225.,  59., 104., 182.,\n",
       "        128.,  52.,  37., 170., 170.,  61., 144.,  52., 128.,  71., 163.,\n",
       "        150.,  97., 160., 178.,  48., 270., 202., 111.,  85.,  42., 170.,\n",
       "        200., 252., 113., 143.,  51.,  52., 210.,  65., 141.,  55., 134.,\n",
       "         42., 111.,  98., 164.,  48.,  96.,  90., 162., 150., 279.,  92.,\n",
       "         83., 128., 102., 302., 198.,  95.,  53., 134., 144., 232.,  81.,\n",
       "        104.,  59., 246., 297., 258., 229., 275., 281., 179., 200., 200.,\n",
       "        173., 180.,  84., 121., 161.,  99., 109., 115., 268., 274., 158.,\n",
       "        107.,  83., 103., 272.,  85., 280., 336., 281., 118., 317., 235.,\n",
       "         60., 174., 259., 178., 128.,  96., 126., 288.,  88., 292.,  71.,\n",
       "        197., 186.,  25.,  84.,  96., 195.,  53., 217., 172., 131., 214.,\n",
       "         59.,  70., 220., 268., 152.,  47.,  74., 295., 101., 151., 127.,\n",
       "        237., 225.,  81., 151., 107.,  64., 138., 185., 265., 101., 137.,\n",
       "        143., 141.,  79., 292., 178.,  91., 116.,  86., 122.,  72., 129.,\n",
       "        142.,  90., 158.,  39., 196., 222., 277.,  99., 196., 202., 155.,\n",
       "         77., 191.,  70.,  73.,  49.,  65., 263., 248., 296., 214., 185.,\n",
       "         78.,  93., 252., 150.,  77., 208.,  77., 108., 160.,  53., 220.,\n",
       "        154., 259.,  90., 246., 124.,  67.,  72., 257., 262., 275., 177.,\n",
       "         71.,  47., 187., 125.,  78.,  51., 258., 215., 303., 243.,  91.,\n",
       "        150., 310., 153., 346.,  63.,  89.,  50.,  39., 103., 308., 116.,\n",
       "        145.,  74.,  45., 115., 264.,  87., 202., 127., 182., 241.,  66.,\n",
       "         94., 283.,  64., 102., 200., 265.,  94., 230., 181., 156., 233.,\n",
       "         60., 219.,  80.,  68., 332., 248.,  84., 200.,  55.,  85.,  89.,\n",
       "         31., 129.,  83., 275.,  65., 198., 236., 253., 124.,  44., 172.,\n",
       "        114., 142., 109., 180., 144., 163., 147.,  97., 220., 190., 109.,\n",
       "        191., 122., 230., 242., 248., 249., 192., 131., 237.,  78., 135.,\n",
       "        244., 199., 270., 164.,  72.,  96., 306.,  91., 214.,  95., 216.,\n",
       "        263., 178., 113., 200., 139., 139.,  88., 148.,  88., 243.,  71.,\n",
       "         77., 109., 272.,  60.,  54., 221.,  90., 311., 281., 182., 321.,\n",
       "         58., 262., 206., 233., 242., 123., 167.,  63., 197.,  71., 168.,\n",
       "        140., 217., 121., 235., 245.,  40.,  52., 104., 132.,  88.,  69.,\n",
       "        219.,  72., 201., 110.,  51., 277.,  63., 118.,  69., 273., 258.,\n",
       "         43., 198., 242., 232., 175.,  93., 168., 275., 293., 281.,  72.,\n",
       "        140., 189., 181., 209., 136., 261., 113., 131., 174., 257.,  55.,\n",
       "         84.,  42., 146., 212., 233.,  91., 111., 152., 120.,  67., 310.,\n",
       "         94., 183.,  66., 173.,  72.,  49.,  64.,  48., 178., 104., 132.,\n",
       "        220.,  57.]),\n",
       " 'frame': None,\n",
       " 'DESCR': '.. _diabetes_dataset:\\n\\nDiabetes dataset\\n----------------\\n\\nTen baseline variables, age, sex, body mass index, average blood\\npressure, and six blood serum measurements were obtained for each of n =\\n442 diabetes patients, as well as the response of interest, a\\nquantitative measure of disease progression one year after baseline.\\n\\n**Data Set Characteristics:**\\n\\n  :Number of Instances: 442\\n\\n  :Number of Attributes: First 10 columns are numeric predictive values\\n\\n  :Target: Column 11 is a quantitative measure of disease progression one year after baseline\\n\\n  :Attribute Information:\\n      - age     age in years\\n      - sex\\n      - bmi     body mass index\\n      - bp      average blood pressure\\n      - s1      tc, total serum cholesterol\\n      - s2      ldl, low-density lipoproteins\\n      - s3      hdl, high-density lipoproteins\\n      - s4      tch, total cholesterol / HDL\\n      - s5      ltg, possibly log of serum triglycerides level\\n      - s6      glu, blood sugar level\\n\\nNote: Each of these 10 feature variables have been mean centered and scaled by the standard deviation times the square root of `n_samples` (i.e. the sum of squares of each column totals 1).\\n\\nSource URL:\\nhttps://www4.stat.ncsu.edu/~boos/var.select/diabetes.html\\n\\nFor more information see:\\nBradley Efron, Trevor Hastie, Iain Johnstone and Robert Tibshirani (2004) \"Least Angle Regression,\" Annals of Statistics (with discussion), 407-499.\\n(https://web.stanford.edu/~hastie/Papers/LARS/LeastAngle_2002.pdf)\\n',\n",
       " 'feature_names': ['age',\n",
       "  'sex',\n",
       "  'bmi',\n",
       "  'bp',\n",
       "  's1',\n",
       "  's2',\n",
       "  's3',\n",
       "  's4',\n",
       "  's5',\n",
       "  's6'],\n",
       " 'data_filename': 'diabetes_data_raw.csv.gz',\n",
       " 'target_filename': 'diabetes_target.csv.gz',\n",
       " 'data_module': 'sklearn.datasets.data'}"
      ]
     },
     "execution_count": 5,
     "metadata": {},
     "output_type": "execute_result"
    }
   ],
   "source": [
    "data"
   ]
  },
  {
   "cell_type": "code",
   "execution_count": 6,
   "id": "da82f143",
   "metadata": {},
   "outputs": [],
   "source": [
    "X = data.data\n",
    "y = data.target"
   ]
  },
  {
   "cell_type": "code",
   "execution_count": 7,
   "id": "cbe451d2",
   "metadata": {},
   "outputs": [],
   "source": [
    "from sklearn.model_selection import train_test_split\n",
    "X_train, X_test, y_train, y_test = train_test_split(X, y, test_size=0.2, random_state=45)"
   ]
  },
  {
   "cell_type": "code",
   "execution_count": 8,
   "id": "eb79c5d8",
   "metadata": {},
   "outputs": [],
   "source": [
    "from sklearn.linear_model import LinearRegression\n",
    "lr = LinearRegression()"
   ]
  },
  {
   "cell_type": "code",
   "execution_count": 9,
   "id": "8f1fd709",
   "metadata": {},
   "outputs": [
    {
     "data": {
      "text/html": [
       "<style>#sk-container-id-1 {color: black;}#sk-container-id-1 pre{padding: 0;}#sk-container-id-1 div.sk-toggleable {background-color: white;}#sk-container-id-1 label.sk-toggleable__label {cursor: pointer;display: block;width: 100%;margin-bottom: 0;padding: 0.3em;box-sizing: border-box;text-align: center;}#sk-container-id-1 label.sk-toggleable__label-arrow:before {content: \"▸\";float: left;margin-right: 0.25em;color: #696969;}#sk-container-id-1 label.sk-toggleable__label-arrow:hover:before {color: black;}#sk-container-id-1 div.sk-estimator:hover label.sk-toggleable__label-arrow:before {color: black;}#sk-container-id-1 div.sk-toggleable__content {max-height: 0;max-width: 0;overflow: hidden;text-align: left;background-color: #f0f8ff;}#sk-container-id-1 div.sk-toggleable__content pre {margin: 0.2em;color: black;border-radius: 0.25em;background-color: #f0f8ff;}#sk-container-id-1 input.sk-toggleable__control:checked~div.sk-toggleable__content {max-height: 200px;max-width: 100%;overflow: auto;}#sk-container-id-1 input.sk-toggleable__control:checked~label.sk-toggleable__label-arrow:before {content: \"▾\";}#sk-container-id-1 div.sk-estimator input.sk-toggleable__control:checked~label.sk-toggleable__label {background-color: #d4ebff;}#sk-container-id-1 div.sk-label input.sk-toggleable__control:checked~label.sk-toggleable__label {background-color: #d4ebff;}#sk-container-id-1 input.sk-hidden--visually {border: 0;clip: rect(1px 1px 1px 1px);clip: rect(1px, 1px, 1px, 1px);height: 1px;margin: -1px;overflow: hidden;padding: 0;position: absolute;width: 1px;}#sk-container-id-1 div.sk-estimator {font-family: monospace;background-color: #f0f8ff;border: 1px dotted black;border-radius: 0.25em;box-sizing: border-box;margin-bottom: 0.5em;}#sk-container-id-1 div.sk-estimator:hover {background-color: #d4ebff;}#sk-container-id-1 div.sk-parallel-item::after {content: \"\";width: 100%;border-bottom: 1px solid gray;flex-grow: 1;}#sk-container-id-1 div.sk-label:hover label.sk-toggleable__label {background-color: #d4ebff;}#sk-container-id-1 div.sk-serial::before {content: \"\";position: absolute;border-left: 1px solid gray;box-sizing: border-box;top: 0;bottom: 0;left: 50%;z-index: 0;}#sk-container-id-1 div.sk-serial {display: flex;flex-direction: column;align-items: center;background-color: white;padding-right: 0.2em;padding-left: 0.2em;position: relative;}#sk-container-id-1 div.sk-item {position: relative;z-index: 1;}#sk-container-id-1 div.sk-parallel {display: flex;align-items: stretch;justify-content: center;background-color: white;position: relative;}#sk-container-id-1 div.sk-item::before, #sk-container-id-1 div.sk-parallel-item::before {content: \"\";position: absolute;border-left: 1px solid gray;box-sizing: border-box;top: 0;bottom: 0;left: 50%;z-index: -1;}#sk-container-id-1 div.sk-parallel-item {display: flex;flex-direction: column;z-index: 1;position: relative;background-color: white;}#sk-container-id-1 div.sk-parallel-item:first-child::after {align-self: flex-end;width: 50%;}#sk-container-id-1 div.sk-parallel-item:last-child::after {align-self: flex-start;width: 50%;}#sk-container-id-1 div.sk-parallel-item:only-child::after {width: 0;}#sk-container-id-1 div.sk-dashed-wrapped {border: 1px dashed gray;margin: 0 0.4em 0.5em 0.4em;box-sizing: border-box;padding-bottom: 0.4em;background-color: white;}#sk-container-id-1 div.sk-label label {font-family: monospace;font-weight: bold;display: inline-block;line-height: 1.2em;}#sk-container-id-1 div.sk-label-container {text-align: center;}#sk-container-id-1 div.sk-container {/* jupyter's `normalize.less` sets `[hidden] { display: none; }` but bootstrap.min.css set `[hidden] { display: none !important; }` so we also need the `!important` here to be able to override the default hidden behavior on the sphinx rendered scikit-learn.org. See: https://github.com/scikit-learn/scikit-learn/issues/21755 */display: inline-block !important;position: relative;}#sk-container-id-1 div.sk-text-repr-fallback {display: none;}</style><div id=\"sk-container-id-1\" class=\"sk-top-container\"><div class=\"sk-text-repr-fallback\"><pre>LinearRegression()</pre><b>In a Jupyter environment, please rerun this cell to show the HTML representation or trust the notebook. <br />On GitHub, the HTML representation is unable to render, please try loading this page with nbviewer.org.</b></div><div class=\"sk-container\" hidden><div class=\"sk-item\"><div class=\"sk-estimator sk-toggleable\"><input class=\"sk-toggleable__control sk-hidden--visually\" id=\"sk-estimator-id-1\" type=\"checkbox\" checked><label for=\"sk-estimator-id-1\" class=\"sk-toggleable__label sk-toggleable__label-arrow\">LinearRegression</label><div class=\"sk-toggleable__content\"><pre>LinearRegression()</pre></div></div></div></div></div>"
      ],
      "text/plain": [
       "LinearRegression()"
      ]
     },
     "execution_count": 9,
     "metadata": {},
     "output_type": "execute_result"
    }
   ],
   "source": [
    "lr.fit(X_train, y_train)"
   ]
  },
  {
   "cell_type": "code",
   "execution_count": 10,
   "id": "ef6ada14",
   "metadata": {},
   "outputs": [],
   "source": [
    "y_pred = lr.predict(X_test)"
   ]
  },
  {
   "cell_type": "code",
   "execution_count": 13,
   "id": "6934fd95",
   "metadata": {},
   "outputs": [
    {
     "name": "stdout",
     "output_type": "stream",
     "text": [
      "R2 Score :  0.5188113124539249\n",
      "RMSE :  48.72713760953253\n"
     ]
    }
   ],
   "source": [
    "from sklearn.metrics import r2_score, mean_squared_error\n",
    "\n",
    "print(\"R2 Score : \",r2_score(y_test, y_pred))\n",
    "print(\"RMSE : \",np.sqrt(mean_squared_error(y_test, y_pred)))"
   ]
  },
  {
   "cell_type": "code",
   "execution_count": 14,
   "id": "641a0773",
   "metadata": {},
   "outputs": [],
   "source": [
    "from sklearn.linear_model import Ridge\n",
    "r = Ridge(alpha=0.0001)"
   ]
  },
  {
   "cell_type": "code",
   "execution_count": 15,
   "id": "d260e445",
   "metadata": {},
   "outputs": [
    {
     "data": {
      "text/html": [
       "<style>#sk-container-id-2 {color: black;}#sk-container-id-2 pre{padding: 0;}#sk-container-id-2 div.sk-toggleable {background-color: white;}#sk-container-id-2 label.sk-toggleable__label {cursor: pointer;display: block;width: 100%;margin-bottom: 0;padding: 0.3em;box-sizing: border-box;text-align: center;}#sk-container-id-2 label.sk-toggleable__label-arrow:before {content: \"▸\";float: left;margin-right: 0.25em;color: #696969;}#sk-container-id-2 label.sk-toggleable__label-arrow:hover:before {color: black;}#sk-container-id-2 div.sk-estimator:hover label.sk-toggleable__label-arrow:before {color: black;}#sk-container-id-2 div.sk-toggleable__content {max-height: 0;max-width: 0;overflow: hidden;text-align: left;background-color: #f0f8ff;}#sk-container-id-2 div.sk-toggleable__content pre {margin: 0.2em;color: black;border-radius: 0.25em;background-color: #f0f8ff;}#sk-container-id-2 input.sk-toggleable__control:checked~div.sk-toggleable__content {max-height: 200px;max-width: 100%;overflow: auto;}#sk-container-id-2 input.sk-toggleable__control:checked~label.sk-toggleable__label-arrow:before {content: \"▾\";}#sk-container-id-2 div.sk-estimator input.sk-toggleable__control:checked~label.sk-toggleable__label {background-color: #d4ebff;}#sk-container-id-2 div.sk-label input.sk-toggleable__control:checked~label.sk-toggleable__label {background-color: #d4ebff;}#sk-container-id-2 input.sk-hidden--visually {border: 0;clip: rect(1px 1px 1px 1px);clip: rect(1px, 1px, 1px, 1px);height: 1px;margin: -1px;overflow: hidden;padding: 0;position: absolute;width: 1px;}#sk-container-id-2 div.sk-estimator {font-family: monospace;background-color: #f0f8ff;border: 1px dotted black;border-radius: 0.25em;box-sizing: border-box;margin-bottom: 0.5em;}#sk-container-id-2 div.sk-estimator:hover {background-color: #d4ebff;}#sk-container-id-2 div.sk-parallel-item::after {content: \"\";width: 100%;border-bottom: 1px solid gray;flex-grow: 1;}#sk-container-id-2 div.sk-label:hover label.sk-toggleable__label {background-color: #d4ebff;}#sk-container-id-2 div.sk-serial::before {content: \"\";position: absolute;border-left: 1px solid gray;box-sizing: border-box;top: 0;bottom: 0;left: 50%;z-index: 0;}#sk-container-id-2 div.sk-serial {display: flex;flex-direction: column;align-items: center;background-color: white;padding-right: 0.2em;padding-left: 0.2em;position: relative;}#sk-container-id-2 div.sk-item {position: relative;z-index: 1;}#sk-container-id-2 div.sk-parallel {display: flex;align-items: stretch;justify-content: center;background-color: white;position: relative;}#sk-container-id-2 div.sk-item::before, #sk-container-id-2 div.sk-parallel-item::before {content: \"\";position: absolute;border-left: 1px solid gray;box-sizing: border-box;top: 0;bottom: 0;left: 50%;z-index: -1;}#sk-container-id-2 div.sk-parallel-item {display: flex;flex-direction: column;z-index: 1;position: relative;background-color: white;}#sk-container-id-2 div.sk-parallel-item:first-child::after {align-self: flex-end;width: 50%;}#sk-container-id-2 div.sk-parallel-item:last-child::after {align-self: flex-start;width: 50%;}#sk-container-id-2 div.sk-parallel-item:only-child::after {width: 0;}#sk-container-id-2 div.sk-dashed-wrapped {border: 1px dashed gray;margin: 0 0.4em 0.5em 0.4em;box-sizing: border-box;padding-bottom: 0.4em;background-color: white;}#sk-container-id-2 div.sk-label label {font-family: monospace;font-weight: bold;display: inline-block;line-height: 1.2em;}#sk-container-id-2 div.sk-label-container {text-align: center;}#sk-container-id-2 div.sk-container {/* jupyter's `normalize.less` sets `[hidden] { display: none; }` but bootstrap.min.css set `[hidden] { display: none !important; }` so we also need the `!important` here to be able to override the default hidden behavior on the sphinx rendered scikit-learn.org. See: https://github.com/scikit-learn/scikit-learn/issues/21755 */display: inline-block !important;position: relative;}#sk-container-id-2 div.sk-text-repr-fallback {display: none;}</style><div id=\"sk-container-id-2\" class=\"sk-top-container\"><div class=\"sk-text-repr-fallback\"><pre>Ridge(alpha=0.0001)</pre><b>In a Jupyter environment, please rerun this cell to show the HTML representation or trust the notebook. <br />On GitHub, the HTML representation is unable to render, please try loading this page with nbviewer.org.</b></div><div class=\"sk-container\" hidden><div class=\"sk-item\"><div class=\"sk-estimator sk-toggleable\"><input class=\"sk-toggleable__control sk-hidden--visually\" id=\"sk-estimator-id-2\" type=\"checkbox\" checked><label for=\"sk-estimator-id-2\" class=\"sk-toggleable__label sk-toggleable__label-arrow\">Ridge</label><div class=\"sk-toggleable__content\"><pre>Ridge(alpha=0.0001)</pre></div></div></div></div></div>"
      ],
      "text/plain": [
       "Ridge(alpha=0.0001)"
      ]
     },
     "execution_count": 15,
     "metadata": {},
     "output_type": "execute_result"
    }
   ],
   "source": [
    "r.fit(X_train, y_train)"
   ]
  },
  {
   "cell_type": "code",
   "execution_count": 16,
   "id": "4196544a",
   "metadata": {},
   "outputs": [],
   "source": [
    "y_pred = r.predict(X_test)"
   ]
  },
  {
   "cell_type": "code",
   "execution_count": 17,
   "id": "dd1abd4c",
   "metadata": {},
   "outputs": [
    {
     "name": "stdout",
     "output_type": "stream",
     "text": [
      "R2 Score :  0.5189732635884963\n",
      "RMSE :  48.7189370018195\n"
     ]
    }
   ],
   "source": [
    "print(\"R2 Score : \",r2_score(y_test, y_pred))\n",
    "print(\"RMSE : \",np.sqrt(mean_squared_error(y_test, y_pred)))"
   ]
  },
  {
   "cell_type": "markdown",
   "id": "27593cc8",
   "metadata": {},
   "source": [
    "# # Ridge Regression Own"
   ]
  },
  {
   "cell_type": "code",
   "execution_count": 1,
   "id": "42017d4e",
   "metadata": {},
   "outputs": [],
   "source": [
    "from sklearn.datasets import make_regression\n",
    "import matplotlib.pyplot as plt\n",
    "import numpy as np"
   ]
  },
  {
   "cell_type": "code",
   "execution_count": 2,
   "id": "5313cc85",
   "metadata": {},
   "outputs": [],
   "source": [
    "X, y = make_regression(n_samples=100, n_features=1, n_informative=1, n_targets=1, noise=20, random_state=13)"
   ]
  },
  {
   "cell_type": "code",
   "execution_count": 3,
   "id": "2a3c062e",
   "metadata": {},
   "outputs": [
    {
     "data": {
      "text/plain": [
       "<matplotlib.collections.PathCollection at 0x19c22397390>"
      ]
     },
     "execution_count": 3,
     "metadata": {},
     "output_type": "execute_result"
    },
    {
     "data": {
      "image/png": "[encoded data removed]",
      "text/plain": [
       "<Figure size 640x480 with 1 Axes>"
      ]
     },
     "metadata": {},
     "output_type": "display_data"
    }
   ],
   "source": [
    "plt.scatter(X, y)"
   ]
  },
  {
   "cell_type": "code",
   "execution_count": 4,
   "id": "920e7298",
   "metadata": {},
   "outputs": [],
   "source": [
    "from sklearn.linear_model import LinearRegression"
   ]
  },
  {
   "cell_type": "code",
   "execution_count": 6,
   "id": "b381cedb",
   "metadata": {},
   "outputs": [
    {
     "name": "stdout",
     "output_type": "stream",
     "text": [
      "[27.82809103] -2.29474455867698\n"
     ]
    }
   ],
   "source": [
    "lr = LinearRegression()\n",
    "lr.fit(X, y)\n",
    "print(lr.coef_, lr.intercept_)"
   ]
  },
  {
   "cell_type": "code",
   "execution_count": 7,
   "id": "a373db71",
   "metadata": {},
   "outputs": [],
   "source": [
    "from sklearn.linear_model import Ridge"
   ]
  },
  {
   "cell_type": "code",
   "execution_count": 11,
   "id": "0eaff757",
   "metadata": {},
   "outputs": [
    {
     "name": "stdout",
     "output_type": "stream",
     "text": [
      "[24.9546267] -2.1269130035235726\n"
     ]
    }
   ],
   "source": [
    "rr = Ridge(alpha = 10)\n",
    "rr.fit(X, y)\n",
    "print(rr.coef_, rr.intercept_)"
   ]
  },
  {
   "cell_type": "code",
   "execution_count": 10,
   "id": "a8464780",
   "metadata": {},
   "outputs": [
    {
     "name": "stdout",
     "output_type": "stream",
     "text": [
      "[12.93442104] -1.4248441496033308\n"
     ]
    }
   ],
   "source": [
    "rr1 = Ridge(alpha = 100)\n",
    "rr1.fit(X, y)\n",
    "print(rr1.coef_, rr1.intercept_)"
   ]
  },
  {
   "cell_type": "code",
   "execution_count": 12,
   "id": "54b6a1d3",
   "metadata": {},
   "outputs": [
    {
     "data": {
      "text/plain": [
       "<matplotlib.legend.Legend at 0x19c21d23590>"
      ]
     },
     "execution_count": 12,
     "metadata": {},
     "output_type": "execute_result"
    },
    {
     "data": {
      "image/png": "[encoded data removed]",
      "text/plain": [
       "<Figure size 640x480 with 1 Axes>"
      ]
     },
     "metadata": {},
     "output_type": "display_data"
    }
   ],
   "source": [
    "plt.plot(X, y, 'b.')\n",
    "plt.plot(X, lr.predict(X), color=\"red\",label=\"Alpha=0\")\n",
    "plt.plot(X, rr.predict(X), color=\"green\",label=\"Alpha=10\")\n",
    "plt.plot(X, rr1.predict(X), color=\"orange\",label=\"Alpha=100\")\n",
    "plt.legend()"
   ]
  },
  {
   "cell_type": "code",
   "execution_count": 18,
   "id": "cc609db8",
   "metadata": {},
   "outputs": [],
   "source": [
    "class MeraRidge:\n",
    "    \n",
    "    def __init__(self, alpha=0.1):\n",
    "        self.alpha = alpha\n",
    "        self.m = None\n",
    "        self.b = None\n",
    "        \n",
    "    def fit(self, X_train, y_train):\n",
    "        \n",
    "        num = 0\n",
    "        den = 0\n",
    "        \n",
    "        for i in range(X_train.shape[0]):\n",
    "            num = num + (y_train[i] - y_train.mean()) * (X_train[i] - X_train.mean())\n",
    "            den = den + (X_train[i] - X_train.mean()) * (X_train[i] - X_train.mean())\n",
    "        \n",
    "        \n",
    "        self.m = num/(den + self.alpha)\n",
    "        self.b = y_train.mean() - (self.m* X_train.mean())\n",
    "        \n",
    "        print(self.m, self.b)\n",
    "        \n",
    "    def predict(self, X_test):\n",
    "        return self.m * X_test + self.b\n",
    "        "
   ]
  },
  {
   "cell_type": "code",
   "execution_count": 23,
   "id": "2ea885e7",
   "metadata": {},
   "outputs": [],
   "source": [
    "mr = MeraRidge(alpha=10)"
   ]
  },
  {
   "cell_type": "code",
   "execution_count": 24,
   "id": "b8069956",
   "metadata": {},
   "outputs": [
    {
     "name": "stdout",
     "output_type": "stream",
     "text": [
      "[24.9546267] [-2.126913]\n"
     ]
    }
   ],
   "source": [
    "mr.fit(X, y)"
   ]
  },
  {
   "cell_type": "markdown",
   "id": "46b0304b",
   "metadata": {},
   "source": [
    "# Creating Own RiDge own Multi Column data"
   ]
  },
  {
   "cell_type": "code",
   "execution_count": 2,
   "id": "f8f9d291",
   "metadata": {},
   "outputs": [],
   "source": [
    "from sklearn.datasets import load_diabetes\n",
    "from sklearn.metrics import r2_score\n",
    "import numpy as np"
   ]
  },
  {
   "cell_type": "code",
   "execution_count": 3,
   "id": "494c37ee",
   "metadata": {},
   "outputs": [],
   "source": [
    "X, y = load_diabetes(return_X_y=True)"
   ]
  },
  {
   "cell_type": "code",
   "execution_count": 4,
   "id": "6827a250",
   "metadata": {},
   "outputs": [],
   "source": [
    "from sklearn.model_selection import train_test_split"
   ]
  },
  {
   "cell_type": "code",
   "execution_count": 5,
   "id": "a4a09f87",
   "metadata": {},
   "outputs": [],
   "source": [
    "X_train, X_test, y_train, y_test = train_test_split(X, y, test_size=0.2, random_state=4)"
   ]
  },
  {
   "cell_type": "code",
   "execution_count": 6,
   "id": "6ab6facb",
   "metadata": {},
   "outputs": [],
   "source": [
    "from sklearn.linear_model import Ridge"
   ]
  },
  {
   "cell_type": "code",
   "execution_count": 7,
   "id": "8a3dd476",
   "metadata": {},
   "outputs": [],
   "source": [
    "reg = Ridge(alpha=0.1, solver='cholesky')"
   ]
  },
  {
   "cell_type": "code",
   "execution_count": 8,
   "id": "fc5c3658",
   "metadata": {},
   "outputs": [
    {
     "data": {
      "text/html": [
       "<style>#sk-container-id-1 {color: black;}#sk-container-id-1 pre{padding: 0;}#sk-container-id-1 div.sk-toggleable {background-color: white;}#sk-container-id-1 label.sk-toggleable__label {cursor: pointer;display: block;width: 100%;margin-bottom: 0;padding: 0.3em;box-sizing: border-box;text-align: center;}#sk-container-id-1 label.sk-toggleable__label-arrow:before {content: \"▸\";float: left;margin-right: 0.25em;color: #696969;}#sk-container-id-1 label.sk-toggleable__label-arrow:hover:before {color: black;}#sk-container-id-1 div.sk-estimator:hover label.sk-toggleable__label-arrow:before {color: black;}#sk-container-id-1 div.sk-toggleable__content {max-height: 0;max-width: 0;overflow: hidden;text-align: left;background-color: #f0f8ff;}#sk-container-id-1 div.sk-toggleable__content pre {margin: 0.2em;color: black;border-radius: 0.25em;background-color: #f0f8ff;}#sk-container-id-1 input.sk-toggleable__control:checked~div.sk-toggleable__content {max-height: 200px;max-width: 100%;overflow: auto;}#sk-container-id-1 input.sk-toggleable__control:checked~label.sk-toggleable__label-arrow:before {content: \"▾\";}#sk-container-id-1 div.sk-estimator input.sk-toggleable__control:checked~label.sk-toggleable__label {background-color: #d4ebff;}#sk-container-id-1 div.sk-label input.sk-toggleable__control:checked~label.sk-toggleable__label {background-color: #d4ebff;}#sk-container-id-1 input.sk-hidden--visually {border: 0;clip: rect(1px 1px 1px 1px);clip: rect(1px, 1px, 1px, 1px);height: 1px;margin: -1px;overflow: hidden;padding: 0;position: absolute;width: 1px;}#sk-container-id-1 div.sk-estimator {font-family: monospace;background-color: #f0f8ff;border: 1px dotted black;border-radius: 0.25em;box-sizing: border-box;margin-bottom: 0.5em;}#sk-container-id-1 div.sk-estimator:hover {background-color: #d4ebff;}#sk-container-id-1 div.sk-parallel-item::after {content: \"\";width: 100%;border-bottom: 1px solid gray;flex-grow: 1;}#sk-container-id-1 div.sk-label:hover label.sk-toggleable__label {background-color: #d4ebff;}#sk-container-id-1 div.sk-serial::before {content: \"\";position: absolute;border-left: 1px solid gray;box-sizing: border-box;top: 0;bottom: 0;left: 50%;z-index: 0;}#sk-container-id-1 div.sk-serial {display: flex;flex-direction: column;align-items: center;background-color: white;padding-right: 0.2em;padding-left: 0.2em;position: relative;}#sk-container-id-1 div.sk-item {position: relative;z-index: 1;}#sk-container-id-1 div.sk-parallel {display: flex;align-items: stretch;justify-content: center;background-color: white;position: relative;}#sk-container-id-1 div.sk-item::before, #sk-container-id-1 div.sk-parallel-item::before {content: \"\";position: absolute;border-left: 1px solid gray;box-sizing: border-box;top: 0;bottom: 0;left: 50%;z-index: -1;}#sk-container-id-1 div.sk-parallel-item {display: flex;flex-direction: column;z-index: 1;position: relative;background-color: white;}#sk-container-id-1 div.sk-parallel-item:first-child::after {align-self: flex-end;width: 50%;}#sk-container-id-1 div.sk-parallel-item:last-child::after {align-self: flex-start;width: 50%;}#sk-container-id-1 div.sk-parallel-item:only-child::after {width: 0;}#sk-container-id-1 div.sk-dashed-wrapped {border: 1px dashed gray;margin: 0 0.4em 0.5em 0.4em;box-sizing: border-box;padding-bottom: 0.4em;background-color: white;}#sk-container-id-1 div.sk-label label {font-family: monospace;font-weight: bold;display: inline-block;line-height: 1.2em;}#sk-container-id-1 div.sk-label-container {text-align: center;}#sk-container-id-1 div.sk-container {/* jupyter's `normalize.less` sets `[hidden] { display: none; }` but bootstrap.min.css set `[hidden] { display: none !important; }` so we also need the `!important` here to be able to override the default hidden behavior on the sphinx rendered scikit-learn.org. See: https://github.com/scikit-learn/scikit-learn/issues/21755 */display: inline-block !important;position: relative;}#sk-container-id-1 div.sk-text-repr-fallback {display: none;}</style><div id=\"sk-container-id-1\" class=\"sk-top-container\"><div class=\"sk-text-repr-fallback\"><pre>Ridge(alpha=0.1, solver=&#x27;cholesky&#x27;)</pre><b>In a Jupyter environment, please rerun this cell to show the HTML representation or trust the notebook. <br />On GitHub, the HTML representation is unable to render, please try loading this page with nbviewer.org.</b></div><div class=\"sk-container\" hidden><div class=\"sk-item\"><div class=\"sk-estimator sk-toggleable\"><input class=\"sk-toggleable__control sk-hidden--visually\" id=\"sk-estimator-id-1\" type=\"checkbox\" checked><label for=\"sk-estimator-id-1\" class=\"sk-toggleable__label sk-toggleable__label-arrow\">Ridge</label><div class=\"sk-toggleable__content\"><pre>Ridge(alpha=0.1, solver=&#x27;cholesky&#x27;)</pre></div></div></div></div></div>"
      ],
      "text/plain": [
       "Ridge(alpha=0.1, solver='cholesky')"
      ]
     },
     "execution_count": 8,
     "metadata": {},
     "output_type": "execute_result"
    }
   ],
   "source": [
    "reg.fit(X_train, y_train)"
   ]
  },
  {
   "cell_type": "code",
   "execution_count": 9,
   "id": "1a0ee30b",
   "metadata": {},
   "outputs": [
    {
     "data": {
      "text/plain": [
       "0.46931288533098015"
      ]
     },
     "execution_count": 9,
     "metadata": {},
     "output_type": "execute_result"
    }
   ],
   "source": [
    "y_pred = reg.predict(X_test)\n",
    "r2_score(y_test, y_pred)"
   ]
  },
  {
   "cell_type": "code",
   "execution_count": 11,
   "id": "a7c2a0e7",
   "metadata": {},
   "outputs": [
    {
     "name": "stdout",
     "output_type": "stream",
     "text": [
      "[  44.02063391 -241.69329987  452.98665299  332.04420177  -76.33686744\n",
      "  -68.52143809 -164.98809083  149.96908118  431.61347417   58.51862681]\n",
      "150.89053425602808\n"
     ]
    }
   ],
   "source": [
    "print(reg.coef_)\n",
    "print(reg.intercept_)"
   ]
  },
  {
   "cell_type": "code",
   "execution_count": 12,
   "id": "bfb7a8ba",
   "metadata": {},
   "outputs": [
    {
     "name": "stdout",
     "output_type": "stream",
     "text": [
      "Retrieving notices: ...working... done\n",
      "Collecting package metadata (current_repodata.json): ...working... done\n",
      "Solving environment: ...working... done\n",
      "\n",
      "## Package Plan ##\n",
      "\n",
      "  environment location: C:\\Users\\kapil\\anaconda3\n",
      "\n",
      "  added / updated specs:\n",
      "    - conda-forge::jupyter_contrib_nbextensions\n",
      "\n",
      "\n",
      "The following packages will be downloaded:\n",
      "\n",
      "    package                    |            build\n",
      "    ---------------------------|-----------------\n",
      "    jupyter_contrib_core-0.4.0 |     pyhd8ed1ab_0          18 KB  conda-forge\n",
      "    jupyter_contrib_nbextensions-0.7.0|     pyhd8ed1ab_0        20.4 MB  conda-forge\n",
      "    jupyter_highlight_selected_word-0.2.0|  pyhd8ed1ab_1006          17 KB  conda-forge\n",
      "    jupyter_latex_envs-1.4.6   |  pyhd8ed1ab_1002         735 KB  conda-forge\n",
      "    jupyter_nbextensions_configurator-0.6.1|     pyhd8ed1ab_0         450 KB  conda-forge\n",
      "    ------------------------------------------------------------\n",
      "                                           Total:        21.6 MB\n",
      "\n",
      "The following NEW packages will be INSTALLED:\n",
      "\n",
      "  jupyter_contrib_c~ conda-forge/noarch::jupyter_contrib_core-0.4.0-pyhd8ed1ab_0 \n",
      "  jupyter_contrib_n~ conda-forge/noarch::jupyter_contrib_nbextensions-0.7.0-pyhd8ed1ab_0 \n",
      "  jupyter_highlight~ conda-forge/noarch::jupyter_highlight_selected_word-0.2.0-pyhd8ed1ab_1006 \n",
      "  jupyter_latex_envs conda-forge/noarch::jupyter_latex_envs-1.4.6-pyhd8ed1ab_1002 \n",
      "  jupyter_nbextensi~ conda-forge/noarch::jupyter_nbextensions_configurator-0.6.1-pyhd8ed1ab_0 \n",
      "\n",
      "\n",
      "\n",
      "Downloading and Extracting Packages\n",
      "\n",
      "jupyter_contrib_nbex | 20.4 MB   |            |   0% \n",
      "\n",
      "jupyter_contrib_core | 18 KB     |            |   0% \u001b[A\n",
      "\n",
      "\n",
      "jupyter_highlight_se | 17 KB     |            |   0% \u001b[A\u001b[A\n",
      "\n",
      "\n",
      "\n",
      "jupyter_latex_envs-1 | 735 KB    |            |   0% \u001b[A\u001b[A\u001b[A\n",
      "\n",
      "\n",
      "\n",
      "\n",
      "jupyter_nbextensions | 450 KB    |            |   0% \u001b[A\u001b[A\u001b[A\u001b[A\n",
      "\n",
      "jupyter_contrib_core | 18 KB     | #########  |  91% \u001b[A\n",
      "\n",
      "\n",
      "\n",
      "\n",
      "jupyter_nbextensions | 450 KB    | 3          |   4% \u001b[A\u001b[A\u001b[A\u001b[A\n",
      "jupyter_contrib_nbex | 20.4 MB   |            |   0% \n",
      "\n",
      "\n",
      "\n",
      "jupyter_latex_envs-1 | 735 KB    | 2          |   2% \u001b[A\u001b[A\u001b[A\n",
      "\n",
      "jupyter_contrib_core | 18 KB     | ########## | 100% \u001b[A\n",
      "jupyter_contrib_nbex | 20.4 MB   | 1          |   2% \n",
      "\n",
      "\n",
      "\n",
      "\n",
      "jupyter_nbextensions | 450 KB    | ######7    |  68% \u001b[A\u001b[A\u001b[A\u001b[A\n",
      "\n",
      "\n",
      "\n",
      "jupyter_latex_envs-1 | 735 KB    | #####2     |  52% \u001b[A\u001b[A\u001b[A\n",
      "jupyter_contrib_nbex | 20.4 MB   | 4          |   5% \n",
      "\n",
      "\n",
      "\n",
      "\n",
      "jupyter_nbextensions | 450 KB    | ########## | 100% \u001b[A\u001b[A\u001b[A\u001b[A\n",
      "\n",
      "\n",
      "\n",
      "\n",
      "jupyter_nbextensions | 450 KB    | ########## | 100% \u001b[A\u001b[A\u001b[A\u001b[A\n",
      "jupyter_contrib_nbex | 20.4 MB   | 8          |   9% \n",
      "jupyter_contrib_nbex | 20.4 MB   | #2         |  13% \n",
      "jupyter_contrib_nbex | 20.4 MB   | #6         |  17% \n",
      "\n",
      "\n",
      "jupyter_highlight_se | 17 KB     | #########5 |  96% \u001b[A\u001b[A\n",
      "jupyter_contrib_nbex | 20.4 MB   | ##1        |  21% \n",
      "\n",
      "\n",
      "jupyter_highlight_se | 17 KB     | ########## | 100% \u001b[A\u001b[A\n",
      "\n",
      "\n",
      "\n",
      "jupyter_latex_envs-1 | 735 KB    | ########## | 100% \u001b[A\u001b[A\u001b[A\n",
      "\n",
      "\n",
      "\n",
      "jupyter_latex_envs-1 | 735 KB    | ########## | 100% \u001b[A\u001b[A\u001b[A\n",
      "jupyter_contrib_nbex | 20.4 MB   | ##5        |  25% \n",
      "jupyter_contrib_nbex | 20.4 MB   | ###        |  31% \n",
      "jupyter_contrib_nbex | 20.4 MB   | ###4       |  35% \n",
      "jupyter_contrib_nbex | 20.4 MB   | ###8       |  38% \n",
      "jupyter_contrib_nbex | 20.4 MB   | ####1      |  42% \n",
      "jupyter_contrib_nbex | 20.4 MB   | ####5      |  45% \n",
      "jupyter_contrib_nbex | 20.4 MB   | ####8      |  48% \n",
      "jupyter_contrib_nbex | 20.4 MB   | #####2     |  52% \n",
      "jupyter_contrib_nbex | 20.4 MB   | #####6     |  57% \n",
      "jupyter_contrib_nbex | 20.4 MB   | ######2    |  63% \n",
      "jupyter_contrib_nbex | 20.4 MB   | ######6    |  67% \n",
      "jupyter_contrib_nbex | 20.4 MB   | #######1   |  71% \n",
      "jupyter_contrib_nbex | 20.4 MB   | #######6   |  76% \n",
      "jupyter_contrib_nbex | 20.4 MB   | ########   |  81% \n",
      "jupyter_contrib_nbex | 20.4 MB   | ########5  |  86% \n",
      "jupyter_contrib_nbex | 20.4 MB   | #########  |  90% \n",
      "jupyter_contrib_nbex | 20.4 MB   | #########4 |  95% \n",
      "jupyter_contrib_nbex | 20.4 MB   | #########8 |  98% \n",
      "jupyter_contrib_nbex | 20.4 MB   | ########## | 100% \n",
      "                                                     \n",
      "\n",
      "\n",
      "                                                     \u001b[A\n",
      "\n",
      "\n",
      "                                                     \u001b[A\u001b[A\n",
      "\n",
      "\n",
      "\n",
      "                                                     \u001b[A\u001b[A\u001b[A\n",
      "\n",
      "\n",
      "\n",
      "\n",
      "                                                     \u001b[A\u001b[A\u001b[A\u001b[A\n",
      "\n",
      "Preparing transaction: ...working... done\n",
      "Verifying transaction: ...working... done\n",
      "Executing transaction: ...working... done\n",
      "\n",
      "Note: you may need to restart the kernel to use updated packages.\n"
     ]
    },
    {
     "name": "stderr",
     "output_type": "stream",
     "text": [
      "\n",
      "\n",
      "==> WARNING: A newer version of conda exists. <==\n",
      "  current version: 23.7.4\n",
      "  latest version: 23.11.0\n",
      "\n",
      "Please update conda by running\n",
      "\n",
      "    $ conda update -n base -c defaults conda\n",
      "\n",
      "Or to minimize the number of packages updated during conda update use\n",
      "\n",
      "     conda install conda=23.11.0\n",
      "\n",
      "\n"
     ]
    }
   ],
   "source": [
    "conda install conda-forge::jupyter_contrib_nbextensions"
   ]
  },
  {
   "cell_type": "code",
   "execution_count": 14,
   "id": "d5bd504f",
   "metadata": {},
   "outputs": [],
   "source": [
    "class MultiRidge:\n",
    "    \n",
    "    def __init__(self, alpha):\n",
    "        \n",
    "        self.alpha = alpha\n",
    "        self.coef_ = None\n",
    "        self.intercept_ = None\n",
    "        \n",
    "    def fit(self, X_train, y_train):\n",
    "        \n",
    "        X_train = np.insert(X_train, 0 , 1, axis=1)\n",
    "        I = np.identity(X_train.shape[1])\n",
    "        \n",
    "        result = np.linalg.inv(np.dot(X_train.T, X_train) + self.alpha * I).dot(X_train.T).dot(y_train)\n",
    "        self.intercept_ = result[0]\n",
    "        self.coef_ = result[1:]\n",
    "        \n",
    "    \n",
    "    def predict(self, X_test):\n",
    "        return np.dot(X_test, self.coef_) + self.intercept_\n",
    "    \n",
    "    "
   ]
  },
  {
   "cell_type": "code",
   "execution_count": 15,
   "id": "ecebeeae",
   "metadata": {},
   "outputs": [],
   "source": [
    "reg = MultiRidge(alpha = 0.1)"
   ]
  },
  {
   "cell_type": "code",
   "execution_count": 16,
   "id": "dfeec2a0",
   "metadata": {},
   "outputs": [],
   "source": [
    "reg.fit(X_train, y_train)"
   ]
  },
  {
   "cell_type": "code",
   "execution_count": 17,
   "id": "a78831c0",
   "metadata": {},
   "outputs": [
    {
     "data": {
      "text/plain": [
       "0.4692136155993192"
      ]
     },
     "execution_count": 17,
     "metadata": {},
     "output_type": "execute_result"
    }
   ],
   "source": [
    "y_pred = reg.predict(X_test)\n",
    "r2_score(y_test, y_pred)"
   ]
  },
  {
   "cell_type": "code",
   "execution_count": 18,
   "id": "21ad82ee",
   "metadata": {},
   "outputs": [
    {
     "name": "stdout",
     "output_type": "stream",
     "text": [
      "[  44.04252774 -241.72019592  452.99153345  332.06044266  -76.32617866\n",
      "  -68.54884462 -165.01664054  149.93980143  431.59483654   58.54419942]\n",
      "150.84762720023167\n"
     ]
    }
   ],
   "source": [
    "print(reg.coef_)\n",
    "print(reg.intercept_)"
   ]
  },
  {
   "cell_type": "code",
   "execution_count": 1,
   "id": "64df79d7",
   "metadata": {},
   "outputs": [
    {
     "name": "stderr",
     "output_type": "stream",
     "text": [
      "[I 14:29:05 InstallContribNbextensionsApp] jupyter contrib nbextension install --user\n",
      "[I 14:29:05 InstallContribNbextensionsApp] Installing jupyter_contrib_nbextensions nbextension files to jupyter data directory\n",
      "[I 14:29:05 InstallContribNbextensionsApp] Installing C:\\Users\\kapil\\anaconda3\\Lib\\site-packages\\jupyter_contrib_nbextensions\\nbextensions\\addbefore -> addbefore\n",
      "[I 14:29:05 InstallContribNbextensionsApp] Making directory: C:\\Users\\kapil\\AppData\\Roaming\\jupyter\\nbextensions\\addbefore\\\n",
      "[I 14:29:05 InstallContribNbextensionsApp] Copying: C:\\Users\\kapil\\anaconda3\\Lib\\site-packages\\jupyter_contrib_nbextensions\\nbextensions\\addbefore\\addbefore.yaml -> C:\\Users\\kapil\\AppData\\Roaming\\jupyter\\nbextensions\\addbefore\\addbefore.yaml\n",
      "[I 14:29:05 InstallContribNbextensionsApp] Copying: C:\\Users\\kapil\\anaconda3\\Lib\\site-packages\\jupyter_contrib_nbextensions\\nbextensions\\addbefore\\icon.png -> C:\\Users\\kapil\\AppData\\Roaming\\jupyter\\nbextensions\\addbefore\\icon.png\n",
      "[I 14:29:05 InstallContribNbextensionsApp] Copying: C:\\Users\\kapil\\anaconda3\\Lib\\site-packages\\jupyter_contrib_nbextensions\\nbextensions\\addbefore\\main.js -> C:\\Users\\kapil\\AppData\\Roaming\\jupyter\\nbextensions\\addbefore\\main.js\n",
      "[I 14:29:05 InstallContribNbextensionsApp] Copying: C:\\Users\\kapil\\anaconda3\\Lib\\site-packages\\jupyter_contrib_nbextensions\\nbextensions\\addbefore\\readme.md -> C:\\Users\\kapil\\AppData\\Roaming\\jupyter\\nbextensions\\addbefore\\readme.md\n",
      "[I 14:29:05 InstallContribNbextensionsApp] - Validating: ok\n",
      "[I 14:29:05 InstallContribNbextensionsApp] Installing C:\\Users\\kapil\\anaconda3\\Lib\\site-packages\\jupyter_contrib_nbextensions\\nbextensions\\autosavetime -> autosavetime\n",
      "[I 14:29:05 InstallContribNbextensionsApp] Making directory: C:\\Users\\kapil\\AppData\\Roaming\\jupyter\\nbextensions\\autosavetime\\\n",
      "[I 14:29:05 InstallContribNbextensionsApp] Copying: C:\\Users\\kapil\\anaconda3\\Lib\\site-packages\\jupyter_contrib_nbextensions\\nbextensions\\autosavetime\\autosavetime.yaml -> C:\\Users\\kapil\\AppData\\Roaming\\jupyter\\nbextensions\\autosavetime\\autosavetime.yaml\n",
      "[I 14:29:05 InstallContribNbextensionsApp] Copying: C:\\Users\\kapil\\anaconda3\\Lib\\site-packages\\jupyter_contrib_nbextensions\\nbextensions\\autosavetime\\icon.png -> C:\\Users\\kapil\\AppData\\Roaming\\jupyter\\nbextensions\\autosavetime\\icon.png\n",
      "[I 14:29:05 InstallContribNbextensionsApp] Copying: C:\\Users\\kapil\\anaconda3\\Lib\\site-packages\\jupyter_contrib_nbextensions\\nbextensions\\autosavetime\\main.js -> C:\\Users\\kapil\\AppData\\Roaming\\jupyter\\nbextensions\\autosavetime\\main.js\n",
      "[I 14:29:05 InstallContribNbextensionsApp] Copying: C:\\Users\\kapil\\anaconda3\\Lib\\site-packages\\jupyter_contrib_nbextensions\\nbextensions\\autosavetime\\README.md -> C:\\Users\\kapil\\AppData\\Roaming\\jupyter\\nbextensions\\autosavetime\\README.md\n",
      "[I 14:29:05 InstallContribNbextensionsApp] - Validating: ok\n",
      "[I 14:29:05 InstallContribNbextensionsApp] Installing C:\\Users\\kapil\\anaconda3\\Lib\\site-packages\\jupyter_contrib_nbextensions\\nbextensions\\autoscroll -> autoscroll\n",
      "[I 14:29:05 InstallContribNbextensionsApp] Making directory: C:\\Users\\kapil\\AppData\\Roaming\\jupyter\\nbextensions\\autoscroll\\\n",
      "[I 14:29:05 InstallContribNbextensionsApp] Copying: C:\\Users\\kapil\\anaconda3\\Lib\\site-packages\\jupyter_contrib_nbextensions\\nbextensions\\autoscroll\\autoscroll.yaml -> C:\\Users\\kapil\\AppData\\Roaming\\jupyter\\nbextensions\\autoscroll\\autoscroll.yaml\n",
      "[I 14:29:05 InstallContribNbextensionsApp] Copying: C:\\Users\\kapil\\anaconda3\\Lib\\site-packages\\jupyter_contrib_nbextensions\\nbextensions\\autoscroll\\icon.png -> C:\\Users\\kapil\\AppData\\Roaming\\jupyter\\nbextensions\\autoscroll\\icon.png\n",
      "[I 14:29:05 InstallContribNbextensionsApp] Copying: C:\\Users\\kapil\\anaconda3\\Lib\\site-packages\\jupyter_contrib_nbextensions\\nbextensions\\autoscroll\\main.js -> C:\\Users\\kapil\\AppData\\Roaming\\jupyter\\nbextensions\\autoscroll\\main.js\n",
      "[I 14:29:05 InstallContribNbextensionsApp] Copying: C:\\Users\\kapil\\anaconda3\\Lib\\site-packages\\jupyter_contrib_nbextensions\\nbextensions\\autoscroll\\README.md -> C:\\Users\\kapil\\AppData\\Roaming\\jupyter\\nbextensions\\autoscroll\\README.md\n",
      "[I 14:29:05 InstallContribNbextensionsApp] - Validating: ok\n",
      "[I 14:29:05 InstallContribNbextensionsApp] Installing C:\\Users\\kapil\\anaconda3\\Lib\\site-packages\\jupyter_contrib_nbextensions\\nbextensions\\cell_filter -> cell_filter\n",
      "[I 14:29:05 InstallContribNbextensionsApp] Making directory: C:\\Users\\kapil\\AppData\\Roaming\\jupyter\\nbextensions\\cell_filter\\\n",
      "[I 14:29:05 InstallContribNbextensionsApp] Copying: C:\\Users\\kapil\\anaconda3\\Lib\\site-packages\\jupyter_contrib_nbextensions\\nbextensions\\cell_filter\\cell_filter.js -> C:\\Users\\kapil\\AppData\\Roaming\\jupyter\\nbextensions\\cell_filter\\cell_filter.js\n",
      "[I 14:29:05 InstallContribNbextensionsApp] Copying: C:\\Users\\kapil\\anaconda3\\Lib\\site-packages\\jupyter_contrib_nbextensions\\nbextensions\\cell_filter\\cell_filter.yml -> C:\\Users\\kapil\\AppData\\Roaming\\jupyter\\nbextensions\\cell_filter\\cell_filter.yml\n",
      "[I 14:29:05 InstallContribNbextensionsApp] Copying: C:\\Users\\kapil\\anaconda3\\Lib\\site-packages\\jupyter_contrib_nbextensions\\nbextensions\\cell_filter\\README.md -> C:\\Users\\kapil\\AppData\\Roaming\\jupyter\\nbextensions\\cell_filter\\README.md\n",
      "[I 14:29:05 InstallContribNbextensionsApp] - Validating: ok\n",
      "[I 14:29:05 InstallContribNbextensionsApp] Installing C:\\Users\\kapil\\anaconda3\\Lib\\site-packages\\jupyter_contrib_nbextensions\\nbextensions\\codefolding -> codefolding\n",
      "[I 14:29:05 InstallContribNbextensionsApp] Making directory: C:\\Users\\kapil\\AppData\\Roaming\\jupyter\\nbextensions\\codefolding\\\n",
      "[I 14:29:05 InstallContribNbextensionsApp] Copying: C:\\Users\\kapil\\anaconda3\\Lib\\site-packages\\jupyter_contrib_nbextensions\\nbextensions\\codefolding\\blockcomment-fold.js -> C:\\Users\\kapil\\AppData\\Roaming\\jupyter\\nbextensions\\codefolding\\blockcomment-fold.js\n",
      "[I 14:29:05 InstallContribNbextensionsApp] Copying: C:\\Users\\kapil\\anaconda3\\Lib\\site-packages\\jupyter_contrib_nbextensions\\nbextensions\\codefolding\\codefolding.yaml -> C:\\Users\\kapil\\AppData\\Roaming\\jupyter\\nbextensions\\codefolding\\codefolding.yaml\n",
      "[I 14:29:05 InstallContribNbextensionsApp] Copying: C:\\Users\\kapil\\anaconda3\\Lib\\site-packages\\jupyter_contrib_nbextensions\\nbextensions\\codefolding\\codefolding_editor.png -> C:\\Users\\kapil\\AppData\\Roaming\\jupyter\\nbextensions\\codefolding\\codefolding_editor.png\n",
      "[I 14:29:05 InstallContribNbextensionsApp] Copying: C:\\Users\\kapil\\anaconda3\\Lib\\site-packages\\jupyter_contrib_nbextensions\\nbextensions\\codefolding\\codefolding_editor.yaml -> C:\\Users\\kapil\\AppData\\Roaming\\jupyter\\nbextensions\\codefolding\\codefolding_editor.yaml\n",
      "[I 14:29:05 InstallContribNbextensionsApp] Copying: C:\\Users\\kapil\\anaconda3\\Lib\\site-packages\\jupyter_contrib_nbextensions\\nbextensions\\codefolding\\codefolding_firstline_folded.png -> C:\\Users\\kapil\\AppData\\Roaming\\jupyter\\nbextensions\\codefolding\\codefolding_firstline_folded.png\n",
      "[I 14:29:05 InstallContribNbextensionsApp] Copying: C:\\Users\\kapil\\anaconda3\\Lib\\site-packages\\jupyter_contrib_nbextensions\\nbextensions\\codefolding\\codefolding_firstline_unfolded.png -> C:\\Users\\kapil\\AppData\\Roaming\\jupyter\\nbextensions\\codefolding\\codefolding_firstline_unfolded.png\n",
      "[I 14:29:05 InstallContribNbextensionsApp] Copying: C:\\Users\\kapil\\anaconda3\\Lib\\site-packages\\jupyter_contrib_nbextensions\\nbextensions\\codefolding\\codefolding_indent_folded_1.png -> C:\\Users\\kapil\\AppData\\Roaming\\jupyter\\nbextensions\\codefolding\\codefolding_indent_folded_1.png\n",
      "[I 14:29:05 InstallContribNbextensionsApp] Copying: C:\\Users\\kapil\\anaconda3\\Lib\\site-packages\\jupyter_contrib_nbextensions\\nbextensions\\codefolding\\codefolding_indent_folded_2.png -> C:\\Users\\kapil\\AppData\\Roaming\\jupyter\\nbextensions\\codefolding\\codefolding_indent_folded_2.png\n",
      "[I 14:29:05 InstallContribNbextensionsApp] Copying: C:\\Users\\kapil\\anaconda3\\Lib\\site-packages\\jupyter_contrib_nbextensions\\nbextensions\\codefolding\\codefolding_indent_unfolded.png -> C:\\Users\\kapil\\AppData\\Roaming\\jupyter\\nbextensions\\codefolding\\codefolding_indent_unfolded.png\n",
      "[I 14:29:05 InstallContribNbextensionsApp] Copying: C:\\Users\\kapil\\anaconda3\\Lib\\site-packages\\jupyter_contrib_nbextensions\\nbextensions\\codefolding\\edit.js -> C:\\Users\\kapil\\AppData\\Roaming\\jupyter\\nbextensions\\codefolding\\edit.js\n",
      "[I 14:29:05 InstallContribNbextensionsApp] Copying: C:\\Users\\kapil\\anaconda3\\Lib\\site-packages\\jupyter_contrib_nbextensions\\nbextensions\\codefolding\\firstline-fold.js -> C:\\Users\\kapil\\AppData\\Roaming\\jupyter\\nbextensions\\codefolding\\firstline-fold.js\n",
      "[I 14:29:05 InstallContribNbextensionsApp] Copying: C:\\Users\\kapil\\anaconda3\\Lib\\site-packages\\jupyter_contrib_nbextensions\\nbextensions\\codefolding\\foldgutter.css -> C:\\Users\\kapil\\AppData\\Roaming\\jupyter\\nbextensions\\codefolding\\foldgutter.css\n",
      "[I 14:29:05 InstallContribNbextensionsApp] Copying: C:\\Users\\kapil\\anaconda3\\Lib\\site-packages\\jupyter_contrib_nbextensions\\nbextensions\\codefolding\\icon.png -> C:\\Users\\kapil\\AppData\\Roaming\\jupyter\\nbextensions\\codefolding\\icon.png\n",
      "[I 14:29:05 InstallContribNbextensionsApp] Copying: C:\\Users\\kapil\\anaconda3\\Lib\\site-packages\\jupyter_contrib_nbextensions\\nbextensions\\codefolding\\magic-fold.js -> C:\\Users\\kapil\\AppData\\Roaming\\jupyter\\nbextensions\\codefolding\\magic-fold.js\n",
      "[I 14:29:05 InstallContribNbextensionsApp] Copying: C:\\Users\\kapil\\anaconda3\\Lib\\site-packages\\jupyter_contrib_nbextensions\\nbextensions\\codefolding\\magic-folded.png -> C:\\Users\\kapil\\AppData\\Roaming\\jupyter\\nbextensions\\codefolding\\magic-folded.png\n",
      "[I 14:29:05 InstallContribNbextensionsApp] Copying: C:\\Users\\kapil\\anaconda3\\Lib\\site-packages\\jupyter_contrib_nbextensions\\nbextensions\\codefolding\\magic-unfolded.png -> C:\\Users\\kapil\\AppData\\Roaming\\jupyter\\nbextensions\\codefolding\\magic-unfolded.png\n",
      "[I 14:29:05 InstallContribNbextensionsApp] Copying: C:\\Users\\kapil\\anaconda3\\Lib\\site-packages\\jupyter_contrib_nbextensions\\nbextensions\\codefolding\\main.js -> C:\\Users\\kapil\\AppData\\Roaming\\jupyter\\nbextensions\\codefolding\\main.js\n",
      "[I 14:29:05 InstallContribNbextensionsApp] Copying: C:\\Users\\kapil\\anaconda3\\Lib\\site-packages\\jupyter_contrib_nbextensions\\nbextensions\\codefolding\\readme.md -> C:\\Users\\kapil\\AppData\\Roaming\\jupyter\\nbextensions\\codefolding\\readme.md\n",
      "[I 14:29:05 InstallContribNbextensionsApp] - Validating: ok\n",
      "[I 14:29:05 InstallContribNbextensionsApp] Installing C:\\Users\\kapil\\anaconda3\\Lib\\site-packages\\jupyter_contrib_nbextensions\\nbextensions\\codefolding -> codefolding\n",
      "[I 14:29:05 InstallContribNbextensionsApp] Up to date: C:\\Users\\kapil\\AppData\\Roaming\\jupyter\\nbextensions\\codefolding\\blockcomment-fold.js\n",
      "[I 14:29:05 InstallContribNbextensionsApp] Up to date: C:\\Users\\kapil\\AppData\\Roaming\\jupyter\\nbextensions\\codefolding\\codefolding.yaml\n",
      "[I 14:29:05 InstallContribNbextensionsApp] Up to date: C:\\Users\\kapil\\AppData\\Roaming\\jupyter\\nbextensions\\codefolding\\codefolding_editor.png\n",
      "[I 14:29:05 InstallContribNbextensionsApp] Up to date: C:\\Users\\kapil\\AppData\\Roaming\\jupyter\\nbextensions\\codefolding\\codefolding_editor.yaml\n",
      "[I 14:29:05 InstallContribNbextensionsApp] Up to date: C:\\Users\\kapil\\AppData\\Roaming\\jupyter\\nbextensions\\codefolding\\codefolding_firstline_folded.png\n",
      "[I 14:29:05 InstallContribNbextensionsApp] Up to date: C:\\Users\\kapil\\AppData\\Roaming\\jupyter\\nbextensions\\codefolding\\codefolding_firstline_unfolded.png\n",
      "[I 14:29:05 InstallContribNbextensionsApp] Up to date: C:\\Users\\kapil\\AppData\\Roaming\\jupyter\\nbextensions\\codefolding\\codefolding_indent_folded_1.png\n",
      "[I 14:29:05 InstallContribNbextensionsApp] Up to date: C:\\Users\\kapil\\AppData\\Roaming\\jupyter\\nbextensions\\codefolding\\codefolding_indent_folded_2.png\n",
      "[I 14:29:05 InstallContribNbextensionsApp] Up to date: C:\\Users\\kapil\\AppData\\Roaming\\jupyter\\nbextensions\\codefolding\\codefolding_indent_unfolded.png\n",
      "[I 14:29:05 InstallContribNbextensionsApp] Up to date: C:\\Users\\kapil\\AppData\\Roaming\\jupyter\\nbextensions\\codefolding\\edit.js\n",
      "[I 14:29:05 InstallContribNbextensionsApp] Up to date: C:\\Users\\kapil\\AppData\\Roaming\\jupyter\\nbextensions\\codefolding\\firstline-fold.js\n",
      "[I 14:29:05 InstallContribNbextensionsApp] Up to date: C:\\Users\\kapil\\AppData\\Roaming\\jupyter\\nbextensions\\codefolding\\foldgutter.css\n",
      "[I 14:29:05 InstallContribNbextensionsApp] Up to date: C:\\Users\\kapil\\AppData\\Roaming\\jupyter\\nbextensions\\codefolding\\icon.png\n",
      "[I 14:29:05 InstallContribNbextensionsApp] Up to date: C:\\Users\\kapil\\AppData\\Roaming\\jupyter\\nbextensions\\codefolding\\magic-fold.js\n",
      "[I 14:29:05 InstallContribNbextensionsApp] Up to date: C:\\Users\\kapil\\AppData\\Roaming\\jupyter\\nbextensions\\codefolding\\magic-folded.png\n",
      "[I 14:29:05 InstallContribNbextensionsApp] Up to date: C:\\Users\\kapil\\AppData\\Roaming\\jupyter\\nbextensions\\codefolding\\magic-unfolded.png\n",
      "[I 14:29:05 InstallContribNbextensionsApp] Up to date: C:\\Users\\kapil\\AppData\\Roaming\\jupyter\\nbextensions\\codefolding\\main.js\n",
      "[I 14:29:05 InstallContribNbextensionsApp] Up to date: C:\\Users\\kapil\\AppData\\Roaming\\jupyter\\nbextensions\\codefolding\\readme.md\n",
      "[I 14:29:05 InstallContribNbextensionsApp] - Validating: ok\n",
      "[I 14:29:05 InstallContribNbextensionsApp] Installing C:\\Users\\kapil\\anaconda3\\Lib\\site-packages\\jupyter_contrib_nbextensions\\nbextensions\\codemirror_mode_extensions -> codemirror_mode_extensions\n",
      "[I 14:29:05 InstallContribNbextensionsApp] Making directory: C:\\Users\\kapil\\AppData\\Roaming\\jupyter\\nbextensions\\codemirror_mode_extensions\\\n",
      "[I 14:29:05 InstallContribNbextensionsApp] Copying: C:\\Users\\kapil\\anaconda3\\Lib\\site-packages\\jupyter_contrib_nbextensions\\nbextensions\\codemirror_mode_extensions\\codemirror_mode_extensions.yaml -> C:\\Users\\kapil\\AppData\\Roaming\\jupyter\\nbextensions\\codemirror_mode_extensions\\codemirror_mode_extensions.yaml\n",
      "[I 14:29:05 InstallContribNbextensionsApp] Copying: C:\\Users\\kapil\\anaconda3\\Lib\\site-packages\\jupyter_contrib_nbextensions\\nbextensions\\codemirror_mode_extensions\\main.js -> C:\\Users\\kapil\\AppData\\Roaming\\jupyter\\nbextensions\\codemirror_mode_extensions\\main.js\n",
      "[I 14:29:05 InstallContribNbextensionsApp] - Validating: ok\n",
      "[I 14:29:05 InstallContribNbextensionsApp] Installing C:\\Users\\kapil\\anaconda3\\Lib\\site-packages\\jupyter_contrib_nbextensions\\nbextensions\\code_font_size -> code_font_size\n",
      "[I 14:29:05 InstallContribNbextensionsApp] Making directory: C:\\Users\\kapil\\AppData\\Roaming\\jupyter\\nbextensions\\code_font_size\\\n",
      "[I 14:29:05 InstallContribNbextensionsApp] Copying: C:\\Users\\kapil\\anaconda3\\Lib\\site-packages\\jupyter_contrib_nbextensions\\nbextensions\\code_font_size\\code_font_size.js -> C:\\Users\\kapil\\AppData\\Roaming\\jupyter\\nbextensions\\code_font_size\\code_font_size.js\n",
      "[I 14:29:05 InstallContribNbextensionsApp] Copying: C:\\Users\\kapil\\anaconda3\\Lib\\site-packages\\jupyter_contrib_nbextensions\\nbextensions\\code_font_size\\code_font_size.yaml -> C:\\Users\\kapil\\AppData\\Roaming\\jupyter\\nbextensions\\code_font_size\\code_font_size.yaml\n",
      "[I 14:29:05 InstallContribNbextensionsApp] Copying: C:\\Users\\kapil\\anaconda3\\Lib\\site-packages\\jupyter_contrib_nbextensions\\nbextensions\\code_font_size\\README.md -> C:\\Users\\kapil\\AppData\\Roaming\\jupyter\\nbextensions\\code_font_size\\README.md\n",
      "[I 14:29:05 InstallContribNbextensionsApp] - Validating: ok\n",
      "[I 14:29:05 InstallContribNbextensionsApp] Installing C:\\Users\\kapil\\anaconda3\\Lib\\site-packages\\jupyter_contrib_nbextensions\\nbextensions\\code_prettify -> code_prettify\n",
      "[I 14:29:05 InstallContribNbextensionsApp] Making directory: C:\\Users\\kapil\\AppData\\Roaming\\jupyter\\nbextensions\\code_prettify\\\n",
      "[I 14:29:05 InstallContribNbextensionsApp] Copying: C:\\Users\\kapil\\anaconda3\\Lib\\site-packages\\jupyter_contrib_nbextensions\\nbextensions\\code_prettify\\2to3.js -> C:\\Users\\kapil\\AppData\\Roaming\\jupyter\\nbextensions\\code_prettify\\2to3.js\n",
      "[I 14:29:05 InstallContribNbextensionsApp] Copying: C:\\Users\\kapil\\anaconda3\\Lib\\site-packages\\jupyter_contrib_nbextensions\\nbextensions\\code_prettify\\2to3.yaml -> C:\\Users\\kapil\\AppData\\Roaming\\jupyter\\nbextensions\\code_prettify\\2to3.yaml\n",
      "[I 14:29:05 InstallContribNbextensionsApp] Copying: C:\\Users\\kapil\\anaconda3\\Lib\\site-packages\\jupyter_contrib_nbextensions\\nbextensions\\code_prettify\\autopep8.js -> C:\\Users\\kapil\\AppData\\Roaming\\jupyter\\nbextensions\\code_prettify\\autopep8.js\n",
      "[I 14:29:05 InstallContribNbextensionsApp] Copying: C:\\Users\\kapil\\anaconda3\\Lib\\site-packages\\jupyter_contrib_nbextensions\\nbextensions\\code_prettify\\autopep8.yaml -> C:\\Users\\kapil\\AppData\\Roaming\\jupyter\\nbextensions\\code_prettify\\autopep8.yaml\n",
      "[I 14:29:05 InstallContribNbextensionsApp] Copying: C:\\Users\\kapil\\anaconda3\\Lib\\site-packages\\jupyter_contrib_nbextensions\\nbextensions\\code_prettify\\code_prettify.js -> C:\\Users\\kapil\\AppData\\Roaming\\jupyter\\nbextensions\\code_prettify\\code_prettify.js\n",
      "[I 14:29:05 InstallContribNbextensionsApp] Copying: C:\\Users\\kapil\\anaconda3\\Lib\\site-packages\\jupyter_contrib_nbextensions\\nbextensions\\code_prettify\\code_prettify.yaml -> C:\\Users\\kapil\\AppData\\Roaming\\jupyter\\nbextensions\\code_prettify\\code_prettify.yaml\n",
      "[I 14:29:05 InstallContribNbextensionsApp] Copying: C:\\Users\\kapil\\anaconda3\\Lib\\site-packages\\jupyter_contrib_nbextensions\\nbextensions\\code_prettify\\demo-jv.gif -> C:\\Users\\kapil\\AppData\\Roaming\\jupyter\\nbextensions\\code_prettify\\demo-jv.gif\n",
      "[I 14:29:05 InstallContribNbextensionsApp] Copying: C:\\Users\\kapil\\anaconda3\\Lib\\site-packages\\jupyter_contrib_nbextensions\\nbextensions\\code_prettify\\demo-py.gif -> C:\\Users\\kapil\\AppData\\Roaming\\jupyter\\nbextensions\\code_prettify\\demo-py.gif\n",
      "[I 14:29:05 InstallContribNbextensionsApp] Copying: C:\\Users\\kapil\\anaconda3\\Lib\\site-packages\\jupyter_contrib_nbextensions\\nbextensions\\code_prettify\\demo-R.gif -> C:\\Users\\kapil\\AppData\\Roaming\\jupyter\\nbextensions\\code_prettify\\demo-R.gif\n",
      "[I 14:29:05 InstallContribNbextensionsApp] Copying: C:\\Users\\kapil\\anaconda3\\Lib\\site-packages\\jupyter_contrib_nbextensions\\nbextensions\\code_prettify\\demo_2to3.gif -> C:\\Users\\kapil\\AppData\\Roaming\\jupyter\\nbextensions\\code_prettify\\demo_2to3.gif\n",
      "[I 14:29:05 InstallContribNbextensionsApp] Copying: C:\\Users\\kapil\\anaconda3\\Lib\\site-packages\\jupyter_contrib_nbextensions\\nbextensions\\code_prettify\\isort.js -> C:\\Users\\kapil\\AppData\\Roaming\\jupyter\\nbextensions\\code_prettify\\isort.js\n",
      "[I 14:29:05 InstallContribNbextensionsApp] Copying: C:\\Users\\kapil\\anaconda3\\Lib\\site-packages\\jupyter_contrib_nbextensions\\nbextensions\\code_prettify\\isort.yaml -> C:\\Users\\kapil\\AppData\\Roaming\\jupyter\\nbextensions\\code_prettify\\isort.yaml\n",
      "[I 14:29:05 InstallContribNbextensionsApp] Copying: C:\\Users\\kapil\\anaconda3\\Lib\\site-packages\\jupyter_contrib_nbextensions\\nbextensions\\code_prettify\\kernel_exec_on_cell.js -> C:\\Users\\kapil\\AppData\\Roaming\\jupyter\\nbextensions\\code_prettify\\kernel_exec_on_cell.js\n",
      "[I 14:29:05 InstallContribNbextensionsApp] Copying: C:\\Users\\kapil\\anaconda3\\Lib\\site-packages\\jupyter_contrib_nbextensions\\nbextensions\\code_prettify\\README.md -> C:\\Users\\kapil\\AppData\\Roaming\\jupyter\\nbextensions\\code_prettify\\README.md\n",
      "[I 14:29:05 InstallContribNbextensionsApp] Copying: C:\\Users\\kapil\\anaconda3\\Lib\\site-packages\\jupyter_contrib_nbextensions\\nbextensions\\code_prettify\\README_2to3.md -> C:\\Users\\kapil\\AppData\\Roaming\\jupyter\\nbextensions\\code_prettify\\README_2to3.md\n",
      "[I 14:29:05 InstallContribNbextensionsApp] Copying: C:\\Users\\kapil\\anaconda3\\Lib\\site-packages\\jupyter_contrib_nbextensions\\nbextensions\\code_prettify\\README_autopep8.md -> C:\\Users\\kapil\\AppData\\Roaming\\jupyter\\nbextensions\\code_prettify\\README_autopep8.md\n",
      "[I 14:29:05 InstallContribNbextensionsApp] Copying: C:\\Users\\kapil\\anaconda3\\Lib\\site-packages\\jupyter_contrib_nbextensions\\nbextensions\\code_prettify\\README_code_prettify.md -> C:\\Users\\kapil\\AppData\\Roaming\\jupyter\\nbextensions\\code_prettify\\README_code_prettify.md\n",
      "[I 14:29:05 InstallContribNbextensionsApp] Copying: C:\\Users\\kapil\\anaconda3\\Lib\\site-packages\\jupyter_contrib_nbextensions\\nbextensions\\code_prettify\\README_isort.md -> C:\\Users\\kapil\\AppData\\Roaming\\jupyter\\nbextensions\\code_prettify\\README_isort.md\n",
      "[I 14:29:05 InstallContribNbextensionsApp] - Validating: ok\n",
      "[I 14:29:05 InstallContribNbextensionsApp] Installing C:\\Users\\kapil\\anaconda3\\Lib\\site-packages\\jupyter_contrib_nbextensions\\nbextensions\\code_prettify -> code_prettify\n",
      "[I 14:29:05 InstallContribNbextensionsApp] Up to date: C:\\Users\\kapil\\AppData\\Roaming\\jupyter\\nbextensions\\code_prettify\\2to3.js\n",
      "[I 14:29:05 InstallContribNbextensionsApp] Up to date: C:\\Users\\kapil\\AppData\\Roaming\\jupyter\\nbextensions\\code_prettify\\2to3.yaml\n",
      "[I 14:29:05 InstallContribNbextensionsApp] Up to date: C:\\Users\\kapil\\AppData\\Roaming\\jupyter\\nbextensions\\code_prettify\\autopep8.js\n",
      "[I 14:29:05 InstallContribNbextensionsApp] Up to date: C:\\Users\\kapil\\AppData\\Roaming\\jupyter\\nbextensions\\code_prettify\\autopep8.yaml\n",
      "[I 14:29:05 InstallContribNbextensionsApp] Up to date: C:\\Users\\kapil\\AppData\\Roaming\\jupyter\\nbextensions\\code_prettify\\code_prettify.js\n",
      "[I 14:29:05 InstallContribNbextensionsApp] Up to date: C:\\Users\\kapil\\AppData\\Roaming\\jupyter\\nbextensions\\code_prettify\\code_prettify.yaml\n",
      "[I 14:29:05 InstallContribNbextensionsApp] Up to date: C:\\Users\\kapil\\AppData\\Roaming\\jupyter\\nbextensions\\code_prettify\\demo-jv.gif\n",
      "[I 14:29:05 InstallContribNbextensionsApp] Up to date: C:\\Users\\kapil\\AppData\\Roaming\\jupyter\\nbextensions\\code_prettify\\demo-py.gif\n",
      "[I 14:29:05 InstallContribNbextensionsApp] Up to date: C:\\Users\\kapil\\AppData\\Roaming\\jupyter\\nbextensions\\code_prettify\\demo-R.gif\n",
      "[I 14:29:05 InstallContribNbextensionsApp] Up to date: C:\\Users\\kapil\\AppData\\Roaming\\jupyter\\nbextensions\\code_prettify\\demo_2to3.gif\n",
      "[I 14:29:05 InstallContribNbextensionsApp] Up to date: C:\\Users\\kapil\\AppData\\Roaming\\jupyter\\nbextensions\\code_prettify\\isort.js\n",
      "[I 14:29:05 InstallContribNbextensionsApp] Up to date: C:\\Users\\kapil\\AppData\\Roaming\\jupyter\\nbextensions\\code_prettify\\isort.yaml\n",
      "[I 14:29:05 InstallContribNbextensionsApp] Up to date: C:\\Users\\kapil\\AppData\\Roaming\\jupyter\\nbextensions\\code_prettify\\kernel_exec_on_cell.js\n",
      "[I 14:29:05 InstallContribNbextensionsApp] Up to date: C:\\Users\\kapil\\AppData\\Roaming\\jupyter\\nbextensions\\code_prettify\\README.md\n",
      "[I 14:29:05 InstallContribNbextensionsApp] Up to date: C:\\Users\\kapil\\AppData\\Roaming\\jupyter\\nbextensions\\code_prettify\\README_2to3.md\n",
      "[I 14:29:05 InstallContribNbextensionsApp] Up to date: C:\\Users\\kapil\\AppData\\Roaming\\jupyter\\nbextensions\\code_prettify\\README_autopep8.md\n",
      "[I 14:29:05 InstallContribNbextensionsApp] Up to date: C:\\Users\\kapil\\AppData\\Roaming\\jupyter\\nbextensions\\code_prettify\\README_code_prettify.md\n",
      "[I 14:29:05 InstallContribNbextensionsApp] Up to date: C:\\Users\\kapil\\AppData\\Roaming\\jupyter\\nbextensions\\code_prettify\\README_isort.md\n",
      "[I 14:29:05 InstallContribNbextensionsApp] - Validating: ok\n",
      "[I 14:29:05 InstallContribNbextensionsApp] Installing C:\\Users\\kapil\\anaconda3\\Lib\\site-packages\\jupyter_contrib_nbextensions\\nbextensions\\code_prettify -> code_prettify\n",
      "[I 14:29:05 InstallContribNbextensionsApp] Up to date: C:\\Users\\kapil\\AppData\\Roaming\\jupyter\\nbextensions\\code_prettify\\2to3.js\n",
      "[I 14:29:05 InstallContribNbextensionsApp] Up to date: C:\\Users\\kapil\\AppData\\Roaming\\jupyter\\nbextensions\\code_prettify\\2to3.yaml\n",
      "[I 14:29:05 InstallContribNbextensionsApp] Up to date: C:\\Users\\kapil\\AppData\\Roaming\\jupyter\\nbextensions\\code_prettify\\autopep8.js\n",
      "[I 14:29:05 InstallContribNbextensionsApp] Up to date: C:\\Users\\kapil\\AppData\\Roaming\\jupyter\\nbextensions\\code_prettify\\autopep8.yaml\n",
      "[I 14:29:05 InstallContribNbextensionsApp] Up to date: C:\\Users\\kapil\\AppData\\Roaming\\jupyter\\nbextensions\\code_prettify\\code_prettify.js\n",
      "[I 14:29:05 InstallContribNbextensionsApp] Up to date: C:\\Users\\kapil\\AppData\\Roaming\\jupyter\\nbextensions\\code_prettify\\code_prettify.yaml\n",
      "[I 14:29:05 InstallContribNbextensionsApp] Up to date: C:\\Users\\kapil\\AppData\\Roaming\\jupyter\\nbextensions\\code_prettify\\demo-jv.gif\n",
      "[I 14:29:05 InstallContribNbextensionsApp] Up to date: C:\\Users\\kapil\\AppData\\Roaming\\jupyter\\nbextensions\\code_prettify\\demo-py.gif\n",
      "[I 14:29:05 InstallContribNbextensionsApp] Up to date: C:\\Users\\kapil\\AppData\\Roaming\\jupyter\\nbextensions\\code_prettify\\demo-R.gif\n",
      "[I 14:29:05 InstallContribNbextensionsApp] Up to date: C:\\Users\\kapil\\AppData\\Roaming\\jupyter\\nbextensions\\code_prettify\\demo_2to3.gif\n",
      "[I 14:29:05 InstallContribNbextensionsApp] Up to date: C:\\Users\\kapil\\AppData\\Roaming\\jupyter\\nbextensions\\code_prettify\\isort.js\n",
      "[I 14:29:05 InstallContribNbextensionsApp] Up to date: C:\\Users\\kapil\\AppData\\Roaming\\jupyter\\nbextensions\\code_prettify\\isort.yaml\n",
      "[I 14:29:05 InstallContribNbextensionsApp] Up to date: C:\\Users\\kapil\\AppData\\Roaming\\jupyter\\nbextensions\\code_prettify\\kernel_exec_on_cell.js\n",
      "[I 14:29:05 InstallContribNbextensionsApp] Up to date: C:\\Users\\kapil\\AppData\\Roaming\\jupyter\\nbextensions\\code_prettify\\README.md\n",
      "[I 14:29:05 InstallContribNbextensionsApp] Up to date: C:\\Users\\kapil\\AppData\\Roaming\\jupyter\\nbextensions\\code_prettify\\README_2to3.md\n",
      "[I 14:29:05 InstallContribNbextensionsApp] Up to date: C:\\Users\\kapil\\AppData\\Roaming\\jupyter\\nbextensions\\code_prettify\\README_autopep8.md\n",
      "[I 14:29:05 InstallContribNbextensionsApp] Up to date: C:\\Users\\kapil\\AppData\\Roaming\\jupyter\\nbextensions\\code_prettify\\README_code_prettify.md\n",
      "[I 14:29:05 InstallContribNbextensionsApp] Up to date: C:\\Users\\kapil\\AppData\\Roaming\\jupyter\\nbextensions\\code_prettify\\README_isort.md\n",
      "[I 14:29:05 InstallContribNbextensionsApp] - Validating: ok\n",
      "[I 14:29:05 InstallContribNbextensionsApp] Installing C:\\Users\\kapil\\anaconda3\\Lib\\site-packages\\jupyter_contrib_nbextensions\\nbextensions\\code_prettify -> code_prettify\n",
      "[I 14:29:05 InstallContribNbextensionsApp] Up to date: C:\\Users\\kapil\\AppData\\Roaming\\jupyter\\nbextensions\\code_prettify\\2to3.js\n",
      "[I 14:29:05 InstallContribNbextensionsApp] Up to date: C:\\Users\\kapil\\AppData\\Roaming\\jupyter\\nbextensions\\code_prettify\\2to3.yaml\n",
      "[I 14:29:05 InstallContribNbextensionsApp] Up to date: C:\\Users\\kapil\\AppData\\Roaming\\jupyter\\nbextensions\\code_prettify\\autopep8.js\n",
      "[I 14:29:05 InstallContribNbextensionsApp] Up to date: C:\\Users\\kapil\\AppData\\Roaming\\jupyter\\nbextensions\\code_prettify\\autopep8.yaml\n",
      "[I 14:29:05 InstallContribNbextensionsApp] Up to date: C:\\Users\\kapil\\AppData\\Roaming\\jupyter\\nbextensions\\code_prettify\\code_prettify.js\n",
      "[I 14:29:05 InstallContribNbextensionsApp] Up to date: C:\\Users\\kapil\\AppData\\Roaming\\jupyter\\nbextensions\\code_prettify\\code_prettify.yaml\n",
      "[I 14:29:05 InstallContribNbextensionsApp] Up to date: C:\\Users\\kapil\\AppData\\Roaming\\jupyter\\nbextensions\\code_prettify\\demo-jv.gif\n",
      "[I 14:29:05 InstallContribNbextensionsApp] Up to date: C:\\Users\\kapil\\AppData\\Roaming\\jupyter\\nbextensions\\code_prettify\\demo-py.gif\n",
      "[I 14:29:05 InstallContribNbextensionsApp] Up to date: C:\\Users\\kapil\\AppData\\Roaming\\jupyter\\nbextensions\\code_prettify\\demo-R.gif\n",
      "[I 14:29:05 InstallContribNbextensionsApp] Up to date: C:\\Users\\kapil\\AppData\\Roaming\\jupyter\\nbextensions\\code_prettify\\demo_2to3.gif\n",
      "[I 14:29:05 InstallContribNbextensionsApp] Up to date: C:\\Users\\kapil\\AppData\\Roaming\\jupyter\\nbextensions\\code_prettify\\isort.js\n",
      "[I 14:29:05 InstallContribNbextensionsApp] Up to date: C:\\Users\\kapil\\AppData\\Roaming\\jupyter\\nbextensions\\code_prettify\\isort.yaml\n",
      "[I 14:29:05 InstallContribNbextensionsApp] Up to date: C:\\Users\\kapil\\AppData\\Roaming\\jupyter\\nbextensions\\code_prettify\\kernel_exec_on_cell.js\n",
      "[I 14:29:05 InstallContribNbextensionsApp] Up to date: C:\\Users\\kapil\\AppData\\Roaming\\jupyter\\nbextensions\\code_prettify\\README.md\n",
      "[I 14:29:05 InstallContribNbextensionsApp] Up to date: C:\\Users\\kapil\\AppData\\Roaming\\jupyter\\nbextensions\\code_prettify\\README_2to3.md\n",
      "[I 14:29:05 InstallContribNbextensionsApp] Up to date: C:\\Users\\kapil\\AppData\\Roaming\\jupyter\\nbextensions\\code_prettify\\README_autopep8.md\n",
      "[I 14:29:05 InstallContribNbextensionsApp] Up to date: C:\\Users\\kapil\\AppData\\Roaming\\jupyter\\nbextensions\\code_prettify\\README_code_prettify.md\n",
      "[I 14:29:05 InstallContribNbextensionsApp] Up to date: C:\\Users\\kapil\\AppData\\Roaming\\jupyter\\nbextensions\\code_prettify\\README_isort.md\n",
      "[I 14:29:05 InstallContribNbextensionsApp] - Validating: ok\n",
      "[I 14:29:05 InstallContribNbextensionsApp] Installing C:\\Users\\kapil\\anaconda3\\Lib\\site-packages\\jupyter_contrib_nbextensions\\nbextensions\\collapsible_headings -> collapsible_headings\n",
      "[I 14:29:05 InstallContribNbextensionsApp] Making directory: C:\\Users\\kapil\\AppData\\Roaming\\jupyter\\nbextensions\\collapsible_headings\\\n",
      "[I 14:29:05 InstallContribNbextensionsApp] Copying: C:\\Users\\kapil\\anaconda3\\Lib\\site-packages\\jupyter_contrib_nbextensions\\nbextensions\\collapsible_headings\\collapsible_headings.yaml -> C:\\Users\\kapil\\AppData\\Roaming\\jupyter\\nbextensions\\collapsible_headings\\collapsible_headings.yaml\n",
      "[I 14:29:05 InstallContribNbextensionsApp] Copying: C:\\Users\\kapil\\anaconda3\\Lib\\site-packages\\jupyter_contrib_nbextensions\\nbextensions\\collapsible_headings\\icon.png -> C:\\Users\\kapil\\AppData\\Roaming\\jupyter\\nbextensions\\collapsible_headings\\icon.png\n",
      "[I 14:29:05 InstallContribNbextensionsApp] Copying: C:\\Users\\kapil\\anaconda3\\Lib\\site-packages\\jupyter_contrib_nbextensions\\nbextensions\\collapsible_headings\\main.css -> C:\\Users\\kapil\\AppData\\Roaming\\jupyter\\nbextensions\\collapsible_headings\\main.css\n",
      "[I 14:29:05 InstallContribNbextensionsApp] Copying: C:\\Users\\kapil\\anaconda3\\Lib\\site-packages\\jupyter_contrib_nbextensions\\nbextensions\\collapsible_headings\\main.js -> C:\\Users\\kapil\\AppData\\Roaming\\jupyter\\nbextensions\\collapsible_headings\\main.js\n",
      "[I 14:29:05 InstallContribNbextensionsApp] Copying: C:\\Users\\kapil\\anaconda3\\Lib\\site-packages\\jupyter_contrib_nbextensions\\nbextensions\\collapsible_headings\\readme.md -> C:\\Users\\kapil\\AppData\\Roaming\\jupyter\\nbextensions\\collapsible_headings\\readme.md\n",
      "[I 14:29:05 InstallContribNbextensionsApp] Copying: C:\\Users\\kapil\\anaconda3\\Lib\\site-packages\\jupyter_contrib_nbextensions\\nbextensions\\collapsible_headings\\screenshot.png -> C:\\Users\\kapil\\AppData\\Roaming\\jupyter\\nbextensions\\collapsible_headings\\screenshot.png\n",
      "[I 14:29:05 InstallContribNbextensionsApp] - Validating: ok\n",
      "[I 14:29:05 InstallContribNbextensionsApp] Installing C:\\Users\\kapil\\anaconda3\\Lib\\site-packages\\jupyter_contrib_nbextensions\\nbextensions\\comment-uncomment -> comment-uncomment\n",
      "[I 14:29:05 InstallContribNbextensionsApp] Making directory: C:\\Users\\kapil\\AppData\\Roaming\\jupyter\\nbextensions\\comment-uncomment\\\n",
      "[I 14:29:05 InstallContribNbextensionsApp] Copying: C:\\Users\\kapil\\anaconda3\\Lib\\site-packages\\jupyter_contrib_nbextensions\\nbextensions\\comment-uncomment\\comment-uncomment.yaml -> C:\\Users\\kapil\\AppData\\Roaming\\jupyter\\nbextensions\\comment-uncomment\\comment-uncomment.yaml\n",
      "[I 14:29:05 InstallContribNbextensionsApp] Copying: C:\\Users\\kapil\\anaconda3\\Lib\\site-packages\\jupyter_contrib_nbextensions\\nbextensions\\comment-uncomment\\icon.png -> C:\\Users\\kapil\\AppData\\Roaming\\jupyter\\nbextensions\\comment-uncomment\\icon.png\n",
      "[I 14:29:05 InstallContribNbextensionsApp] Copying: C:\\Users\\kapil\\anaconda3\\Lib\\site-packages\\jupyter_contrib_nbextensions\\nbextensions\\comment-uncomment\\main.js -> C:\\Users\\kapil\\AppData\\Roaming\\jupyter\\nbextensions\\comment-uncomment\\main.js\n",
      "[I 14:29:05 InstallContribNbextensionsApp] Copying: C:\\Users\\kapil\\anaconda3\\Lib\\site-packages\\jupyter_contrib_nbextensions\\nbextensions\\comment-uncomment\\readme.md -> C:\\Users\\kapil\\AppData\\Roaming\\jupyter\\nbextensions\\comment-uncomment\\readme.md\n",
      "[I 14:29:05 InstallContribNbextensionsApp] - Validating: ok\n",
      "[I 14:29:05 InstallContribNbextensionsApp] Installing C:\\Users\\kapil\\anaconda3\\Lib\\site-packages\\jupyter_contrib_nbextensions\\nbextensions\\contrib_nbextensions_help_item -> contrib_nbextensions_help_item\n",
      "[I 14:29:05 InstallContribNbextensionsApp] Making directory: C:\\Users\\kapil\\AppData\\Roaming\\jupyter\\nbextensions\\contrib_nbextensions_help_item\\\n",
      "[I 14:29:05 InstallContribNbextensionsApp] Copying: C:\\Users\\kapil\\anaconda3\\Lib\\site-packages\\jupyter_contrib_nbextensions\\nbextensions\\contrib_nbextensions_help_item\\contrib_nbextensions_help_item.yaml -> C:\\Users\\kapil\\AppData\\Roaming\\jupyter\\nbextensions\\contrib_nbextensions_help_item\\contrib_nbextensions_help_item.yaml\n",
      "[I 14:29:05 InstallContribNbextensionsApp] Copying: C:\\Users\\kapil\\anaconda3\\Lib\\site-packages\\jupyter_contrib_nbextensions\\nbextensions\\contrib_nbextensions_help_item\\main.js -> C:\\Users\\kapil\\AppData\\Roaming\\jupyter\\nbextensions\\contrib_nbextensions_help_item\\main.js\n",
      "[I 14:29:05 InstallContribNbextensionsApp] Copying: C:\\Users\\kapil\\anaconda3\\Lib\\site-packages\\jupyter_contrib_nbextensions\\nbextensions\\contrib_nbextensions_help_item\\README.md -> C:\\Users\\kapil\\AppData\\Roaming\\jupyter\\nbextensions\\contrib_nbextensions_help_item\\README.md\n",
      "[I 14:29:05 InstallContribNbextensionsApp] - Validating: ok\n",
      "[I 14:29:05 InstallContribNbextensionsApp] Installing C:\\Users\\kapil\\anaconda3\\Lib\\site-packages\\jupyter_contrib_nbextensions\\nbextensions\\datestamper -> datestamper\n",
      "[I 14:29:05 InstallContribNbextensionsApp] Making directory: C:\\Users\\kapil\\AppData\\Roaming\\jupyter\\nbextensions\\datestamper\\\n",
      "[I 14:29:05 InstallContribNbextensionsApp] Copying: C:\\Users\\kapil\\anaconda3\\Lib\\site-packages\\jupyter_contrib_nbextensions\\nbextensions\\datestamper\\icon.png -> C:\\Users\\kapil\\AppData\\Roaming\\jupyter\\nbextensions\\datestamper\\icon.png\n",
      "[I 14:29:05 InstallContribNbextensionsApp] Copying: C:\\Users\\kapil\\anaconda3\\Lib\\site-packages\\jupyter_contrib_nbextensions\\nbextensions\\datestamper\\main.js -> C:\\Users\\kapil\\AppData\\Roaming\\jupyter\\nbextensions\\datestamper\\main.js\n",
      "[I 14:29:05 InstallContribNbextensionsApp] Copying: C:\\Users\\kapil\\anaconda3\\Lib\\site-packages\\jupyter_contrib_nbextensions\\nbextensions\\datestamper\\main.yaml -> C:\\Users\\kapil\\AppData\\Roaming\\jupyter\\nbextensions\\datestamper\\main.yaml\n",
      "[I 14:29:05 InstallContribNbextensionsApp] Copying: C:\\Users\\kapil\\anaconda3\\Lib\\site-packages\\jupyter_contrib_nbextensions\\nbextensions\\datestamper\\readme.md -> C:\\Users\\kapil\\AppData\\Roaming\\jupyter\\nbextensions\\datestamper\\readme.md\n",
      "[I 14:29:05 InstallContribNbextensionsApp] - Validating: ok\n",
      "[I 14:29:05 InstallContribNbextensionsApp] Installing C:\\Users\\kapil\\anaconda3\\Lib\\site-packages\\jupyter_contrib_nbextensions\\nbextensions\\equation-numbering -> equation-numbering\n",
      "[I 14:29:05 InstallContribNbextensionsApp] Making directory: C:\\Users\\kapil\\AppData\\Roaming\\jupyter\\nbextensions\\equation-numbering\\\n",
      "[I 14:29:05 InstallContribNbextensionsApp] Copying: C:\\Users\\kapil\\anaconda3\\Lib\\site-packages\\jupyter_contrib_nbextensions\\nbextensions\\equation-numbering\\button.png -> C:\\Users\\kapil\\AppData\\Roaming\\jupyter\\nbextensions\\equation-numbering\\button.png\n",
      "[I 14:29:05 InstallContribNbextensionsApp] Copying: C:\\Users\\kapil\\anaconda3\\Lib\\site-packages\\jupyter_contrib_nbextensions\\nbextensions\\equation-numbering\\icon.png -> C:\\Users\\kapil\\AppData\\Roaming\\jupyter\\nbextensions\\equation-numbering\\icon.png\n",
      "[I 14:29:05 InstallContribNbextensionsApp] Copying: C:\\Users\\kapil\\anaconda3\\Lib\\site-packages\\jupyter_contrib_nbextensions\\nbextensions\\equation-numbering\\info.yaml -> C:\\Users\\kapil\\AppData\\Roaming\\jupyter\\nbextensions\\equation-numbering\\info.yaml\n",
      "[I 14:29:05 InstallContribNbextensionsApp] Copying: C:\\Users\\kapil\\anaconda3\\Lib\\site-packages\\jupyter_contrib_nbextensions\\nbextensions\\equation-numbering\\main.js -> C:\\Users\\kapil\\AppData\\Roaming\\jupyter\\nbextensions\\equation-numbering\\main.js\n",
      "[I 14:29:05 InstallContribNbextensionsApp] Copying: C:\\Users\\kapil\\anaconda3\\Lib\\site-packages\\jupyter_contrib_nbextensions\\nbextensions\\equation-numbering\\readme.md -> C:\\Users\\kapil\\AppData\\Roaming\\jupyter\\nbextensions\\equation-numbering\\readme.md\n",
      "[I 14:29:05 InstallContribNbextensionsApp] - Validating: ok\n",
      "[I 14:29:05 InstallContribNbextensionsApp] Installing C:\\Users\\kapil\\anaconda3\\Lib\\site-packages\\jupyter_contrib_nbextensions\\nbextensions\\execute_time -> execute_time\n",
      "[I 14:29:05 InstallContribNbextensionsApp] Making directory: C:\\Users\\kapil\\AppData\\Roaming\\jupyter\\nbextensions\\execute_time\\\n",
      "[I 14:29:05 InstallContribNbextensionsApp] Copying: C:\\Users\\kapil\\anaconda3\\Lib\\site-packages\\jupyter_contrib_nbextensions\\nbextensions\\execute_time\\ExecuteTime.css -> C:\\Users\\kapil\\AppData\\Roaming\\jupyter\\nbextensions\\execute_time\\ExecuteTime.css\n",
      "[I 14:29:05 InstallContribNbextensionsApp] Copying: C:\\Users\\kapil\\anaconda3\\Lib\\site-packages\\jupyter_contrib_nbextensions\\nbextensions\\execute_time\\ExecuteTime.js -> C:\\Users\\kapil\\AppData\\Roaming\\jupyter\\nbextensions\\execute_time\\ExecuteTime.js\n",
      "[I 14:29:05 InstallContribNbextensionsApp] Copying: C:\\Users\\kapil\\anaconda3\\Lib\\site-packages\\jupyter_contrib_nbextensions\\nbextensions\\execute_time\\ExecuteTime.yaml -> C:\\Users\\kapil\\AppData\\Roaming\\jupyter\\nbextensions\\execute_time\\ExecuteTime.yaml\n",
      "[I 14:29:05 InstallContribNbextensionsApp] Copying: C:\\Users\\kapil\\anaconda3\\Lib\\site-packages\\jupyter_contrib_nbextensions\\nbextensions\\execute_time\\execution-timings-box.png -> C:\\Users\\kapil\\AppData\\Roaming\\jupyter\\nbextensions\\execute_time\\execution-timings-box.png\n",
      "[I 14:29:05 InstallContribNbextensionsApp] Copying: C:\\Users\\kapil\\anaconda3\\Lib\\site-packages\\jupyter_contrib_nbextensions\\nbextensions\\execute_time\\execution-timings-menu.png -> C:\\Users\\kapil\\AppData\\Roaming\\jupyter\\nbextensions\\execute_time\\execution-timings-menu.png\n",
      "[I 14:29:05 InstallContribNbextensionsApp] Copying: C:\\Users\\kapil\\anaconda3\\Lib\\site-packages\\jupyter_contrib_nbextensions\\nbextensions\\execute_time\\icon.png -> C:\\Users\\kapil\\AppData\\Roaming\\jupyter\\nbextensions\\execute_time\\icon.png\n",
      "[I 14:29:05 InstallContribNbextensionsApp] Copying: C:\\Users\\kapil\\anaconda3\\Lib\\site-packages\\jupyter_contrib_nbextensions\\nbextensions\\execute_time\\readme.md -> C:\\Users\\kapil\\AppData\\Roaming\\jupyter\\nbextensions\\execute_time\\readme.md\n",
      "[I 14:29:05 InstallContribNbextensionsApp] - Validating: ok\n",
      "[I 14:29:05 InstallContribNbextensionsApp] Installing C:\\Users\\kapil\\anaconda3\\Lib\\site-packages\\jupyter_contrib_nbextensions\\nbextensions\\execution_dependencies -> execution_dependencies\n",
      "[I 14:29:05 InstallContribNbextensionsApp] Making directory: C:\\Users\\kapil\\AppData\\Roaming\\jupyter\\nbextensions\\execution_dependencies\\\n",
      "[I 14:29:05 InstallContribNbextensionsApp] Copying: C:\\Users\\kapil\\anaconda3\\Lib\\site-packages\\jupyter_contrib_nbextensions\\nbextensions\\execution_dependencies\\execution_dependencies.js -> C:\\Users\\kapil\\AppData\\Roaming\\jupyter\\nbextensions\\execution_dependencies\\execution_dependencies.js\n",
      "[I 14:29:05 InstallContribNbextensionsApp] Copying: C:\\Users\\kapil\\anaconda3\\Lib\\site-packages\\jupyter_contrib_nbextensions\\nbextensions\\execution_dependencies\\execution_dependencies.yml -> C:\\Users\\kapil\\AppData\\Roaming\\jupyter\\nbextensions\\execution_dependencies\\execution_dependencies.yml\n",
      "[I 14:29:05 InstallContribNbextensionsApp] Copying: C:\\Users\\kapil\\anaconda3\\Lib\\site-packages\\jupyter_contrib_nbextensions\\nbextensions\\execution_dependencies\\README.md -> C:\\Users\\kapil\\AppData\\Roaming\\jupyter\\nbextensions\\execution_dependencies\\README.md\n",
      "[I 14:29:05 InstallContribNbextensionsApp] - Validating: ok\n",
      "[I 14:29:05 InstallContribNbextensionsApp] Installing C:\\Users\\kapil\\anaconda3\\Lib\\site-packages\\jupyter_contrib_nbextensions\\nbextensions\\exercise -> exercise\n",
      "[I 14:29:05 InstallContribNbextensionsApp] Making directory: C:\\Users\\kapil\\AppData\\Roaming\\jupyter\\nbextensions\\exercise\\\n",
      "[I 14:29:05 InstallContribNbextensionsApp] Copying: C:\\Users\\kapil\\anaconda3\\Lib\\site-packages\\jupyter_contrib_nbextensions\\nbextensions\\exercise\\exercise.yaml -> C:\\Users\\kapil\\AppData\\Roaming\\jupyter\\nbextensions\\exercise\\exercise.yaml\n",
      "[I 14:29:05 InstallContribNbextensionsApp] Copying: C:\\Users\\kapil\\anaconda3\\Lib\\site-packages\\jupyter_contrib_nbextensions\\nbextensions\\exercise\\history.md -> C:\\Users\\kapil\\AppData\\Roaming\\jupyter\\nbextensions\\exercise\\history.md\n",
      "[I 14:29:05 InstallContribNbextensionsApp] Copying: C:\\Users\\kapil\\anaconda3\\Lib\\site-packages\\jupyter_contrib_nbextensions\\nbextensions\\exercise\\icon.png -> C:\\Users\\kapil\\AppData\\Roaming\\jupyter\\nbextensions\\exercise\\icon.png\n",
      "[I 14:29:05 InstallContribNbextensionsApp] Copying: C:\\Users\\kapil\\anaconda3\\Lib\\site-packages\\jupyter_contrib_nbextensions\\nbextensions\\exercise\\image.gif -> C:\\Users\\kapil\\AppData\\Roaming\\jupyter\\nbextensions\\exercise\\image.gif\n",
      "[I 14:29:05 InstallContribNbextensionsApp] Copying: C:\\Users\\kapil\\anaconda3\\Lib\\site-packages\\jupyter_contrib_nbextensions\\nbextensions\\exercise\\main.css -> C:\\Users\\kapil\\AppData\\Roaming\\jupyter\\nbextensions\\exercise\\main.css\n",
      "[I 14:29:05 InstallContribNbextensionsApp] Copying: C:\\Users\\kapil\\anaconda3\\Lib\\site-packages\\jupyter_contrib_nbextensions\\nbextensions\\exercise\\main.js -> C:\\Users\\kapil\\AppData\\Roaming\\jupyter\\nbextensions\\exercise\\main.js\n",
      "[I 14:29:05 InstallContribNbextensionsApp] Copying: C:\\Users\\kapil\\anaconda3\\Lib\\site-packages\\jupyter_contrib_nbextensions\\nbextensions\\exercise\\readme.md -> C:\\Users\\kapil\\AppData\\Roaming\\jupyter\\nbextensions\\exercise\\readme.md\n",
      "[I 14:29:05 InstallContribNbextensionsApp] - Validating: ok\n",
      "[I 14:29:05 InstallContribNbextensionsApp] Installing C:\\Users\\kapil\\anaconda3\\Lib\\site-packages\\jupyter_contrib_nbextensions\\nbextensions\\exercise2 -> exercise2\n",
      "[I 14:29:05 InstallContribNbextensionsApp] Making directory: C:\\Users\\kapil\\AppData\\Roaming\\jupyter\\nbextensions\\exercise2\\\n",
      "[I 14:29:05 InstallContribNbextensionsApp] Copying: C:\\Users\\kapil\\anaconda3\\Lib\\site-packages\\jupyter_contrib_nbextensions\\nbextensions\\exercise2\\exercise2.yaml -> C:\\Users\\kapil\\AppData\\Roaming\\jupyter\\nbextensions\\exercise2\\exercise2.yaml\n",
      "[I 14:29:05 InstallContribNbextensionsApp] Copying: C:\\Users\\kapil\\anaconda3\\Lib\\site-packages\\jupyter_contrib_nbextensions\\nbextensions\\exercise2\\icon.png -> C:\\Users\\kapil\\AppData\\Roaming\\jupyter\\nbextensions\\exercise2\\icon.png\n",
      "[I 14:29:05 InstallContribNbextensionsApp] Copying: C:\\Users\\kapil\\anaconda3\\Lib\\site-packages\\jupyter_contrib_nbextensions\\nbextensions\\exercise2\\image.gif -> C:\\Users\\kapil\\AppData\\Roaming\\jupyter\\nbextensions\\exercise2\\image.gif\n",
      "[I 14:29:05 InstallContribNbextensionsApp] Copying: C:\\Users\\kapil\\anaconda3\\Lib\\site-packages\\jupyter_contrib_nbextensions\\nbextensions\\exercise2\\main.css -> C:\\Users\\kapil\\AppData\\Roaming\\jupyter\\nbextensions\\exercise2\\main.css\n",
      "[I 14:29:05 InstallContribNbextensionsApp] Copying: C:\\Users\\kapil\\anaconda3\\Lib\\site-packages\\jupyter_contrib_nbextensions\\nbextensions\\exercise2\\main.js -> C:\\Users\\kapil\\AppData\\Roaming\\jupyter\\nbextensions\\exercise2\\main.js\n",
      "[I 14:29:05 InstallContribNbextensionsApp] Copying: C:\\Users\\kapil\\anaconda3\\Lib\\site-packages\\jupyter_contrib_nbextensions\\nbextensions\\exercise2\\readme.md -> C:\\Users\\kapil\\AppData\\Roaming\\jupyter\\nbextensions\\exercise2\\readme.md\n",
      "[I 14:29:05 InstallContribNbextensionsApp] - Validating: ok\n",
      "[I 14:29:05 InstallContribNbextensionsApp] Installing C:\\Users\\kapil\\anaconda3\\Lib\\site-packages\\jupyter_contrib_nbextensions\\nbextensions\\export_embedded -> export_embedded\n",
      "[I 14:29:05 InstallContribNbextensionsApp] Making directory: C:\\Users\\kapil\\AppData\\Roaming\\jupyter\\nbextensions\\export_embedded\\\n",
      "[I 14:29:05 InstallContribNbextensionsApp] Copying: C:\\Users\\kapil\\anaconda3\\Lib\\site-packages\\jupyter_contrib_nbextensions\\nbextensions\\export_embedded\\export_embedded.yaml -> C:\\Users\\kapil\\AppData\\Roaming\\jupyter\\nbextensions\\export_embedded\\export_embedded.yaml\n",
      "[I 14:29:05 InstallContribNbextensionsApp] Copying: C:\\Users\\kapil\\anaconda3\\Lib\\site-packages\\jupyter_contrib_nbextensions\\nbextensions\\export_embedded\\icon.png -> C:\\Users\\kapil\\AppData\\Roaming\\jupyter\\nbextensions\\export_embedded\\icon.png\n",
      "[I 14:29:05 InstallContribNbextensionsApp] Copying: C:\\Users\\kapil\\anaconda3\\Lib\\site-packages\\jupyter_contrib_nbextensions\\nbextensions\\export_embedded\\main.js -> C:\\Users\\kapil\\AppData\\Roaming\\jupyter\\nbextensions\\export_embedded\\main.js\n",
      "[I 14:29:05 InstallContribNbextensionsApp] Copying: C:\\Users\\kapil\\anaconda3\\Lib\\site-packages\\jupyter_contrib_nbextensions\\nbextensions\\export_embedded\\readme.md -> C:\\Users\\kapil\\AppData\\Roaming\\jupyter\\nbextensions\\export_embedded\\readme.md\n",
      "[I 14:29:05 InstallContribNbextensionsApp] - Validating: ok\n",
      "[I 14:29:05 InstallContribNbextensionsApp] Installing C:\\Users\\kapil\\anaconda3\\Lib\\site-packages\\jupyter_contrib_nbextensions\\nbextensions\\freeze -> freeze\n",
      "[I 14:29:05 InstallContribNbextensionsApp] Making directory: C:\\Users\\kapil\\AppData\\Roaming\\jupyter\\nbextensions\\freeze\\\n",
      "[I 14:29:05 InstallContribNbextensionsApp] Copying: C:\\Users\\kapil\\anaconda3\\Lib\\site-packages\\jupyter_contrib_nbextensions\\nbextensions\\freeze\\config.yaml -> C:\\Users\\kapil\\AppData\\Roaming\\jupyter\\nbextensions\\freeze\\config.yaml\n",
      "[I 14:29:05 InstallContribNbextensionsApp] Copying: C:\\Users\\kapil\\anaconda3\\Lib\\site-packages\\jupyter_contrib_nbextensions\\nbextensions\\freeze\\icon.png -> C:\\Users\\kapil\\AppData\\Roaming\\jupyter\\nbextensions\\freeze\\icon.png\n",
      "[I 14:29:05 InstallContribNbextensionsApp] Copying: C:\\Users\\kapil\\anaconda3\\Lib\\site-packages\\jupyter_contrib_nbextensions\\nbextensions\\freeze\\main.js -> C:\\Users\\kapil\\AppData\\Roaming\\jupyter\\nbextensions\\freeze\\main.js\n",
      "[I 14:29:05 InstallContribNbextensionsApp] Copying: C:\\Users\\kapil\\anaconda3\\Lib\\site-packages\\jupyter_contrib_nbextensions\\nbextensions\\freeze\\readme.md -> C:\\Users\\kapil\\AppData\\Roaming\\jupyter\\nbextensions\\freeze\\readme.md\n",
      "[I 14:29:05 InstallContribNbextensionsApp] - Validating: ok\n",
      "[I 14:29:05 InstallContribNbextensionsApp] Installing C:\\Users\\kapil\\anaconda3\\Lib\\site-packages\\jupyter_contrib_nbextensions\\nbextensions\\gist_it -> gist_it\n",
      "[I 14:29:05 InstallContribNbextensionsApp] Making directory: C:\\Users\\kapil\\AppData\\Roaming\\jupyter\\nbextensions\\gist_it\\\n",
      "[I 14:29:05 InstallContribNbextensionsApp] Copying: C:\\Users\\kapil\\anaconda3\\Lib\\site-packages\\jupyter_contrib_nbextensions\\nbextensions\\gist_it\\gist_it.yaml -> C:\\Users\\kapil\\AppData\\Roaming\\jupyter\\nbextensions\\gist_it\\gist_it.yaml\n",
      "[I 14:29:05 InstallContribNbextensionsApp] Copying: C:\\Users\\kapil\\anaconda3\\Lib\\site-packages\\jupyter_contrib_nbextensions\\nbextensions\\gist_it\\icon.png -> C:\\Users\\kapil\\AppData\\Roaming\\jupyter\\nbextensions\\gist_it\\icon.png\n",
      "[I 14:29:05 InstallContribNbextensionsApp] Copying: C:\\Users\\kapil\\anaconda3\\Lib\\site-packages\\jupyter_contrib_nbextensions\\nbextensions\\gist_it\\main.js -> C:\\Users\\kapil\\AppData\\Roaming\\jupyter\\nbextensions\\gist_it\\main.js\n",
      "[I 14:29:05 InstallContribNbextensionsApp] Copying: C:\\Users\\kapil\\anaconda3\\Lib\\site-packages\\jupyter_contrib_nbextensions\\nbextensions\\gist_it\\readme.md -> C:\\Users\\kapil\\AppData\\Roaming\\jupyter\\nbextensions\\gist_it\\readme.md\n",
      "[I 14:29:05 InstallContribNbextensionsApp] - Validating: ok\n",
      "[I 14:29:05 InstallContribNbextensionsApp] Installing C:\\Users\\kapil\\anaconda3\\Lib\\site-packages\\jupyter_contrib_nbextensions\\nbextensions\\go_to_current_running_cell -> go_to_current_running_cell\n",
      "[I 14:29:05 InstallContribNbextensionsApp] Making directory: C:\\Users\\kapil\\AppData\\Roaming\\jupyter\\nbextensions\\go_to_current_running_cell\\\n",
      "[I 14:29:05 InstallContribNbextensionsApp] Copying: C:\\Users\\kapil\\anaconda3\\Lib\\site-packages\\jupyter_contrib_nbextensions\\nbextensions\\go_to_current_running_cell\\anchor.png -> C:\\Users\\kapil\\AppData\\Roaming\\jupyter\\nbextensions\\go_to_current_running_cell\\anchor.png\n",
      "[I 14:29:05 InstallContribNbextensionsApp] Copying: C:\\Users\\kapil\\anaconda3\\Lib\\site-packages\\jupyter_contrib_nbextensions\\nbextensions\\go_to_current_running_cell\\auto_focus.gif -> C:\\Users\\kapil\\AppData\\Roaming\\jupyter\\nbextensions\\go_to_current_running_cell\\auto_focus.gif\n",
      "[I 14:29:05 InstallContribNbextensionsApp] Copying: C:\\Users\\kapil\\anaconda3\\Lib\\site-packages\\jupyter_contrib_nbextensions\\nbextensions\\go_to_current_running_cell\\eye.png -> C:\\Users\\kapil\\AppData\\Roaming\\jupyter\\nbextensions\\go_to_current_running_cell\\eye.png\n",
      "[I 14:29:05 InstallContribNbextensionsApp] Copying: C:\\Users\\kapil\\anaconda3\\Lib\\site-packages\\jupyter_contrib_nbextensions\\nbextensions\\go_to_current_running_cell\\go_to_current_running_cell.yaml -> C:\\Users\\kapil\\AppData\\Roaming\\jupyter\\nbextensions\\go_to_current_running_cell\\go_to_current_running_cell.yaml\n",
      "[I 14:29:05 InstallContribNbextensionsApp] Copying: C:\\Users\\kapil\\anaconda3\\Lib\\site-packages\\jupyter_contrib_nbextensions\\nbextensions\\go_to_current_running_cell\\jump_to_cell.gif -> C:\\Users\\kapil\\AppData\\Roaming\\jupyter\\nbextensions\\go_to_current_running_cell\\jump_to_cell.gif\n",
      "[I 14:29:05 InstallContribNbextensionsApp] Copying: C:\\Users\\kapil\\anaconda3\\Lib\\site-packages\\jupyter_contrib_nbextensions\\nbextensions\\go_to_current_running_cell\\main.js -> C:\\Users\\kapil\\AppData\\Roaming\\jupyter\\nbextensions\\go_to_current_running_cell\\main.js\n",
      "[I 14:29:05 InstallContribNbextensionsApp] Copying: C:\\Users\\kapil\\anaconda3\\Lib\\site-packages\\jupyter_contrib_nbextensions\\nbextensions\\go_to_current_running_cell\\README.md -> C:\\Users\\kapil\\AppData\\Roaming\\jupyter\\nbextensions\\go_to_current_running_cell\\README.md\n",
      "[I 14:29:05 InstallContribNbextensionsApp] - Validating: ok\n",
      "[I 14:29:05 InstallContribNbextensionsApp] Installing C:\\Users\\kapil\\anaconda3\\Lib\\site-packages\\jupyter_contrib_nbextensions\\nbextensions\\help_panel -> help_panel\n",
      "[I 14:29:05 InstallContribNbextensionsApp] Making directory: C:\\Users\\kapil\\AppData\\Roaming\\jupyter\\nbextensions\\help_panel\\\n",
      "[I 14:29:05 InstallContribNbextensionsApp] Copying: C:\\Users\\kapil\\anaconda3\\Lib\\site-packages\\jupyter_contrib_nbextensions\\nbextensions\\help_panel\\help_panel.css -> C:\\Users\\kapil\\AppData\\Roaming\\jupyter\\nbextensions\\help_panel\\help_panel.css\n",
      "[I 14:29:05 InstallContribNbextensionsApp] Copying: C:\\Users\\kapil\\anaconda3\\Lib\\site-packages\\jupyter_contrib_nbextensions\\nbextensions\\help_panel\\help_panel.js -> C:\\Users\\kapil\\AppData\\Roaming\\jupyter\\nbextensions\\help_panel\\help_panel.js\n",
      "[I 14:29:05 InstallContribNbextensionsApp] Copying: C:\\Users\\kapil\\anaconda3\\Lib\\site-packages\\jupyter_contrib_nbextensions\\nbextensions\\help_panel\\help_panel.yaml -> C:\\Users\\kapil\\AppData\\Roaming\\jupyter\\nbextensions\\help_panel\\help_panel.yaml\n",
      "[I 14:29:05 InstallContribNbextensionsApp] Copying: C:\\Users\\kapil\\anaconda3\\Lib\\site-packages\\jupyter_contrib_nbextensions\\nbextensions\\help_panel\\help_panel_ext.png -> C:\\Users\\kapil\\AppData\\Roaming\\jupyter\\nbextensions\\help_panel\\help_panel_ext.png\n",
      "[I 14:29:05 InstallContribNbextensionsApp] Copying: C:\\Users\\kapil\\anaconda3\\Lib\\site-packages\\jupyter_contrib_nbextensions\\nbextensions\\help_panel\\help_panel_ext_fullscreen.png -> C:\\Users\\kapil\\AppData\\Roaming\\jupyter\\nbextensions\\help_panel\\help_panel_ext_fullscreen.png\n",
      "[I 14:29:05 InstallContribNbextensionsApp] Copying: C:\\Users\\kapil\\anaconda3\\Lib\\site-packages\\jupyter_contrib_nbextensions\\nbextensions\\help_panel\\icon.png -> C:\\Users\\kapil\\AppData\\Roaming\\jupyter\\nbextensions\\help_panel\\icon.png\n",
      "[I 14:29:05 InstallContribNbextensionsApp] Copying: C:\\Users\\kapil\\anaconda3\\Lib\\site-packages\\jupyter_contrib_nbextensions\\nbextensions\\help_panel\\readme.md -> C:\\Users\\kapil\\AppData\\Roaming\\jupyter\\nbextensions\\help_panel\\readme.md\n",
      "[I 14:29:05 InstallContribNbextensionsApp] Making directory: C:\\Users\\kapil\\AppData\\Roaming\\jupyter\\nbextensions\\help_panel\\img\n",
      "[I 14:29:05 InstallContribNbextensionsApp] Copying: C:\\Users\\kapil\\anaconda3\\Lib\\site-packages\\jupyter_contrib_nbextensions\\nbextensions\\help_panel\\img\\handle-v.png -> C:\\Users\\kapil\\AppData\\Roaming\\jupyter\\nbextensions\\help_panel\\img\\handle-v.png\n",
      "[I 14:29:05 InstallContribNbextensionsApp] - Validating: ok\n",
      "[I 14:29:05 InstallContribNbextensionsApp] Installing C:\\Users\\kapil\\anaconda3\\Lib\\site-packages\\jupyter_contrib_nbextensions\\nbextensions\\hide_header -> hide_header\n",
      "[I 14:29:05 InstallContribNbextensionsApp] Making directory: C:\\Users\\kapil\\AppData\\Roaming\\jupyter\\nbextensions\\hide_header\\\n",
      "[I 14:29:05 InstallContribNbextensionsApp] Copying: C:\\Users\\kapil\\anaconda3\\Lib\\site-packages\\jupyter_contrib_nbextensions\\nbextensions\\hide_header\\hide_header.yaml -> C:\\Users\\kapil\\AppData\\Roaming\\jupyter\\nbextensions\\hide_header\\hide_header.yaml\n",
      "[I 14:29:05 InstallContribNbextensionsApp] Copying: C:\\Users\\kapil\\anaconda3\\Lib\\site-packages\\jupyter_contrib_nbextensions\\nbextensions\\hide_header\\main.js -> C:\\Users\\kapil\\AppData\\Roaming\\jupyter\\nbextensions\\hide_header\\main.js\n",
      "[I 14:29:05 InstallContribNbextensionsApp] Copying: C:\\Users\\kapil\\anaconda3\\Lib\\site-packages\\jupyter_contrib_nbextensions\\nbextensions\\hide_header\\README.md -> C:\\Users\\kapil\\AppData\\Roaming\\jupyter\\nbextensions\\hide_header\\README.md\n",
      "[I 14:29:05 InstallContribNbextensionsApp] - Validating: ok\n",
      "[I 14:29:05 InstallContribNbextensionsApp] Installing C:\\Users\\kapil\\anaconda3\\Lib\\site-packages\\jupyter_contrib_nbextensions\\nbextensions\\hide_input -> hide_input\n",
      "[I 14:29:05 InstallContribNbextensionsApp] Making directory: C:\\Users\\kapil\\AppData\\Roaming\\jupyter\\nbextensions\\hide_input\\\n",
      "[I 14:29:05 InstallContribNbextensionsApp] Copying: C:\\Users\\kapil\\anaconda3\\Lib\\site-packages\\jupyter_contrib_nbextensions\\nbextensions\\hide_input\\hide-input.yaml -> C:\\Users\\kapil\\AppData\\Roaming\\jupyter\\nbextensions\\hide_input\\hide-input.yaml\n",
      "[I 14:29:05 InstallContribNbextensionsApp] Copying: C:\\Users\\kapil\\anaconda3\\Lib\\site-packages\\jupyter_contrib_nbextensions\\nbextensions\\hide_input\\icon.png -> C:\\Users\\kapil\\AppData\\Roaming\\jupyter\\nbextensions\\hide_input\\icon.png\n",
      "[I 14:29:05 InstallContribNbextensionsApp] Copying: C:\\Users\\kapil\\anaconda3\\Lib\\site-packages\\jupyter_contrib_nbextensions\\nbextensions\\hide_input\\main.js -> C:\\Users\\kapil\\AppData\\Roaming\\jupyter\\nbextensions\\hide_input\\main.js\n",
      "[I 14:29:05 InstallContribNbextensionsApp] Copying: C:\\Users\\kapil\\anaconda3\\Lib\\site-packages\\jupyter_contrib_nbextensions\\nbextensions\\hide_input\\readme.md -> C:\\Users\\kapil\\AppData\\Roaming\\jupyter\\nbextensions\\hide_input\\readme.md\n",
      "[I 14:29:05 InstallContribNbextensionsApp] - Validating: ok\n",
      "[I 14:29:05 InstallContribNbextensionsApp] Installing C:\\Users\\kapil\\anaconda3\\Lib\\site-packages\\jupyter_contrib_nbextensions\\nbextensions\\hide_input_all -> hide_input_all\n",
      "[I 14:29:05 InstallContribNbextensionsApp] Making directory: C:\\Users\\kapil\\AppData\\Roaming\\jupyter\\nbextensions\\hide_input_all\\\n",
      "[I 14:29:05 InstallContribNbextensionsApp] Copying: C:\\Users\\kapil\\anaconda3\\Lib\\site-packages\\jupyter_contrib_nbextensions\\nbextensions\\hide_input_all\\hide_input_all.yaml -> C:\\Users\\kapil\\AppData\\Roaming\\jupyter\\nbextensions\\hide_input_all\\hide_input_all.yaml\n",
      "[I 14:29:05 InstallContribNbextensionsApp] Copying: C:\\Users\\kapil\\anaconda3\\Lib\\site-packages\\jupyter_contrib_nbextensions\\nbextensions\\hide_input_all\\hide_input_all_hide.png -> C:\\Users\\kapil\\AppData\\Roaming\\jupyter\\nbextensions\\hide_input_all\\hide_input_all_hide.png\n",
      "[I 14:29:05 InstallContribNbextensionsApp] Copying: C:\\Users\\kapil\\anaconda3\\Lib\\site-packages\\jupyter_contrib_nbextensions\\nbextensions\\hide_input_all\\hide_input_all_show.png -> C:\\Users\\kapil\\AppData\\Roaming\\jupyter\\nbextensions\\hide_input_all\\hide_input_all_show.png\n",
      "[I 14:29:05 InstallContribNbextensionsApp] Copying: C:\\Users\\kapil\\anaconda3\\Lib\\site-packages\\jupyter_contrib_nbextensions\\nbextensions\\hide_input_all\\icon.png -> C:\\Users\\kapil\\AppData\\Roaming\\jupyter\\nbextensions\\hide_input_all\\icon.png\n",
      "[I 14:29:05 InstallContribNbextensionsApp] Copying: C:\\Users\\kapil\\anaconda3\\Lib\\site-packages\\jupyter_contrib_nbextensions\\nbextensions\\hide_input_all\\main.js -> C:\\Users\\kapil\\AppData\\Roaming\\jupyter\\nbextensions\\hide_input_all\\main.js\n",
      "[I 14:29:05 InstallContribNbextensionsApp] Copying: C:\\Users\\kapil\\anaconda3\\Lib\\site-packages\\jupyter_contrib_nbextensions\\nbextensions\\hide_input_all\\readme.md -> C:\\Users\\kapil\\AppData\\Roaming\\jupyter\\nbextensions\\hide_input_all\\readme.md\n",
      "[I 14:29:05 InstallContribNbextensionsApp] - Validating: ok\n",
      "[I 14:29:05 InstallContribNbextensionsApp] Installing C:\\Users\\kapil\\anaconda3\\Lib\\site-packages\\jupyter_contrib_nbextensions\\nbextensions\\highlighter -> highlighter\n",
      "[I 14:29:05 InstallContribNbextensionsApp] Making directory: C:\\Users\\kapil\\AppData\\Roaming\\jupyter\\nbextensions\\highlighter\\\n",
      "[I 14:29:05 InstallContribNbextensionsApp] Copying: C:\\Users\\kapil\\anaconda3\\Lib\\site-packages\\jupyter_contrib_nbextensions\\nbextensions\\highlighter\\demo_highlighter.html -> C:\\Users\\kapil\\AppData\\Roaming\\jupyter\\nbextensions\\highlighter\\demo_highlighter.html\n",
      "[I 14:29:05 InstallContribNbextensionsApp] Copying: C:\\Users\\kapil\\anaconda3\\Lib\\site-packages\\jupyter_contrib_nbextensions\\nbextensions\\highlighter\\demo_highlighter.ipynb -> C:\\Users\\kapil\\AppData\\Roaming\\jupyter\\nbextensions\\highlighter\\demo_highlighter.ipynb\n",
      "[I 14:29:05 InstallContribNbextensionsApp] Copying: C:\\Users\\kapil\\anaconda3\\Lib\\site-packages\\jupyter_contrib_nbextensions\\nbextensions\\highlighter\\export_highlights.html -> C:\\Users\\kapil\\AppData\\Roaming\\jupyter\\nbextensions\\highlighter\\export_highlights.html\n",
      "[I 14:29:05 InstallContribNbextensionsApp] Copying: C:\\Users\\kapil\\anaconda3\\Lib\\site-packages\\jupyter_contrib_nbextensions\\nbextensions\\highlighter\\export_highlights.ipynb -> C:\\Users\\kapil\\AppData\\Roaming\\jupyter\\nbextensions\\highlighter\\export_highlights.ipynb\n",
      "[I 14:29:05 InstallContribNbextensionsApp] Copying: C:\\Users\\kapil\\anaconda3\\Lib\\site-packages\\jupyter_contrib_nbextensions\\nbextensions\\highlighter\\export_highlights.pdf -> C:\\Users\\kapil\\AppData\\Roaming\\jupyter\\nbextensions\\highlighter\\export_highlights.pdf\n",
      "[I 14:29:05 InstallContribNbextensionsApp] Copying: C:\\Users\\kapil\\anaconda3\\Lib\\site-packages\\jupyter_contrib_nbextensions\\nbextensions\\highlighter\\export_highlights.tex -> C:\\Users\\kapil\\AppData\\Roaming\\jupyter\\nbextensions\\highlighter\\export_highlights.tex\n",
      "[I 14:29:05 InstallContribNbextensionsApp] Copying: C:\\Users\\kapil\\anaconda3\\Lib\\site-packages\\jupyter_contrib_nbextensions\\nbextensions\\highlighter\\highlighter.css -> C:\\Users\\kapil\\AppData\\Roaming\\jupyter\\nbextensions\\highlighter\\highlighter.css\n",
      "[I 14:29:05 InstallContribNbextensionsApp] Copying: C:\\Users\\kapil\\anaconda3\\Lib\\site-packages\\jupyter_contrib_nbextensions\\nbextensions\\highlighter\\highlighter.js -> C:\\Users\\kapil\\AppData\\Roaming\\jupyter\\nbextensions\\highlighter\\highlighter.js\n",
      "[I 14:29:05 InstallContribNbextensionsApp] Copying: C:\\Users\\kapil\\anaconda3\\Lib\\site-packages\\jupyter_contrib_nbextensions\\nbextensions\\highlighter\\highlighter.yaml -> C:\\Users\\kapil\\AppData\\Roaming\\jupyter\\nbextensions\\highlighter\\highlighter.yaml\n",
      "[I 14:29:05 InstallContribNbextensionsApp] Copying: C:\\Users\\kapil\\anaconda3\\Lib\\site-packages\\jupyter_contrib_nbextensions\\nbextensions\\highlighter\\icon.png -> C:\\Users\\kapil\\AppData\\Roaming\\jupyter\\nbextensions\\highlighter\\icon.png\n",
      "[I 14:29:05 InstallContribNbextensionsApp] Copying: C:\\Users\\kapil\\anaconda3\\Lib\\site-packages\\jupyter_contrib_nbextensions\\nbextensions\\highlighter\\image.gif -> C:\\Users\\kapil\\AppData\\Roaming\\jupyter\\nbextensions\\highlighter\\image.gif\n",
      "[I 14:29:05 InstallContribNbextensionsApp] Copying: C:\\Users\\kapil\\anaconda3\\Lib\\site-packages\\jupyter_contrib_nbextensions\\nbextensions\\highlighter\\readme.md -> C:\\Users\\kapil\\AppData\\Roaming\\jupyter\\nbextensions\\highlighter\\readme.md\n",
      "[I 14:29:05 InstallContribNbextensionsApp] Copying: C:\\Users\\kapil\\anaconda3\\Lib\\site-packages\\jupyter_contrib_nbextensions\\nbextensions\\highlighter\\tst_highlights.html -> C:\\Users\\kapil\\AppData\\Roaming\\jupyter\\nbextensions\\highlighter\\tst_highlights.html\n",
      "[I 14:29:05 InstallContribNbextensionsApp] Copying: C:\\Users\\kapil\\anaconda3\\Lib\\site-packages\\jupyter_contrib_nbextensions\\nbextensions\\highlighter\\tst_highlights.ipynb -> C:\\Users\\kapil\\AppData\\Roaming\\jupyter\\nbextensions\\highlighter\\tst_highlights.ipynb\n",
      "[I 14:29:05 InstallContribNbextensionsApp] Copying: C:\\Users\\kapil\\anaconda3\\Lib\\site-packages\\jupyter_contrib_nbextensions\\nbextensions\\highlighter\\tst_highlights.pdf -> C:\\Users\\kapil\\AppData\\Roaming\\jupyter\\nbextensions\\highlighter\\tst_highlights.pdf\n",
      "[I 14:29:05 InstallContribNbextensionsApp] Copying: C:\\Users\\kapil\\anaconda3\\Lib\\site-packages\\jupyter_contrib_nbextensions\\nbextensions\\highlighter\\tst_highlights.tex -> C:\\Users\\kapil\\AppData\\Roaming\\jupyter\\nbextensions\\highlighter\\tst_highlights.tex\n",
      "[I 14:29:05 InstallContribNbextensionsApp] - Validating: ok\n",
      "[I 14:29:05 InstallContribNbextensionsApp] Installing C:\\Users\\kapil\\anaconda3\\Lib\\site-packages\\jupyter_contrib_nbextensions\\nbextensions\\hinterland -> hinterland\n",
      "[I 14:29:05 InstallContribNbextensionsApp] Making directory: C:\\Users\\kapil\\AppData\\Roaming\\jupyter\\nbextensions\\hinterland\\\n",
      "[I 14:29:05 InstallContribNbextensionsApp] Copying: C:\\Users\\kapil\\anaconda3\\Lib\\site-packages\\jupyter_contrib_nbextensions\\nbextensions\\hinterland\\hinterland.js -> C:\\Users\\kapil\\AppData\\Roaming\\jupyter\\nbextensions\\hinterland\\hinterland.js\n",
      "[I 14:29:05 InstallContribNbextensionsApp] Copying: C:\\Users\\kapil\\anaconda3\\Lib\\site-packages\\jupyter_contrib_nbextensions\\nbextensions\\hinterland\\hinterland.yaml -> C:\\Users\\kapil\\AppData\\Roaming\\jupyter\\nbextensions\\hinterland\\hinterland.yaml\n",
      "[I 14:29:05 InstallContribNbextensionsApp] Copying: C:\\Users\\kapil\\anaconda3\\Lib\\site-packages\\jupyter_contrib_nbextensions\\nbextensions\\hinterland\\README.md -> C:\\Users\\kapil\\AppData\\Roaming\\jupyter\\nbextensions\\hinterland\\README.md\n",
      "[I 14:29:05 InstallContribNbextensionsApp] - Validating: ok\n",
      "[I 14:29:05 InstallContribNbextensionsApp] Installing C:\\Users\\kapil\\anaconda3\\Lib\\site-packages\\jupyter_contrib_nbextensions\\nbextensions\\init_cell -> init_cell\n",
      "[I 14:29:05 InstallContribNbextensionsApp] Making directory: C:\\Users\\kapil\\AppData\\Roaming\\jupyter\\nbextensions\\init_cell\\\n",
      "[I 14:29:05 InstallContribNbextensionsApp] Copying: C:\\Users\\kapil\\anaconda3\\Lib\\site-packages\\jupyter_contrib_nbextensions\\nbextensions\\init_cell\\cell_toolbar_menu.png -> C:\\Users\\kapil\\AppData\\Roaming\\jupyter\\nbextensions\\init_cell\\cell_toolbar_menu.png\n",
      "[I 14:29:05 InstallContribNbextensionsApp] Copying: C:\\Users\\kapil\\anaconda3\\Lib\\site-packages\\jupyter_contrib_nbextensions\\nbextensions\\init_cell\\icon.png -> C:\\Users\\kapil\\AppData\\Roaming\\jupyter\\nbextensions\\init_cell\\icon.png\n",
      "[I 14:29:05 InstallContribNbextensionsApp] Copying: C:\\Users\\kapil\\anaconda3\\Lib\\site-packages\\jupyter_contrib_nbextensions\\nbextensions\\init_cell\\init_cell.yaml -> C:\\Users\\kapil\\AppData\\Roaming\\jupyter\\nbextensions\\init_cell\\init_cell.yaml\n",
      "[I 14:29:05 InstallContribNbextensionsApp] Copying: C:\\Users\\kapil\\anaconda3\\Lib\\site-packages\\jupyter_contrib_nbextensions\\nbextensions\\init_cell\\main.js -> C:\\Users\\kapil\\AppData\\Roaming\\jupyter\\nbextensions\\init_cell\\main.js\n",
      "[I 14:29:05 InstallContribNbextensionsApp] Copying: C:\\Users\\kapil\\anaconda3\\Lib\\site-packages\\jupyter_contrib_nbextensions\\nbextensions\\init_cell\\README.md -> C:\\Users\\kapil\\AppData\\Roaming\\jupyter\\nbextensions\\init_cell\\README.md\n",
      "[I 14:29:05 InstallContribNbextensionsApp] - Validating: ok\n",
      "[I 14:29:05 InstallContribNbextensionsApp] Installing C:\\Users\\kapil\\anaconda3\\Lib\\site-packages\\jupyter_contrib_nbextensions\\nbextensions\\keyboard_shortcut_editor -> keyboard_shortcut_editor\n",
      "[I 14:29:05 InstallContribNbextensionsApp] Making directory: C:\\Users\\kapil\\AppData\\Roaming\\jupyter\\nbextensions\\keyboard_shortcut_editor\\\n",
      "[I 14:29:05 InstallContribNbextensionsApp] Copying: C:\\Users\\kapil\\anaconda3\\Lib\\site-packages\\jupyter_contrib_nbextensions\\nbextensions\\keyboard_shortcut_editor\\icon.png -> C:\\Users\\kapil\\AppData\\Roaming\\jupyter\\nbextensions\\keyboard_shortcut_editor\\icon.png\n",
      "[I 14:29:05 InstallContribNbextensionsApp] Copying: C:\\Users\\kapil\\anaconda3\\Lib\\site-packages\\jupyter_contrib_nbextensions\\nbextensions\\keyboard_shortcut_editor\\keyboard_shortcut_editor.yaml -> C:\\Users\\kapil\\AppData\\Roaming\\jupyter\\nbextensions\\keyboard_shortcut_editor\\keyboard_shortcut_editor.yaml\n",
      "[I 14:29:05 InstallContribNbextensionsApp] Copying: C:\\Users\\kapil\\anaconda3\\Lib\\site-packages\\jupyter_contrib_nbextensions\\nbextensions\\keyboard_shortcut_editor\\kse_components.js -> C:\\Users\\kapil\\AppData\\Roaming\\jupyter\\nbextensions\\keyboard_shortcut_editor\\kse_components.js\n",
      "[I 14:29:05 InstallContribNbextensionsApp] Copying: C:\\Users\\kapil\\anaconda3\\Lib\\site-packages\\jupyter_contrib_nbextensions\\nbextensions\\keyboard_shortcut_editor\\main.css -> C:\\Users\\kapil\\AppData\\Roaming\\jupyter\\nbextensions\\keyboard_shortcut_editor\\main.css\n",
      "[I 14:29:05 InstallContribNbextensionsApp] Copying: C:\\Users\\kapil\\anaconda3\\Lib\\site-packages\\jupyter_contrib_nbextensions\\nbextensions\\keyboard_shortcut_editor\\main.js -> C:\\Users\\kapil\\AppData\\Roaming\\jupyter\\nbextensions\\keyboard_shortcut_editor\\main.js\n",
      "[I 14:29:05 InstallContribNbextensionsApp] Copying: C:\\Users\\kapil\\anaconda3\\Lib\\site-packages\\jupyter_contrib_nbextensions\\nbextensions\\keyboard_shortcut_editor\\quickhelp_shim.js -> C:\\Users\\kapil\\AppData\\Roaming\\jupyter\\nbextensions\\keyboard_shortcut_editor\\quickhelp_shim.js\n",
      "[I 14:29:05 InstallContribNbextensionsApp] Copying: C:\\Users\\kapil\\anaconda3\\Lib\\site-packages\\jupyter_contrib_nbextensions\\nbextensions\\keyboard_shortcut_editor\\README.md -> C:\\Users\\kapil\\AppData\\Roaming\\jupyter\\nbextensions\\keyboard_shortcut_editor\\README.md\n",
      "[I 14:29:05 InstallContribNbextensionsApp] Copying: C:\\Users\\kapil\\anaconda3\\Lib\\site-packages\\jupyter_contrib_nbextensions\\nbextensions\\keyboard_shortcut_editor\\readme_add_new_link.png -> C:\\Users\\kapil\\AppData\\Roaming\\jupyter\\nbextensions\\keyboard_shortcut_editor\\readme_add_new_link.png\n",
      "[I 14:29:05 InstallContribNbextensionsApp] Copying: C:\\Users\\kapil\\anaconda3\\Lib\\site-packages\\jupyter_contrib_nbextensions\\nbextensions\\keyboard_shortcut_editor\\readme_add_new_select_action.png -> C:\\Users\\kapil\\AppData\\Roaming\\jupyter\\nbextensions\\keyboard_shortcut_editor\\readme_add_new_select_action.png\n",
      "[I 14:29:05 InstallContribNbextensionsApp] Copying: C:\\Users\\kapil\\anaconda3\\Lib\\site-packages\\jupyter_contrib_nbextensions\\nbextensions\\keyboard_shortcut_editor\\readme_comma.png -> C:\\Users\\kapil\\AppData\\Roaming\\jupyter\\nbextensions\\keyboard_shortcut_editor\\readme_comma.png\n",
      "[I 14:29:05 InstallContribNbextensionsApp] Copying: C:\\Users\\kapil\\anaconda3\\Lib\\site-packages\\jupyter_contrib_nbextensions\\nbextensions\\keyboard_shortcut_editor\\readme_conflict.png -> C:\\Users\\kapil\\AppData\\Roaming\\jupyter\\nbextensions\\keyboard_shortcut_editor\\readme_conflict.png\n",
      "[I 14:29:05 InstallContribNbextensionsApp] Copying: C:\\Users\\kapil\\anaconda3\\Lib\\site-packages\\jupyter_contrib_nbextensions\\nbextensions\\keyboard_shortcut_editor\\readme_dropdown.png -> C:\\Users\\kapil\\AppData\\Roaming\\jupyter\\nbextensions\\keyboard_shortcut_editor\\readme_dropdown.png\n",
      "[I 14:29:05 InstallContribNbextensionsApp] Copying: C:\\Users\\kapil\\anaconda3\\Lib\\site-packages\\jupyter_contrib_nbextensions\\nbextensions\\keyboard_shortcut_editor\\readme_menu_item.png -> C:\\Users\\kapil\\AppData\\Roaming\\jupyter\\nbextensions\\keyboard_shortcut_editor\\readme_menu_item.png\n",
      "[I 14:29:05 InstallContribNbextensionsApp] Copying: C:\\Users\\kapil\\anaconda3\\Lib\\site-packages\\jupyter_contrib_nbextensions\\nbextensions\\keyboard_shortcut_editor\\readme_reset_disabled.png -> C:\\Users\\kapil\\AppData\\Roaming\\jupyter\\nbextensions\\keyboard_shortcut_editor\\readme_reset_disabled.png\n",
      "[I 14:29:05 InstallContribNbextensionsApp] Copying: C:\\Users\\kapil\\anaconda3\\Lib\\site-packages\\jupyter_contrib_nbextensions\\nbextensions\\keyboard_shortcut_editor\\readme_shortcut_editor_blank.png -> C:\\Users\\kapil\\AppData\\Roaming\\jupyter\\nbextensions\\keyboard_shortcut_editor\\readme_shortcut_editor_blank.png\n",
      "[I 14:29:05 InstallContribNbextensionsApp] Copying: C:\\Users\\kapil\\anaconda3\\Lib\\site-packages\\jupyter_contrib_nbextensions\\nbextensions\\keyboard_shortcut_editor\\readme_shortcut_editor_success.png -> C:\\Users\\kapil\\AppData\\Roaming\\jupyter\\nbextensions\\keyboard_shortcut_editor\\readme_shortcut_editor_success.png\n",
      "[I 14:29:05 InstallContribNbextensionsApp] Copying: C:\\Users\\kapil\\anaconda3\\Lib\\site-packages\\jupyter_contrib_nbextensions\\nbextensions\\keyboard_shortcut_editor\\readme_undefined_key.png -> C:\\Users\\kapil\\AppData\\Roaming\\jupyter\\nbextensions\\keyboard_shortcut_editor\\readme_undefined_key.png\n",
      "[I 14:29:05 InstallContribNbextensionsApp] - Validating: ok\n",
      "[I 14:29:05 InstallContribNbextensionsApp] Installing C:\\Users\\kapil\\anaconda3\\Lib\\site-packages\\jupyter_contrib_nbextensions\\nbextensions\\limit_output -> limit_output\n",
      "[I 14:29:05 InstallContribNbextensionsApp] Making directory: C:\\Users\\kapil\\AppData\\Roaming\\jupyter\\nbextensions\\limit_output\\\n",
      "[I 14:29:05 InstallContribNbextensionsApp] Copying: C:\\Users\\kapil\\anaconda3\\Lib\\site-packages\\jupyter_contrib_nbextensions\\nbextensions\\limit_output\\icon.png -> C:\\Users\\kapil\\AppData\\Roaming\\jupyter\\nbextensions\\limit_output\\icon.png\n",
      "[I 14:29:05 InstallContribNbextensionsApp] Copying: C:\\Users\\kapil\\anaconda3\\Lib\\site-packages\\jupyter_contrib_nbextensions\\nbextensions\\limit_output\\limit-output.yaml -> C:\\Users\\kapil\\AppData\\Roaming\\jupyter\\nbextensions\\limit_output\\limit-output.yaml\n",
      "[I 14:29:05 InstallContribNbextensionsApp] Copying: C:\\Users\\kapil\\anaconda3\\Lib\\site-packages\\jupyter_contrib_nbextensions\\nbextensions\\limit_output\\main.js -> C:\\Users\\kapil\\AppData\\Roaming\\jupyter\\nbextensions\\limit_output\\main.js\n",
      "[I 14:29:05 InstallContribNbextensionsApp] Copying: C:\\Users\\kapil\\anaconda3\\Lib\\site-packages\\jupyter_contrib_nbextensions\\nbextensions\\limit_output\\readme.md -> C:\\Users\\kapil\\AppData\\Roaming\\jupyter\\nbextensions\\limit_output\\readme.md\n",
      "[I 14:29:05 InstallContribNbextensionsApp] - Validating: ok\n",
      "[I 14:29:05 InstallContribNbextensionsApp] Installing C:\\Users\\kapil\\anaconda3\\Lib\\site-packages\\jupyter_contrib_nbextensions\\nbextensions\\livemdpreview -> livemdpreview\n",
      "[I 14:29:05 InstallContribNbextensionsApp] Making directory: C:\\Users\\kapil\\AppData\\Roaming\\jupyter\\nbextensions\\livemdpreview\\\n",
      "[I 14:29:05 InstallContribNbextensionsApp] Copying: C:\\Users\\kapil\\anaconda3\\Lib\\site-packages\\jupyter_contrib_nbextensions\\nbextensions\\livemdpreview\\livemdpreview.js -> C:\\Users\\kapil\\AppData\\Roaming\\jupyter\\nbextensions\\livemdpreview\\livemdpreview.js\n",
      "[I 14:29:05 InstallContribNbextensionsApp] Copying: C:\\Users\\kapil\\anaconda3\\Lib\\site-packages\\jupyter_contrib_nbextensions\\nbextensions\\livemdpreview\\livemdpreview.yml -> C:\\Users\\kapil\\AppData\\Roaming\\jupyter\\nbextensions\\livemdpreview\\livemdpreview.yml\n",
      "[I 14:29:05 InstallContribNbextensionsApp] - Validating: ok\n",
      "[I 14:29:05 InstallContribNbextensionsApp] Installing C:\\Users\\kapil\\anaconda3\\Lib\\site-packages\\jupyter_contrib_nbextensions\\nbextensions\\load_tex_macros -> load_tex_macros\n",
      "[I 14:29:05 InstallContribNbextensionsApp] Making directory: C:\\Users\\kapil\\AppData\\Roaming\\jupyter\\nbextensions\\load_tex_macros\\\n",
      "[I 14:29:05 InstallContribNbextensionsApp] Copying: C:\\Users\\kapil\\anaconda3\\Lib\\site-packages\\jupyter_contrib_nbextensions\\nbextensions\\load_tex_macros\\icon.png -> C:\\Users\\kapil\\AppData\\Roaming\\jupyter\\nbextensions\\load_tex_macros\\icon.png\n",
      "[I 14:29:05 InstallContribNbextensionsApp] Copying: C:\\Users\\kapil\\anaconda3\\Lib\\site-packages\\jupyter_contrib_nbextensions\\nbextensions\\load_tex_macros\\load_tex_macros.yaml -> C:\\Users\\kapil\\AppData\\Roaming\\jupyter\\nbextensions\\load_tex_macros\\load_tex_macros.yaml\n",
      "[I 14:29:05 InstallContribNbextensionsApp] Copying: C:\\Users\\kapil\\anaconda3\\Lib\\site-packages\\jupyter_contrib_nbextensions\\nbextensions\\load_tex_macros\\main.js -> C:\\Users\\kapil\\AppData\\Roaming\\jupyter\\nbextensions\\load_tex_macros\\main.js\n",
      "[I 14:29:05 InstallContribNbextensionsApp] Copying: C:\\Users\\kapil\\anaconda3\\Lib\\site-packages\\jupyter_contrib_nbextensions\\nbextensions\\load_tex_macros\\readme.md -> C:\\Users\\kapil\\AppData\\Roaming\\jupyter\\nbextensions\\load_tex_macros\\readme.md\n",
      "[I 14:29:05 InstallContribNbextensionsApp] - Validating: ok\n",
      "[I 14:29:05 InstallContribNbextensionsApp] Installing C:\\Users\\kapil\\anaconda3\\Lib\\site-packages\\jupyter_contrib_nbextensions\\nbextensions\\move_selected_cells -> move_selected_cells\n",
      "[I 14:29:05 InstallContribNbextensionsApp] Making directory: C:\\Users\\kapil\\AppData\\Roaming\\jupyter\\nbextensions\\move_selected_cells\\\n",
      "[I 14:29:05 InstallContribNbextensionsApp] Copying: C:\\Users\\kapil\\anaconda3\\Lib\\site-packages\\jupyter_contrib_nbextensions\\nbextensions\\move_selected_cells\\main.js -> C:\\Users\\kapil\\AppData\\Roaming\\jupyter\\nbextensions\\move_selected_cells\\main.js\n",
      "[I 14:29:05 InstallContribNbextensionsApp] Copying: C:\\Users\\kapil\\anaconda3\\Lib\\site-packages\\jupyter_contrib_nbextensions\\nbextensions\\move_selected_cells\\move_selected_cells.yaml -> C:\\Users\\kapil\\AppData\\Roaming\\jupyter\\nbextensions\\move_selected_cells\\move_selected_cells.yaml\n",
      "[I 14:29:05 InstallContribNbextensionsApp] Copying: C:\\Users\\kapil\\anaconda3\\Lib\\site-packages\\jupyter_contrib_nbextensions\\nbextensions\\move_selected_cells\\README.md -> C:\\Users\\kapil\\AppData\\Roaming\\jupyter\\nbextensions\\move_selected_cells\\README.md\n",
      "[I 14:29:05 InstallContribNbextensionsApp] - Validating: ok\n",
      "[I 14:29:05 InstallContribNbextensionsApp] Installing C:\\Users\\kapil\\anaconda3\\Lib\\site-packages\\jupyter_contrib_nbextensions\\nbextensions\\navigation-hotkeys -> navigation-hotkeys\n",
      "[I 14:29:05 InstallContribNbextensionsApp] Making directory: C:\\Users\\kapil\\AppData\\Roaming\\jupyter\\nbextensions\\navigation-hotkeys\\\n",
      "[I 14:29:05 InstallContribNbextensionsApp] Copying: C:\\Users\\kapil\\anaconda3\\Lib\\site-packages\\jupyter_contrib_nbextensions\\nbextensions\\navigation-hotkeys\\hotkeys.yaml -> C:\\Users\\kapil\\AppData\\Roaming\\jupyter\\nbextensions\\navigation-hotkeys\\hotkeys.yaml\n",
      "[I 14:29:05 InstallContribNbextensionsApp] Copying: C:\\Users\\kapil\\anaconda3\\Lib\\site-packages\\jupyter_contrib_nbextensions\\nbextensions\\navigation-hotkeys\\icon.png -> C:\\Users\\kapil\\AppData\\Roaming\\jupyter\\nbextensions\\navigation-hotkeys\\icon.png\n",
      "[I 14:29:05 InstallContribNbextensionsApp] Copying: C:\\Users\\kapil\\anaconda3\\Lib\\site-packages\\jupyter_contrib_nbextensions\\nbextensions\\navigation-hotkeys\\main.js -> C:\\Users\\kapil\\AppData\\Roaming\\jupyter\\nbextensions\\navigation-hotkeys\\main.js\n",
      "[I 14:29:05 InstallContribNbextensionsApp] Copying: C:\\Users\\kapil\\anaconda3\\Lib\\site-packages\\jupyter_contrib_nbextensions\\nbextensions\\navigation-hotkeys\\readme.md -> C:\\Users\\kapil\\AppData\\Roaming\\jupyter\\nbextensions\\navigation-hotkeys\\readme.md\n",
      "[I 14:29:05 InstallContribNbextensionsApp] - Validating: ok\n",
      "[I 14:29:05 InstallContribNbextensionsApp] Installing C:\\Users\\kapil\\anaconda3\\Lib\\site-packages\\jupyter_contrib_nbextensions\\nbextensions\\nbTranslate -> nbTranslate\n",
      "[I 14:29:05 InstallContribNbextensionsApp] Making directory: C:\\Users\\kapil\\AppData\\Roaming\\jupyter\\nbextensions\\nbTranslate\\\n",
      "[I 14:29:05 InstallContribNbextensionsApp] Copying: C:\\Users\\kapil\\anaconda3\\Lib\\site-packages\\jupyter_contrib_nbextensions\\nbextensions\\nbTranslate\\demo1.gif -> C:\\Users\\kapil\\AppData\\Roaming\\jupyter\\nbextensions\\nbTranslate\\demo1.gif\n",
      "[I 14:29:05 InstallContribNbextensionsApp] Copying: C:\\Users\\kapil\\anaconda3\\Lib\\site-packages\\jupyter_contrib_nbextensions\\nbextensions\\nbTranslate\\demo2.gif -> C:\\Users\\kapil\\AppData\\Roaming\\jupyter\\nbextensions\\nbTranslate\\demo2.gif\n",
      "[I 14:29:05 InstallContribNbextensionsApp] Copying: C:\\Users\\kapil\\anaconda3\\Lib\\site-packages\\jupyter_contrib_nbextensions\\nbextensions\\nbTranslate\\languages.js -> C:\\Users\\kapil\\AppData\\Roaming\\jupyter\\nbextensions\\nbTranslate\\languages.js\n",
      "[I 14:29:05 InstallContribNbextensionsApp] Copying: C:\\Users\\kapil\\anaconda3\\Lib\\site-packages\\jupyter_contrib_nbextensions\\nbextensions\\nbTranslate\\main.js -> C:\\Users\\kapil\\AppData\\Roaming\\jupyter\\nbextensions\\nbTranslate\\main.js\n",
      "[I 14:29:05 InstallContribNbextensionsApp] Copying: C:\\Users\\kapil\\anaconda3\\Lib\\site-packages\\jupyter_contrib_nbextensions\\nbextensions\\nbTranslate\\mutils.js -> C:\\Users\\kapil\\AppData\\Roaming\\jupyter\\nbextensions\\nbTranslate\\mutils.js\n",
      "[I 14:29:05 InstallContribNbextensionsApp] Copying: C:\\Users\\kapil\\anaconda3\\Lib\\site-packages\\jupyter_contrib_nbextensions\\nbextensions\\nbTranslate\\nbTranslate.js -> C:\\Users\\kapil\\AppData\\Roaming\\jupyter\\nbextensions\\nbTranslate\\nbTranslate.js\n",
      "[I 14:29:05 InstallContribNbextensionsApp] Copying: C:\\Users\\kapil\\anaconda3\\Lib\\site-packages\\jupyter_contrib_nbextensions\\nbextensions\\nbTranslate\\nbTranslate.yaml -> C:\\Users\\kapil\\AppData\\Roaming\\jupyter\\nbextensions\\nbTranslate\\nbTranslate.yaml\n",
      "[I 14:29:05 InstallContribNbextensionsApp] Copying: C:\\Users\\kapil\\anaconda3\\Lib\\site-packages\\jupyter_contrib_nbextensions\\nbextensions\\nbTranslate\\README.md -> C:\\Users\\kapil\\AppData\\Roaming\\jupyter\\nbextensions\\nbTranslate\\README.md\n",
      "[I 14:29:05 InstallContribNbextensionsApp] - Validating: ok\n",
      "[I 14:29:05 InstallContribNbextensionsApp] Installing C:\\Users\\kapil\\anaconda3\\Lib\\site-packages\\jupyter_contrib_nbextensions\\nbextensions\\notify -> notify\n",
      "[I 14:29:05 InstallContribNbextensionsApp] Making directory: C:\\Users\\kapil\\AppData\\Roaming\\jupyter\\nbextensions\\notify\\\n",
      "[I 14:29:05 InstallContribNbextensionsApp] Copying: C:\\Users\\kapil\\anaconda3\\Lib\\site-packages\\jupyter_contrib_nbextensions\\nbextensions\\notify\\notification.png -> C:\\Users\\kapil\\AppData\\Roaming\\jupyter\\nbextensions\\notify\\notification.png\n",
      "[I 14:29:05 InstallContribNbextensionsApp] Copying: C:\\Users\\kapil\\anaconda3\\Lib\\site-packages\\jupyter_contrib_nbextensions\\nbextensions\\notify\\notify.js -> C:\\Users\\kapil\\AppData\\Roaming\\jupyter\\nbextensions\\notify\\notify.js\n",
      "[I 14:29:05 InstallContribNbextensionsApp] Copying: C:\\Users\\kapil\\anaconda3\\Lib\\site-packages\\jupyter_contrib_nbextensions\\nbextensions\\notify\\notify.mp3 -> C:\\Users\\kapil\\AppData\\Roaming\\jupyter\\nbextensions\\notify\\notify.mp3\n",
      "[I 14:29:05 InstallContribNbextensionsApp] Copying: C:\\Users\\kapil\\anaconda3\\Lib\\site-packages\\jupyter_contrib_nbextensions\\nbextensions\\notify\\notify.yaml -> C:\\Users\\kapil\\AppData\\Roaming\\jupyter\\nbextensions\\notify\\notify.yaml\n",
      "[I 14:29:05 InstallContribNbextensionsApp] Copying: C:\\Users\\kapil\\anaconda3\\Lib\\site-packages\\jupyter_contrib_nbextensions\\nbextensions\\notify\\readme.md -> C:\\Users\\kapil\\AppData\\Roaming\\jupyter\\nbextensions\\notify\\readme.md\n",
      "[I 14:29:05 InstallContribNbextensionsApp] - Validating: ok\n",
      "[I 14:29:05 InstallContribNbextensionsApp] Installing C:\\Users\\kapil\\anaconda3\\Lib\\site-packages\\jupyter_contrib_nbextensions\\nbextensions\\printview -> printview\n",
      "[I 14:29:05 InstallContribNbextensionsApp] Making directory: C:\\Users\\kapil\\AppData\\Roaming\\jupyter\\nbextensions\\printview\\\n",
      "[I 14:29:05 InstallContribNbextensionsApp] Copying: C:\\Users\\kapil\\anaconda3\\Lib\\site-packages\\jupyter_contrib_nbextensions\\nbextensions\\printview\\icon.png -> C:\\Users\\kapil\\AppData\\Roaming\\jupyter\\nbextensions\\printview\\icon.png\n",
      "[I 14:29:05 InstallContribNbextensionsApp] Copying: C:\\Users\\kapil\\anaconda3\\Lib\\site-packages\\jupyter_contrib_nbextensions\\nbextensions\\printview\\main.js -> C:\\Users\\kapil\\AppData\\Roaming\\jupyter\\nbextensions\\printview\\main.js\n",
      "[I 14:29:05 InstallContribNbextensionsApp] Copying: C:\\Users\\kapil\\anaconda3\\Lib\\site-packages\\jupyter_contrib_nbextensions\\nbextensions\\printview\\printview-button.png -> C:\\Users\\kapil\\AppData\\Roaming\\jupyter\\nbextensions\\printview\\printview-button.png\n",
      "[I 14:29:05 InstallContribNbextensionsApp] Copying: C:\\Users\\kapil\\anaconda3\\Lib\\site-packages\\jupyter_contrib_nbextensions\\nbextensions\\printview\\printview.yaml -> C:\\Users\\kapil\\AppData\\Roaming\\jupyter\\nbextensions\\printview\\printview.yaml\n",
      "[I 14:29:05 InstallContribNbextensionsApp] Copying: C:\\Users\\kapil\\anaconda3\\Lib\\site-packages\\jupyter_contrib_nbextensions\\nbextensions\\printview\\readme.md -> C:\\Users\\kapil\\AppData\\Roaming\\jupyter\\nbextensions\\printview\\readme.md\n",
      "[I 14:29:05 InstallContribNbextensionsApp] - Validating: ok\n",
      "[I 14:29:05 InstallContribNbextensionsApp] Installing C:\\Users\\kapil\\anaconda3\\Lib\\site-packages\\jupyter_contrib_nbextensions\\nbextensions\\python-markdown -> python-markdown\n",
      "[I 14:29:05 InstallContribNbextensionsApp] Making directory: C:\\Users\\kapil\\AppData\\Roaming\\jupyter\\nbextensions\\python-markdown\\\n",
      "[I 14:29:05 InstallContribNbextensionsApp] Copying: C:\\Users\\kapil\\anaconda3\\Lib\\site-packages\\jupyter_contrib_nbextensions\\nbextensions\\python-markdown\\main.css -> C:\\Users\\kapil\\AppData\\Roaming\\jupyter\\nbextensions\\python-markdown\\main.css\n",
      "[I 14:29:05 InstallContribNbextensionsApp] Copying: C:\\Users\\kapil\\anaconda3\\Lib\\site-packages\\jupyter_contrib_nbextensions\\nbextensions\\python-markdown\\main.js -> C:\\Users\\kapil\\AppData\\Roaming\\jupyter\\nbextensions\\python-markdown\\main.js\n",
      "[I 14:29:05 InstallContribNbextensionsApp] Copying: C:\\Users\\kapil\\anaconda3\\Lib\\site-packages\\jupyter_contrib_nbextensions\\nbextensions\\python-markdown\\python-markdown-post.png -> C:\\Users\\kapil\\AppData\\Roaming\\jupyter\\nbextensions\\python-markdown\\python-markdown-post.png\n",
      "[I 14:29:05 InstallContribNbextensionsApp] Copying: C:\\Users\\kapil\\anaconda3\\Lib\\site-packages\\jupyter_contrib_nbextensions\\nbextensions\\python-markdown\\python-markdown-pre.png -> C:\\Users\\kapil\\AppData\\Roaming\\jupyter\\nbextensions\\python-markdown\\python-markdown-pre.png\n",
      "[I 14:29:05 InstallContribNbextensionsApp] Copying: C:\\Users\\kapil\\anaconda3\\Lib\\site-packages\\jupyter_contrib_nbextensions\\nbextensions\\python-markdown\\python-markdown.png -> C:\\Users\\kapil\\AppData\\Roaming\\jupyter\\nbextensions\\python-markdown\\python-markdown.png\n",
      "[I 14:29:05 InstallContribNbextensionsApp] Copying: C:\\Users\\kapil\\anaconda3\\Lib\\site-packages\\jupyter_contrib_nbextensions\\nbextensions\\python-markdown\\python-markdown.yaml -> C:\\Users\\kapil\\AppData\\Roaming\\jupyter\\nbextensions\\python-markdown\\python-markdown.yaml\n",
      "[I 14:29:05 InstallContribNbextensionsApp] Copying: C:\\Users\\kapil\\anaconda3\\Lib\\site-packages\\jupyter_contrib_nbextensions\\nbextensions\\python-markdown\\readme.md -> C:\\Users\\kapil\\AppData\\Roaming\\jupyter\\nbextensions\\python-markdown\\readme.md\n",
      "[I 14:29:05 InstallContribNbextensionsApp] Copying: C:\\Users\\kapil\\anaconda3\\Lib\\site-packages\\jupyter_contrib_nbextensions\\nbextensions\\python-markdown\\trusted.png -> C:\\Users\\kapil\\AppData\\Roaming\\jupyter\\nbextensions\\python-markdown\\trusted.png\n",
      "[I 14:29:05 InstallContribNbextensionsApp] Copying: C:\\Users\\kapil\\anaconda3\\Lib\\site-packages\\jupyter_contrib_nbextensions\\nbextensions\\python-markdown\\untrusted.png -> C:\\Users\\kapil\\AppData\\Roaming\\jupyter\\nbextensions\\python-markdown\\untrusted.png\n",
      "[I 14:29:05 InstallContribNbextensionsApp] - Validating: ok\n",
      "[I 14:29:05 InstallContribNbextensionsApp] Installing C:\\Users\\kapil\\anaconda3\\Lib\\site-packages\\jupyter_contrib_nbextensions\\nbextensions\\qtconsole -> qtconsole\n",
      "[I 14:29:05 InstallContribNbextensionsApp] Making directory: C:\\Users\\kapil\\AppData\\Roaming\\jupyter\\nbextensions\\qtconsole\\\n",
      "[I 14:29:05 InstallContribNbextensionsApp] Copying: C:\\Users\\kapil\\anaconda3\\Lib\\site-packages\\jupyter_contrib_nbextensions\\nbextensions\\qtconsole\\qtconsole.js -> C:\\Users\\kapil\\AppData\\Roaming\\jupyter\\nbextensions\\qtconsole\\qtconsole.js\n",
      "[I 14:29:05 InstallContribNbextensionsApp] Copying: C:\\Users\\kapil\\anaconda3\\Lib\\site-packages\\jupyter_contrib_nbextensions\\nbextensions\\qtconsole\\qtconsole.yaml -> C:\\Users\\kapil\\AppData\\Roaming\\jupyter\\nbextensions\\qtconsole\\qtconsole.yaml\n",
      "[I 14:29:05 InstallContribNbextensionsApp] Copying: C:\\Users\\kapil\\anaconda3\\Lib\\site-packages\\jupyter_contrib_nbextensions\\nbextensions\\qtconsole\\README.md -> C:\\Users\\kapil\\AppData\\Roaming\\jupyter\\nbextensions\\qtconsole\\README.md\n",
      "[I 14:29:05 InstallContribNbextensionsApp] - Validating: ok\n",
      "[I 14:29:05 InstallContribNbextensionsApp] Installing C:\\Users\\kapil\\anaconda3\\Lib\\site-packages\\jupyter_contrib_nbextensions\\nbextensions\\rubberband -> rubberband\n",
      "[I 14:29:05 InstallContribNbextensionsApp] Making directory: C:\\Users\\kapil\\AppData\\Roaming\\jupyter\\nbextensions\\rubberband\\\n",
      "[I 14:29:05 InstallContribNbextensionsApp] Copying: C:\\Users\\kapil\\anaconda3\\Lib\\site-packages\\jupyter_contrib_nbextensions\\nbextensions\\rubberband\\icon.png -> C:\\Users\\kapil\\AppData\\Roaming\\jupyter\\nbextensions\\rubberband\\icon.png\n",
      "[I 14:29:05 InstallContribNbextensionsApp] Copying: C:\\Users\\kapil\\anaconda3\\Lib\\site-packages\\jupyter_contrib_nbextensions\\nbextensions\\rubberband\\main.css -> C:\\Users\\kapil\\AppData\\Roaming\\jupyter\\nbextensions\\rubberband\\main.css\n",
      "[I 14:29:05 InstallContribNbextensionsApp] Copying: C:\\Users\\kapil\\anaconda3\\Lib\\site-packages\\jupyter_contrib_nbextensions\\nbextensions\\rubberband\\main.js -> C:\\Users\\kapil\\AppData\\Roaming\\jupyter\\nbextensions\\rubberband\\main.js\n",
      "[I 14:29:05 InstallContribNbextensionsApp] Copying: C:\\Users\\kapil\\anaconda3\\Lib\\site-packages\\jupyter_contrib_nbextensions\\nbextensions\\rubberband\\readme.md -> C:\\Users\\kapil\\AppData\\Roaming\\jupyter\\nbextensions\\rubberband\\readme.md\n",
      "[I 14:29:05 InstallContribNbextensionsApp] Copying: C:\\Users\\kapil\\anaconda3\\Lib\\site-packages\\jupyter_contrib_nbextensions\\nbextensions\\rubberband\\rubberband.yaml -> C:\\Users\\kapil\\AppData\\Roaming\\jupyter\\nbextensions\\rubberband\\rubberband.yaml\n",
      "[I 14:29:05 InstallContribNbextensionsApp] - Validating: ok\n",
      "[I 14:29:05 InstallContribNbextensionsApp] Installing C:\\Users\\kapil\\anaconda3\\Lib\\site-packages\\jupyter_contrib_nbextensions\\nbextensions\\ruler -> ruler\n",
      "[I 14:29:05 InstallContribNbextensionsApp] Making directory: C:\\Users\\kapil\\AppData\\Roaming\\jupyter\\nbextensions\\ruler\\\n",
      "[I 14:29:05 InstallContribNbextensionsApp] Copying: C:\\Users\\kapil\\anaconda3\\Lib\\site-packages\\jupyter_contrib_nbextensions\\nbextensions\\ruler\\edit.js -> C:\\Users\\kapil\\AppData\\Roaming\\jupyter\\nbextensions\\ruler\\edit.js\n",
      "[I 14:29:05 InstallContribNbextensionsApp] Copying: C:\\Users\\kapil\\anaconda3\\Lib\\site-packages\\jupyter_contrib_nbextensions\\nbextensions\\ruler\\icon.png -> C:\\Users\\kapil\\AppData\\Roaming\\jupyter\\nbextensions\\ruler\\icon.png\n",
      "[I 14:29:05 InstallContribNbextensionsApp] Copying: C:\\Users\\kapil\\anaconda3\\Lib\\site-packages\\jupyter_contrib_nbextensions\\nbextensions\\ruler\\main.js -> C:\\Users\\kapil\\AppData\\Roaming\\jupyter\\nbextensions\\ruler\\main.js\n",
      "[I 14:29:05 InstallContribNbextensionsApp] Copying: C:\\Users\\kapil\\anaconda3\\Lib\\site-packages\\jupyter_contrib_nbextensions\\nbextensions\\ruler\\readme.md -> C:\\Users\\kapil\\AppData\\Roaming\\jupyter\\nbextensions\\ruler\\readme.md\n",
      "[I 14:29:05 InstallContribNbextensionsApp] Copying: C:\\Users\\kapil\\anaconda3\\Lib\\site-packages\\jupyter_contrib_nbextensions\\nbextensions\\ruler\\ruler.yaml -> C:\\Users\\kapil\\AppData\\Roaming\\jupyter\\nbextensions\\ruler\\ruler.yaml\n",
      "[I 14:29:05 InstallContribNbextensionsApp] Copying: C:\\Users\\kapil\\anaconda3\\Lib\\site-packages\\jupyter_contrib_nbextensions\\nbextensions\\ruler\\ruler_editor.yaml -> C:\\Users\\kapil\\AppData\\Roaming\\jupyter\\nbextensions\\ruler\\ruler_editor.yaml\n",
      "[I 14:29:05 InstallContribNbextensionsApp] - Validating: ok\n",
      "[I 14:29:05 InstallContribNbextensionsApp] Installing C:\\Users\\kapil\\anaconda3\\Lib\\site-packages\\jupyter_contrib_nbextensions\\nbextensions\\ruler -> ruler\n",
      "[I 14:29:05 InstallContribNbextensionsApp] Up to date: C:\\Users\\kapil\\AppData\\Roaming\\jupyter\\nbextensions\\ruler\\edit.js\n",
      "[I 14:29:05 InstallContribNbextensionsApp] Up to date: C:\\Users\\kapil\\AppData\\Roaming\\jupyter\\nbextensions\\ruler\\icon.png\n",
      "[I 14:29:05 InstallContribNbextensionsApp] Up to date: C:\\Users\\kapil\\AppData\\Roaming\\jupyter\\nbextensions\\ruler\\main.js\n",
      "[I 14:29:05 InstallContribNbextensionsApp] Up to date: C:\\Users\\kapil\\AppData\\Roaming\\jupyter\\nbextensions\\ruler\\readme.md\n",
      "[I 14:29:05 InstallContribNbextensionsApp] Up to date: C:\\Users\\kapil\\AppData\\Roaming\\jupyter\\nbextensions\\ruler\\ruler.yaml\n",
      "[I 14:29:05 InstallContribNbextensionsApp] Up to date: C:\\Users\\kapil\\AppData\\Roaming\\jupyter\\nbextensions\\ruler\\ruler_editor.yaml\n",
      "[I 14:29:05 InstallContribNbextensionsApp] - Validating: ok\n",
      "[I 14:29:05 InstallContribNbextensionsApp] Installing C:\\Users\\kapil\\anaconda3\\Lib\\site-packages\\jupyter_contrib_nbextensions\\nbextensions\\runtools -> runtools\n",
      "[I 14:29:05 InstallContribNbextensionsApp] Making directory: C:\\Users\\kapil\\AppData\\Roaming\\jupyter\\nbextensions\\runtools\\\n",
      "[I 14:29:05 InstallContribNbextensionsApp] Copying: C:\\Users\\kapil\\anaconda3\\Lib\\site-packages\\jupyter_contrib_nbextensions\\nbextensions\\runtools\\annotations.odg -> C:\\Users\\kapil\\AppData\\Roaming\\jupyter\\nbextensions\\runtools\\annotations.odg\n",
      "[I 14:29:05 InstallContribNbextensionsApp] Copying: C:\\Users\\kapil\\anaconda3\\Lib\\site-packages\\jupyter_contrib_nbextensions\\nbextensions\\runtools\\cellstate.js -> C:\\Users\\kapil\\AppData\\Roaming\\jupyter\\nbextensions\\runtools\\cellstate.js\n",
      "[I 14:29:05 InstallContribNbextensionsApp] Copying: C:\\Users\\kapil\\anaconda3\\Lib\\site-packages\\jupyter_contrib_nbextensions\\nbextensions\\runtools\\demo.gif -> C:\\Users\\kapil\\AppData\\Roaming\\jupyter\\nbextensions\\runtools\\demo.gif\n",
      "[I 14:29:05 InstallContribNbextensionsApp] Copying: C:\\Users\\kapil\\anaconda3\\Lib\\site-packages\\jupyter_contrib_nbextensions\\nbextensions\\runtools\\gutter.css -> C:\\Users\\kapil\\AppData\\Roaming\\jupyter\\nbextensions\\runtools\\gutter.css\n",
      "[I 14:29:05 InstallContribNbextensionsApp] Copying: C:\\Users\\kapil\\anaconda3\\Lib\\site-packages\\jupyter_contrib_nbextensions\\nbextensions\\runtools\\icon.png -> C:\\Users\\kapil\\AppData\\Roaming\\jupyter\\nbextensions\\runtools\\icon.png\n",
      "[I 14:29:05 InstallContribNbextensionsApp] Copying: C:\\Users\\kapil\\anaconda3\\Lib\\site-packages\\jupyter_contrib_nbextensions\\nbextensions\\runtools\\main.css -> C:\\Users\\kapil\\AppData\\Roaming\\jupyter\\nbextensions\\runtools\\main.css\n",
      "[I 14:29:05 InstallContribNbextensionsApp] Copying: C:\\Users\\kapil\\anaconda3\\Lib\\site-packages\\jupyter_contrib_nbextensions\\nbextensions\\runtools\\main.js -> C:\\Users\\kapil\\AppData\\Roaming\\jupyter\\nbextensions\\runtools\\main.js\n",
      "[I 14:29:05 InstallContribNbextensionsApp] Copying: C:\\Users\\kapil\\anaconda3\\Lib\\site-packages\\jupyter_contrib_nbextensions\\nbextensions\\runtools\\readme.md -> C:\\Users\\kapil\\AppData\\Roaming\\jupyter\\nbextensions\\runtools\\readme.md\n",
      "[I 14:29:05 InstallContribNbextensionsApp] Copying: C:\\Users\\kapil\\anaconda3\\Lib\\site-packages\\jupyter_contrib_nbextensions\\nbextensions\\runtools\\runtools.yaml -> C:\\Users\\kapil\\AppData\\Roaming\\jupyter\\nbextensions\\runtools\\runtools.yaml\n",
      "[I 14:29:05 InstallContribNbextensionsApp] Copying: C:\\Users\\kapil\\anaconda3\\Lib\\site-packages\\jupyter_contrib_nbextensions\\nbextensions\\runtools\\runtools_execute.png -> C:\\Users\\kapil\\AppData\\Roaming\\jupyter\\nbextensions\\runtools\\runtools_execute.png\n",
      "[I 14:29:05 InstallContribNbextensionsApp] Copying: C:\\Users\\kapil\\anaconda3\\Lib\\site-packages\\jupyter_contrib_nbextensions\\nbextensions\\runtools\\runtools_lock.png -> C:\\Users\\kapil\\AppData\\Roaming\\jupyter\\nbextensions\\runtools\\runtools_lock.png\n",
      "[I 14:29:05 InstallContribNbextensionsApp] Copying: C:\\Users\\kapil\\anaconda3\\Lib\\site-packages\\jupyter_contrib_nbextensions\\nbextensions\\runtools\\runtools_marker.png -> C:\\Users\\kapil\\AppData\\Roaming\\jupyter\\nbextensions\\runtools\\runtools_marker.png\n",
      "[I 14:29:05 InstallContribNbextensionsApp] Copying: C:\\Users\\kapil\\anaconda3\\Lib\\site-packages\\jupyter_contrib_nbextensions\\nbextensions\\runtools\\runtools_nb.png -> C:\\Users\\kapil\\AppData\\Roaming\\jupyter\\nbextensions\\runtools\\runtools_nb.png\n",
      "[I 14:29:05 InstallContribNbextensionsApp] Copying: C:\\Users\\kapil\\anaconda3\\Lib\\site-packages\\jupyter_contrib_nbextensions\\nbextensions\\runtools\\runtools_show_hide.png -> C:\\Users\\kapil\\AppData\\Roaming\\jupyter\\nbextensions\\runtools\\runtools_show_hide.png\n",
      "[I 14:29:05 InstallContribNbextensionsApp] - Validating: ok\n",
      "[I 14:29:05 InstallContribNbextensionsApp] Installing C:\\Users\\kapil\\anaconda3\\Lib\\site-packages\\jupyter_contrib_nbextensions\\nbextensions\\scratchpad -> scratchpad\n",
      "[I 14:29:05 InstallContribNbextensionsApp] Making directory: C:\\Users\\kapil\\AppData\\Roaming\\jupyter\\nbextensions\\scratchpad\\\n",
      "[I 14:29:05 InstallContribNbextensionsApp] Copying: C:\\Users\\kapil\\anaconda3\\Lib\\site-packages\\jupyter_contrib_nbextensions\\nbextensions\\scratchpad\\demo.gif -> C:\\Users\\kapil\\AppData\\Roaming\\jupyter\\nbextensions\\scratchpad\\demo.gif\n",
      "[I 14:29:05 InstallContribNbextensionsApp] Copying: C:\\Users\\kapil\\anaconda3\\Lib\\site-packages\\jupyter_contrib_nbextensions\\nbextensions\\scratchpad\\LICENSE -> C:\\Users\\kapil\\AppData\\Roaming\\jupyter\\nbextensions\\scratchpad\\LICENSE\n",
      "[I 14:29:05 InstallContribNbextensionsApp] Copying: C:\\Users\\kapil\\anaconda3\\Lib\\site-packages\\jupyter_contrib_nbextensions\\nbextensions\\scratchpad\\main.js -> C:\\Users\\kapil\\AppData\\Roaming\\jupyter\\nbextensions\\scratchpad\\main.js\n",
      "[I 14:29:05 InstallContribNbextensionsApp] Copying: C:\\Users\\kapil\\anaconda3\\Lib\\site-packages\\jupyter_contrib_nbextensions\\nbextensions\\scratchpad\\README.md -> C:\\Users\\kapil\\AppData\\Roaming\\jupyter\\nbextensions\\scratchpad\\README.md\n",
      "[I 14:29:05 InstallContribNbextensionsApp] Copying: C:\\Users\\kapil\\anaconda3\\Lib\\site-packages\\jupyter_contrib_nbextensions\\nbextensions\\scratchpad\\scratchpad.css -> C:\\Users\\kapil\\AppData\\Roaming\\jupyter\\nbextensions\\scratchpad\\scratchpad.css\n",
      "[I 14:29:05 InstallContribNbextensionsApp] Copying: C:\\Users\\kapil\\anaconda3\\Lib\\site-packages\\jupyter_contrib_nbextensions\\nbextensions\\scratchpad\\scratchpad.yaml -> C:\\Users\\kapil\\AppData\\Roaming\\jupyter\\nbextensions\\scratchpad\\scratchpad.yaml\n",
      "[I 14:29:05 InstallContribNbextensionsApp] - Validating: ok\n",
      "[I 14:29:05 InstallContribNbextensionsApp] Installing C:\\Users\\kapil\\anaconda3\\Lib\\site-packages\\jupyter_contrib_nbextensions\\nbextensions\\scroll_down -> scroll_down\n",
      "[I 14:29:05 InstallContribNbextensionsApp] Making directory: C:\\Users\\kapil\\AppData\\Roaming\\jupyter\\nbextensions\\scroll_down\\\n",
      "[I 14:29:05 InstallContribNbextensionsApp] Copying: C:\\Users\\kapil\\anaconda3\\Lib\\site-packages\\jupyter_contrib_nbextensions\\nbextensions\\scroll_down\\config.yaml -> C:\\Users\\kapil\\AppData\\Roaming\\jupyter\\nbextensions\\scroll_down\\config.yaml\n",
      "[I 14:29:05 InstallContribNbextensionsApp] Copying: C:\\Users\\kapil\\anaconda3\\Lib\\site-packages\\jupyter_contrib_nbextensions\\nbextensions\\scroll_down\\icon.png -> C:\\Users\\kapil\\AppData\\Roaming\\jupyter\\nbextensions\\scroll_down\\icon.png\n",
      "[I 14:29:05 InstallContribNbextensionsApp] Copying: C:\\Users\\kapil\\anaconda3\\Lib\\site-packages\\jupyter_contrib_nbextensions\\nbextensions\\scroll_down\\main.js -> C:\\Users\\kapil\\AppData\\Roaming\\jupyter\\nbextensions\\scroll_down\\main.js\n",
      "[I 14:29:05 InstallContribNbextensionsApp] Copying: C:\\Users\\kapil\\anaconda3\\Lib\\site-packages\\jupyter_contrib_nbextensions\\nbextensions\\scroll_down\\readme.md -> C:\\Users\\kapil\\AppData\\Roaming\\jupyter\\nbextensions\\scroll_down\\readme.md\n",
      "[I 14:29:05 InstallContribNbextensionsApp] - Validating: ok\n",
      "[I 14:29:05 InstallContribNbextensionsApp] Installing C:\\Users\\kapil\\anaconda3\\Lib\\site-packages\\jupyter_contrib_nbextensions\\nbextensions\\select_keymap -> select_keymap\n",
      "[I 14:29:05 InstallContribNbextensionsApp] Making directory: C:\\Users\\kapil\\AppData\\Roaming\\jupyter\\nbextensions\\select_keymap\\\n",
      "[I 14:29:05 InstallContribNbextensionsApp] Copying: C:\\Users\\kapil\\anaconda3\\Lib\\site-packages\\jupyter_contrib_nbextensions\\nbextensions\\select_keymap\\main.js -> C:\\Users\\kapil\\AppData\\Roaming\\jupyter\\nbextensions\\select_keymap\\main.js\n",
      "[I 14:29:05 InstallContribNbextensionsApp] Copying: C:\\Users\\kapil\\anaconda3\\Lib\\site-packages\\jupyter_contrib_nbextensions\\nbextensions\\select_keymap\\README.md -> C:\\Users\\kapil\\AppData\\Roaming\\jupyter\\nbextensions\\select_keymap\\README.md\n",
      "[I 14:29:05 InstallContribNbextensionsApp] Copying: C:\\Users\\kapil\\anaconda3\\Lib\\site-packages\\jupyter_contrib_nbextensions\\nbextensions\\select_keymap\\select_keymap.png -> C:\\Users\\kapil\\AppData\\Roaming\\jupyter\\nbextensions\\select_keymap\\select_keymap.png\n",
      "[I 14:29:05 InstallContribNbextensionsApp] Copying: C:\\Users\\kapil\\anaconda3\\Lib\\site-packages\\jupyter_contrib_nbextensions\\nbextensions\\select_keymap\\select_keymap.yaml -> C:\\Users\\kapil\\AppData\\Roaming\\jupyter\\nbextensions\\select_keymap\\select_keymap.yaml\n",
      "[I 14:29:05 InstallContribNbextensionsApp] - Validating: ok\n",
      "[I 14:29:05 InstallContribNbextensionsApp] Installing C:\\Users\\kapil\\anaconda3\\Lib\\site-packages\\jupyter_contrib_nbextensions\\nbextensions\\skill -> skill\n",
      "[I 14:29:05 InstallContribNbextensionsApp] Making directory: C:\\Users\\kapil\\AppData\\Roaming\\jupyter\\nbextensions\\skill\\\n",
      "[I 14:29:05 InstallContribNbextensionsApp] Copying: C:\\Users\\kapil\\anaconda3\\Lib\\site-packages\\jupyter_contrib_nbextensions\\nbextensions\\skill\\main.js -> C:\\Users\\kapil\\AppData\\Roaming\\jupyter\\nbextensions\\skill\\main.js\n",
      "[I 14:29:05 InstallContribNbextensionsApp] Copying: C:\\Users\\kapil\\anaconda3\\Lib\\site-packages\\jupyter_contrib_nbextensions\\nbextensions\\skill\\README.md -> C:\\Users\\kapil\\AppData\\Roaming\\jupyter\\nbextensions\\skill\\README.md\n",
      "[I 14:29:05 InstallContribNbextensionsApp] Copying: C:\\Users\\kapil\\anaconda3\\Lib\\site-packages\\jupyter_contrib_nbextensions\\nbextensions\\skill\\skill.js -> C:\\Users\\kapil\\AppData\\Roaming\\jupyter\\nbextensions\\skill\\skill.js\n",
      "[I 14:29:05 InstallContribNbextensionsApp] Copying: C:\\Users\\kapil\\anaconda3\\Lib\\site-packages\\jupyter_contrib_nbextensions\\nbextensions\\skill\\skill.yaml -> C:\\Users\\kapil\\AppData\\Roaming\\jupyter\\nbextensions\\skill\\skill.yaml\n",
      "[I 14:29:05 InstallContribNbextensionsApp] - Validating: ok\n",
      "[I 14:29:05 InstallContribNbextensionsApp] Installing C:\\Users\\kapil\\anaconda3\\Lib\\site-packages\\jupyter_contrib_nbextensions\\nbextensions\\skip-traceback -> skip-traceback\n",
      "[I 14:29:05 InstallContribNbextensionsApp] Making directory: C:\\Users\\kapil\\AppData\\Roaming\\jupyter\\nbextensions\\skip-traceback\\\n",
      "[I 14:29:05 InstallContribNbextensionsApp] Copying: C:\\Users\\kapil\\anaconda3\\Lib\\site-packages\\jupyter_contrib_nbextensions\\nbextensions\\skip-traceback\\icon.png -> C:\\Users\\kapil\\AppData\\Roaming\\jupyter\\nbextensions\\skip-traceback\\icon.png\n",
      "[I 14:29:05 InstallContribNbextensionsApp] Copying: C:\\Users\\kapil\\anaconda3\\Lib\\site-packages\\jupyter_contrib_nbextensions\\nbextensions\\skip-traceback\\main.js -> C:\\Users\\kapil\\AppData\\Roaming\\jupyter\\nbextensions\\skip-traceback\\main.js\n",
      "[I 14:29:05 InstallContribNbextensionsApp] Copying: C:\\Users\\kapil\\anaconda3\\Lib\\site-packages\\jupyter_contrib_nbextensions\\nbextensions\\skip-traceback\\readme.md -> C:\\Users\\kapil\\AppData\\Roaming\\jupyter\\nbextensions\\skip-traceback\\readme.md\n",
      "[I 14:29:05 InstallContribNbextensionsApp] Copying: C:\\Users\\kapil\\anaconda3\\Lib\\site-packages\\jupyter_contrib_nbextensions\\nbextensions\\skip-traceback\\skip-traceback.png -> C:\\Users\\kapil\\AppData\\Roaming\\jupyter\\nbextensions\\skip-traceback\\skip-traceback.png\n",
      "[I 14:29:05 InstallContribNbextensionsApp] Copying: C:\\Users\\kapil\\anaconda3\\Lib\\site-packages\\jupyter_contrib_nbextensions\\nbextensions\\skip-traceback\\skip-traceback.yaml -> C:\\Users\\kapil\\AppData\\Roaming\\jupyter\\nbextensions\\skip-traceback\\skip-traceback.yaml\n",
      "[I 14:29:05 InstallContribNbextensionsApp] Copying: C:\\Users\\kapil\\anaconda3\\Lib\\site-packages\\jupyter_contrib_nbextensions\\nbextensions\\skip-traceback\\traceback.png -> C:\\Users\\kapil\\AppData\\Roaming\\jupyter\\nbextensions\\skip-traceback\\traceback.png\n",
      "[I 14:29:05 InstallContribNbextensionsApp] - Validating: ok\n",
      "[I 14:29:05 InstallContribNbextensionsApp] Installing C:\\Users\\kapil\\anaconda3\\Lib\\site-packages\\jupyter_contrib_nbextensions\\nbextensions\\snippets -> snippets\n",
      "[I 14:29:05 InstallContribNbextensionsApp] Making directory: C:\\Users\\kapil\\AppData\\Roaming\\jupyter\\nbextensions\\snippets\\\n",
      "[I 14:29:05 InstallContribNbextensionsApp] Copying: C:\\Users\\kapil\\anaconda3\\Lib\\site-packages\\jupyter_contrib_nbextensions\\nbextensions\\snippets\\main.js -> C:\\Users\\kapil\\AppData\\Roaming\\jupyter\\nbextensions\\snippets\\main.js\n",
      "[I 14:29:05 InstallContribNbextensionsApp] Copying: C:\\Users\\kapil\\anaconda3\\Lib\\site-packages\\jupyter_contrib_nbextensions\\nbextensions\\snippets\\README.md -> C:\\Users\\kapil\\AppData\\Roaming\\jupyter\\nbextensions\\snippets\\README.md\n",
      "[I 14:29:05 InstallContribNbextensionsApp] Copying: C:\\Users\\kapil\\anaconda3\\Lib\\site-packages\\jupyter_contrib_nbextensions\\nbextensions\\snippets\\snippets-demo.gif -> C:\\Users\\kapil\\AppData\\Roaming\\jupyter\\nbextensions\\snippets\\snippets-demo.gif\n",
      "[I 14:29:05 InstallContribNbextensionsApp] Copying: C:\\Users\\kapil\\anaconda3\\Lib\\site-packages\\jupyter_contrib_nbextensions\\nbextensions\\snippets\\snippets.json -> C:\\Users\\kapil\\AppData\\Roaming\\jupyter\\nbextensions\\snippets\\snippets.json\n",
      "[I 14:29:05 InstallContribNbextensionsApp] Copying: C:\\Users\\kapil\\anaconda3\\Lib\\site-packages\\jupyter_contrib_nbextensions\\nbextensions\\snippets\\snippets.yaml -> C:\\Users\\kapil\\AppData\\Roaming\\jupyter\\nbextensions\\snippets\\snippets.yaml\n",
      "[I 14:29:05 InstallContribNbextensionsApp] - Validating: ok\n",
      "[I 14:29:05 InstallContribNbextensionsApp] Installing C:\\Users\\kapil\\anaconda3\\Lib\\site-packages\\jupyter_contrib_nbextensions\\nbextensions\\snippets_menu -> snippets_menu\n",
      "[I 14:29:05 InstallContribNbextensionsApp] Making directory: C:\\Users\\kapil\\AppData\\Roaming\\jupyter\\nbextensions\\snippets_menu\\\n",
      "[I 14:29:05 InstallContribNbextensionsApp] Copying: C:\\Users\\kapil\\anaconda3\\Lib\\site-packages\\jupyter_contrib_nbextensions\\nbextensions\\snippets_menu\\config.yaml -> C:\\Users\\kapil\\AppData\\Roaming\\jupyter\\nbextensions\\snippets_menu\\config.yaml\n",
      "[I 14:29:05 InstallContribNbextensionsApp] Copying: C:\\Users\\kapil\\anaconda3\\Lib\\site-packages\\jupyter_contrib_nbextensions\\nbextensions\\snippets_menu\\examples_for_custom.js -> C:\\Users\\kapil\\AppData\\Roaming\\jupyter\\nbextensions\\snippets_menu\\examples_for_custom.js\n",
      "[I 14:29:05 InstallContribNbextensionsApp] Copying: C:\\Users\\kapil\\anaconda3\\Lib\\site-packages\\jupyter_contrib_nbextensions\\nbextensions\\snippets_menu\\main.js -> C:\\Users\\kapil\\AppData\\Roaming\\jupyter\\nbextensions\\snippets_menu\\main.js\n",
      "[I 14:29:05 InstallContribNbextensionsApp] Copying: C:\\Users\\kapil\\anaconda3\\Lib\\site-packages\\jupyter_contrib_nbextensions\\nbextensions\\snippets_menu\\readme.md -> C:\\Users\\kapil\\AppData\\Roaming\\jupyter\\nbextensions\\snippets_menu\\readme.md\n",
      "[I 14:29:05 InstallContribNbextensionsApp] Copying: C:\\Users\\kapil\\anaconda3\\Lib\\site-packages\\jupyter_contrib_nbextensions\\nbextensions\\snippets_menu\\screenshot1.png -> C:\\Users\\kapil\\AppData\\Roaming\\jupyter\\nbextensions\\snippets_menu\\screenshot1.png\n",
      "[I 14:29:05 InstallContribNbextensionsApp] Copying: C:\\Users\\kapil\\anaconda3\\Lib\\site-packages\\jupyter_contrib_nbextensions\\nbextensions\\snippets_menu\\screenshot2.png -> C:\\Users\\kapil\\AppData\\Roaming\\jupyter\\nbextensions\\snippets_menu\\screenshot2.png\n",
      "[I 14:29:05 InstallContribNbextensionsApp] Copying: C:\\Users\\kapil\\anaconda3\\Lib\\site-packages\\jupyter_contrib_nbextensions\\nbextensions\\snippets_menu\\screenshot3.png -> C:\\Users\\kapil\\AppData\\Roaming\\jupyter\\nbextensions\\snippets_menu\\screenshot3.png\n",
      "[I 14:29:05 InstallContribNbextensionsApp] Copying: C:\\Users\\kapil\\anaconda3\\Lib\\site-packages\\jupyter_contrib_nbextensions\\nbextensions\\snippets_menu\\snippets_menu.css -> C:\\Users\\kapil\\AppData\\Roaming\\jupyter\\nbextensions\\snippets_menu\\snippets_menu.css\n",
      "[I 14:29:05 InstallContribNbextensionsApp] Copying: C:\\Users\\kapil\\anaconda3\\Lib\\site-packages\\jupyter_contrib_nbextensions\\nbextensions\\snippets_menu\\snippets_submenu_markdown.js -> C:\\Users\\kapil\\AppData\\Roaming\\jupyter\\nbextensions\\snippets_menu\\snippets_submenu_markdown.js\n",
      "[I 14:29:05 InstallContribNbextensionsApp] Copying: C:\\Users\\kapil\\anaconda3\\Lib\\site-packages\\jupyter_contrib_nbextensions\\nbextensions\\snippets_menu\\snippets_submenu_python.js -> C:\\Users\\kapil\\AppData\\Roaming\\jupyter\\nbextensions\\snippets_menu\\snippets_submenu_python.js\n",
      "[I 14:29:05 InstallContribNbextensionsApp] Copying: C:\\Users\\kapil\\anaconda3\\Lib\\site-packages\\jupyter_contrib_nbextensions\\nbextensions\\snippets_menu\\thumbnail.png -> C:\\Users\\kapil\\AppData\\Roaming\\jupyter\\nbextensions\\snippets_menu\\thumbnail.png\n",
      "[I 14:29:05 InstallContribNbextensionsApp] Making directory: C:\\Users\\kapil\\AppData\\Roaming\\jupyter\\nbextensions\\snippets_menu\\snippets_submenus_python\n",
      "[I 14:29:05 InstallContribNbextensionsApp] Copying: C:\\Users\\kapil\\anaconda3\\Lib\\site-packages\\jupyter_contrib_nbextensions\\nbextensions\\snippets_menu\\snippets_submenus_python\\astropy.js -> C:\\Users\\kapil\\AppData\\Roaming\\jupyter\\nbextensions\\snippets_menu\\snippets_submenus_python\\astropy.js\n",
      "[I 14:29:05 InstallContribNbextensionsApp] Copying: C:\\Users\\kapil\\anaconda3\\Lib\\site-packages\\jupyter_contrib_nbextensions\\nbextensions\\snippets_menu\\snippets_submenus_python\\h5py.js -> C:\\Users\\kapil\\AppData\\Roaming\\jupyter\\nbextensions\\snippets_menu\\snippets_submenus_python\\h5py.js\n",
      "[I 14:29:05 InstallContribNbextensionsApp] Copying: C:\\Users\\kapil\\anaconda3\\Lib\\site-packages\\jupyter_contrib_nbextensions\\nbextensions\\snippets_menu\\snippets_submenus_python\\matplotlib.js -> C:\\Users\\kapil\\AppData\\Roaming\\jupyter\\nbextensions\\snippets_menu\\snippets_submenus_python\\matplotlib.js\n",
      "[I 14:29:05 InstallContribNbextensionsApp] Copying: C:\\Users\\kapil\\anaconda3\\Lib\\site-packages\\jupyter_contrib_nbextensions\\nbextensions\\snippets_menu\\snippets_submenus_python\\numba.js -> C:\\Users\\kapil\\AppData\\Roaming\\jupyter\\nbextensions\\snippets_menu\\snippets_submenus_python\\numba.js\n",
      "[I 14:29:05 InstallContribNbextensionsApp] Copying: C:\\Users\\kapil\\anaconda3\\Lib\\site-packages\\jupyter_contrib_nbextensions\\nbextensions\\snippets_menu\\snippets_submenus_python\\numpy.js -> C:\\Users\\kapil\\AppData\\Roaming\\jupyter\\nbextensions\\snippets_menu\\snippets_submenus_python\\numpy.js\n",
      "[I 14:29:05 InstallContribNbextensionsApp] Copying: C:\\Users\\kapil\\anaconda3\\Lib\\site-packages\\jupyter_contrib_nbextensions\\nbextensions\\snippets_menu\\snippets_submenus_python\\numpy_polynomial.js -> C:\\Users\\kapil\\AppData\\Roaming\\jupyter\\nbextensions\\snippets_menu\\snippets_submenus_python\\numpy_polynomial.js\n",
      "[I 14:29:05 InstallContribNbextensionsApp] Copying: C:\\Users\\kapil\\anaconda3\\Lib\\site-packages\\jupyter_contrib_nbextensions\\nbextensions\\snippets_menu\\snippets_submenus_python\\numpy_ufuncs.js -> C:\\Users\\kapil\\AppData\\Roaming\\jupyter\\nbextensions\\snippets_menu\\snippets_submenus_python\\numpy_ufuncs.js\n",
      "[I 14:29:05 InstallContribNbextensionsApp] Copying: C:\\Users\\kapil\\anaconda3\\Lib\\site-packages\\jupyter_contrib_nbextensions\\nbextensions\\snippets_menu\\snippets_submenus_python\\pandas.js -> C:\\Users\\kapil\\AppData\\Roaming\\jupyter\\nbextensions\\snippets_menu\\snippets_submenus_python\\pandas.js\n",
      "[I 14:29:05 InstallContribNbextensionsApp] Copying: C:\\Users\\kapil\\anaconda3\\Lib\\site-packages\\jupyter_contrib_nbextensions\\nbextensions\\snippets_menu\\snippets_submenus_python\\python.js -> C:\\Users\\kapil\\AppData\\Roaming\\jupyter\\nbextensions\\snippets_menu\\snippets_submenus_python\\python.js\n",
      "[I 14:29:05 InstallContribNbextensionsApp] Copying: C:\\Users\\kapil\\anaconda3\\Lib\\site-packages\\jupyter_contrib_nbextensions\\nbextensions\\snippets_menu\\snippets_submenus_python\\python_regex.js -> C:\\Users\\kapil\\AppData\\Roaming\\jupyter\\nbextensions\\snippets_menu\\snippets_submenus_python\\python_regex.js\n",
      "[I 14:29:05 InstallContribNbextensionsApp] Copying: C:\\Users\\kapil\\anaconda3\\Lib\\site-packages\\jupyter_contrib_nbextensions\\nbextensions\\snippets_menu\\snippets_submenus_python\\scipy.js -> C:\\Users\\kapil\\AppData\\Roaming\\jupyter\\nbextensions\\snippets_menu\\snippets_submenus_python\\scipy.js\n",
      "[I 14:29:05 InstallContribNbextensionsApp] Copying: C:\\Users\\kapil\\anaconda3\\Lib\\site-packages\\jupyter_contrib_nbextensions\\nbextensions\\snippets_menu\\snippets_submenus_python\\scipy_constants.js -> C:\\Users\\kapil\\AppData\\Roaming\\jupyter\\nbextensions\\snippets_menu\\snippets_submenus_python\\scipy_constants.js\n",
      "[I 14:29:05 InstallContribNbextensionsApp] Copying: C:\\Users\\kapil\\anaconda3\\Lib\\site-packages\\jupyter_contrib_nbextensions\\nbextensions\\snippets_menu\\snippets_submenus_python\\scipy_special.js -> C:\\Users\\kapil\\AppData\\Roaming\\jupyter\\nbextensions\\snippets_menu\\snippets_submenus_python\\scipy_special.js\n",
      "[I 14:29:05 InstallContribNbextensionsApp] Copying: C:\\Users\\kapil\\anaconda3\\Lib\\site-packages\\jupyter_contrib_nbextensions\\nbextensions\\snippets_menu\\snippets_submenus_python\\sympy.js -> C:\\Users\\kapil\\AppData\\Roaming\\jupyter\\nbextensions\\snippets_menu\\snippets_submenus_python\\sympy.js\n",
      "[I 14:29:05 InstallContribNbextensionsApp] Copying: C:\\Users\\kapil\\anaconda3\\Lib\\site-packages\\jupyter_contrib_nbextensions\\nbextensions\\snippets_menu\\snippets_submenus_python\\sympy_assumptions.js -> C:\\Users\\kapil\\AppData\\Roaming\\jupyter\\nbextensions\\snippets_menu\\snippets_submenus_python\\sympy_assumptions.js\n",
      "[I 14:29:05 InstallContribNbextensionsApp] Copying: C:\\Users\\kapil\\anaconda3\\Lib\\site-packages\\jupyter_contrib_nbextensions\\nbextensions\\snippets_menu\\snippets_submenus_python\\sympy_functions.js -> C:\\Users\\kapil\\AppData\\Roaming\\jupyter\\nbextensions\\snippets_menu\\snippets_submenus_python\\sympy_functions.js\n",
      "[I 14:29:05 InstallContribNbextensionsApp] - Validating: ok\n",
      "[I 14:29:05 InstallContribNbextensionsApp] Installing C:\\Users\\kapil\\anaconda3\\Lib\\site-packages\\jupyter_contrib_nbextensions\\nbextensions\\spellchecker -> spellchecker\n",
      "[I 14:29:05 InstallContribNbextensionsApp] Making directory: C:\\Users\\kapil\\AppData\\Roaming\\jupyter\\nbextensions\\spellchecker\\\n",
      "[I 14:29:05 InstallContribNbextensionsApp] Copying: C:\\Users\\kapil\\anaconda3\\Lib\\site-packages\\jupyter_contrib_nbextensions\\nbextensions\\spellchecker\\config.yaml -> C:\\Users\\kapil\\AppData\\Roaming\\jupyter\\nbextensions\\spellchecker\\config.yaml\n",
      "[I 14:29:05 InstallContribNbextensionsApp] Copying: C:\\Users\\kapil\\anaconda3\\Lib\\site-packages\\jupyter_contrib_nbextensions\\nbextensions\\spellchecker\\download_new_dict.py -> C:\\Users\\kapil\\AppData\\Roaming\\jupyter\\nbextensions\\spellchecker\\download_new_dict.py\n",
      "[I 14:29:05 InstallContribNbextensionsApp] Copying: C:\\Users\\kapil\\anaconda3\\Lib\\site-packages\\jupyter_contrib_nbextensions\\nbextensions\\spellchecker\\main.css -> C:\\Users\\kapil\\AppData\\Roaming\\jupyter\\nbextensions\\spellchecker\\main.css\n",
      "[I 14:29:05 InstallContribNbextensionsApp] Copying: C:\\Users\\kapil\\anaconda3\\Lib\\site-packages\\jupyter_contrib_nbextensions\\nbextensions\\spellchecker\\main.js -> C:\\Users\\kapil\\AppData\\Roaming\\jupyter\\nbextensions\\spellchecker\\main.js\n",
      "[I 14:29:05 InstallContribNbextensionsApp] Copying: C:\\Users\\kapil\\anaconda3\\Lib\\site-packages\\jupyter_contrib_nbextensions\\nbextensions\\spellchecker\\README.md -> C:\\Users\\kapil\\AppData\\Roaming\\jupyter\\nbextensions\\spellchecker\\README.md\n",
      "[I 14:29:05 InstallContribNbextensionsApp] Copying: C:\\Users\\kapil\\anaconda3\\Lib\\site-packages\\jupyter_contrib_nbextensions\\nbextensions\\spellchecker\\screenshot.png -> C:\\Users\\kapil\\AppData\\Roaming\\jupyter\\nbextensions\\spellchecker\\screenshot.png\n",
      "[I 14:29:05 InstallContribNbextensionsApp] Making directory: C:\\Users\\kapil\\AppData\\Roaming\\jupyter\\nbextensions\\spellchecker\\typo\n",
      "[I 14:29:05 InstallContribNbextensionsApp] Copying: C:\\Users\\kapil\\anaconda3\\Lib\\site-packages\\jupyter_contrib_nbextensions\\nbextensions\\spellchecker\\typo\\LICENSE.txt -> C:\\Users\\kapil\\AppData\\Roaming\\jupyter\\nbextensions\\spellchecker\\typo\\LICENSE.txt\n",
      "[I 14:29:05 InstallContribNbextensionsApp] Copying: C:\\Users\\kapil\\anaconda3\\Lib\\site-packages\\jupyter_contrib_nbextensions\\nbextensions\\spellchecker\\typo\\typo.js -> C:\\Users\\kapil\\AppData\\Roaming\\jupyter\\nbextensions\\spellchecker\\typo\\typo.js\n",
      "[I 14:29:05 InstallContribNbextensionsApp] Making directory: C:\\Users\\kapil\\AppData\\Roaming\\jupyter\\nbextensions\\spellchecker\\__pycache__\n",
      "[I 14:29:05 InstallContribNbextensionsApp] Copying: C:\\Users\\kapil\\anaconda3\\Lib\\site-packages\\jupyter_contrib_nbextensions\\nbextensions\\spellchecker\\__pycache__\\download_new_dict.cpython-311.pyc -> C:\\Users\\kapil\\AppData\\Roaming\\jupyter\\nbextensions\\spellchecker\\__pycache__\\download_new_dict.cpython-311.pyc\n",
      "[I 14:29:05 InstallContribNbextensionsApp] - Validating: ok\n",
      "[I 14:29:05 InstallContribNbextensionsApp] Installing C:\\Users\\kapil\\anaconda3\\Lib\\site-packages\\jupyter_contrib_nbextensions\\nbextensions\\splitcell -> splitcell\n",
      "[I 14:29:05 InstallContribNbextensionsApp] Making directory: C:\\Users\\kapil\\AppData\\Roaming\\jupyter\\nbextensions\\splitcell\\\n",
      "[I 14:29:05 InstallContribNbextensionsApp] Copying: C:\\Users\\kapil\\anaconda3\\Lib\\site-packages\\jupyter_contrib_nbextensions\\nbextensions\\splitcell\\icon.png -> C:\\Users\\kapil\\AppData\\Roaming\\jupyter\\nbextensions\\splitcell\\icon.png\n",
      "[I 14:29:05 InstallContribNbextensionsApp] Copying: C:\\Users\\kapil\\anaconda3\\Lib\\site-packages\\jupyter_contrib_nbextensions\\nbextensions\\splitcell\\readme.md -> C:\\Users\\kapil\\AppData\\Roaming\\jupyter\\nbextensions\\splitcell\\readme.md\n",
      "[I 14:29:05 InstallContribNbextensionsApp] Copying: C:\\Users\\kapil\\anaconda3\\Lib\\site-packages\\jupyter_contrib_nbextensions\\nbextensions\\splitcell\\splitcell.js -> C:\\Users\\kapil\\AppData\\Roaming\\jupyter\\nbextensions\\splitcell\\splitcell.js\n",
      "[I 14:29:05 InstallContribNbextensionsApp] Copying: C:\\Users\\kapil\\anaconda3\\Lib\\site-packages\\jupyter_contrib_nbextensions\\nbextensions\\splitcell\\splitcell.yaml -> C:\\Users\\kapil\\AppData\\Roaming\\jupyter\\nbextensions\\splitcell\\splitcell.yaml\n",
      "[I 14:29:05 InstallContribNbextensionsApp] - Validating: ok\n",
      "[I 14:29:05 InstallContribNbextensionsApp] Installing C:\\Users\\kapil\\anaconda3\\Lib\\site-packages\\jupyter_contrib_nbextensions\\nbextensions\\table_beautifier -> table_beautifier\n",
      "[I 14:29:05 InstallContribNbextensionsApp] Making directory: C:\\Users\\kapil\\AppData\\Roaming\\jupyter\\nbextensions\\table_beautifier\\\n",
      "[I 14:29:05 InstallContribNbextensionsApp] Copying: C:\\Users\\kapil\\anaconda3\\Lib\\site-packages\\jupyter_contrib_nbextensions\\nbextensions\\table_beautifier\\main.css -> C:\\Users\\kapil\\AppData\\Roaming\\jupyter\\nbextensions\\table_beautifier\\main.css\n",
      "[I 14:29:05 InstallContribNbextensionsApp] Copying: C:\\Users\\kapil\\anaconda3\\Lib\\site-packages\\jupyter_contrib_nbextensions\\nbextensions\\table_beautifier\\main.js -> C:\\Users\\kapil\\AppData\\Roaming\\jupyter\\nbextensions\\table_beautifier\\main.js\n",
      "[I 14:29:05 InstallContribNbextensionsApp] Copying: C:\\Users\\kapil\\anaconda3\\Lib\\site-packages\\jupyter_contrib_nbextensions\\nbextensions\\table_beautifier\\README.md -> C:\\Users\\kapil\\AppData\\Roaming\\jupyter\\nbextensions\\table_beautifier\\README.md\n",
      "[I 14:29:05 InstallContribNbextensionsApp] Copying: C:\\Users\\kapil\\anaconda3\\Lib\\site-packages\\jupyter_contrib_nbextensions\\nbextensions\\table_beautifier\\table_beautifier.yaml -> C:\\Users\\kapil\\AppData\\Roaming\\jupyter\\nbextensions\\table_beautifier\\table_beautifier.yaml\n",
      "[I 14:29:05 InstallContribNbextensionsApp] - Validating: ok\n",
      "[I 14:29:05 InstallContribNbextensionsApp] Installing C:\\Users\\kapil\\anaconda3\\Lib\\site-packages\\jupyter_contrib_nbextensions\\nbextensions\\toc2 -> toc2\n",
      "[I 14:29:05 InstallContribNbextensionsApp] Making directory: C:\\Users\\kapil\\AppData\\Roaming\\jupyter\\nbextensions\\toc2\\\n",
      "[I 14:29:05 InstallContribNbextensionsApp] Copying: C:\\Users\\kapil\\anaconda3\\Lib\\site-packages\\jupyter_contrib_nbextensions\\nbextensions\\toc2\\demo.gif -> C:\\Users\\kapil\\AppData\\Roaming\\jupyter\\nbextensions\\toc2\\demo.gif\n",
      "[I 14:29:05 InstallContribNbextensionsApp] Copying: C:\\Users\\kapil\\anaconda3\\Lib\\site-packages\\jupyter_contrib_nbextensions\\nbextensions\\toc2\\demo2.gif -> C:\\Users\\kapil\\AppData\\Roaming\\jupyter\\nbextensions\\toc2\\demo2.gif\n",
      "[I 14:29:05 InstallContribNbextensionsApp] Copying: C:\\Users\\kapil\\anaconda3\\Lib\\site-packages\\jupyter_contrib_nbextensions\\nbextensions\\toc2\\demo3.gif -> C:\\Users\\kapil\\AppData\\Roaming\\jupyter\\nbextensions\\toc2\\demo3.gif\n",
      "[I 14:29:05 InstallContribNbextensionsApp] Copying: C:\\Users\\kapil\\anaconda3\\Lib\\site-packages\\jupyter_contrib_nbextensions\\nbextensions\\toc2\\demo_dark.png -> C:\\Users\\kapil\\AppData\\Roaming\\jupyter\\nbextensions\\toc2\\demo_dark.png\n",
      "[I 14:29:05 InstallContribNbextensionsApp] Copying: C:\\Users\\kapil\\anaconda3\\Lib\\site-packages\\jupyter_contrib_nbextensions\\nbextensions\\toc2\\icon.png -> C:\\Users\\kapil\\AppData\\Roaming\\jupyter\\nbextensions\\toc2\\icon.png\n",
      "[I 14:29:05 InstallContribNbextensionsApp] Copying: C:\\Users\\kapil\\anaconda3\\Lib\\site-packages\\jupyter_contrib_nbextensions\\nbextensions\\toc2\\image.png -> C:\\Users\\kapil\\AppData\\Roaming\\jupyter\\nbextensions\\toc2\\image.png\n",
      "[I 14:29:05 InstallContribNbextensionsApp] Copying: C:\\Users\\kapil\\anaconda3\\Lib\\site-packages\\jupyter_contrib_nbextensions\\nbextensions\\toc2\\main.css -> C:\\Users\\kapil\\AppData\\Roaming\\jupyter\\nbextensions\\toc2\\main.css\n",
      "[I 14:29:05 InstallContribNbextensionsApp] Copying: C:\\Users\\kapil\\anaconda3\\Lib\\site-packages\\jupyter_contrib_nbextensions\\nbextensions\\toc2\\main.js -> C:\\Users\\kapil\\AppData\\Roaming\\jupyter\\nbextensions\\toc2\\main.js\n",
      "[I 14:29:05 InstallContribNbextensionsApp] Copying: C:\\Users\\kapil\\anaconda3\\Lib\\site-packages\\jupyter_contrib_nbextensions\\nbextensions\\toc2\\README.md -> C:\\Users\\kapil\\AppData\\Roaming\\jupyter\\nbextensions\\toc2\\README.md\n",
      "[I 14:29:05 InstallContribNbextensionsApp] Copying: C:\\Users\\kapil\\anaconda3\\Lib\\site-packages\\jupyter_contrib_nbextensions\\nbextensions\\toc2\\toc2.js -> C:\\Users\\kapil\\AppData\\Roaming\\jupyter\\nbextensions\\toc2\\toc2.js\n",
      "[I 14:29:05 InstallContribNbextensionsApp] Copying: C:\\Users\\kapil\\anaconda3\\Lib\\site-packages\\jupyter_contrib_nbextensions\\nbextensions\\toc2\\toc2.yaml -> C:\\Users\\kapil\\AppData\\Roaming\\jupyter\\nbextensions\\toc2\\toc2.yaml\n",
      "[I 14:29:05 InstallContribNbextensionsApp] - Validating: ok\n",
      "[I 14:29:05 InstallContribNbextensionsApp] Installing C:\\Users\\kapil\\anaconda3\\Lib\\site-packages\\jupyter_contrib_nbextensions\\nbextensions\\toggle_all_line_numbers -> toggle_all_line_numbers\n",
      "[I 14:29:05 InstallContribNbextensionsApp] Making directory: C:\\Users\\kapil\\AppData\\Roaming\\jupyter\\nbextensions\\toggle_all_line_numbers\\\n",
      "[I 14:29:05 InstallContribNbextensionsApp] Copying: C:\\Users\\kapil\\anaconda3\\Lib\\site-packages\\jupyter_contrib_nbextensions\\nbextensions\\toggle_all_line_numbers\\icon.png -> C:\\Users\\kapil\\AppData\\Roaming\\jupyter\\nbextensions\\toggle_all_line_numbers\\icon.png\n",
      "[I 14:29:05 InstallContribNbextensionsApp] Copying: C:\\Users\\kapil\\anaconda3\\Lib\\site-packages\\jupyter_contrib_nbextensions\\nbextensions\\toggle_all_line_numbers\\main.js -> C:\\Users\\kapil\\AppData\\Roaming\\jupyter\\nbextensions\\toggle_all_line_numbers\\main.js\n",
      "[I 14:29:05 InstallContribNbextensionsApp] Copying: C:\\Users\\kapil\\anaconda3\\Lib\\site-packages\\jupyter_contrib_nbextensions\\nbextensions\\toggle_all_line_numbers\\main.yaml -> C:\\Users\\kapil\\AppData\\Roaming\\jupyter\\nbextensions\\toggle_all_line_numbers\\main.yaml\n",
      "[I 14:29:05 InstallContribNbextensionsApp] Copying: C:\\Users\\kapil\\anaconda3\\Lib\\site-packages\\jupyter_contrib_nbextensions\\nbextensions\\toggle_all_line_numbers\\readme.md -> C:\\Users\\kapil\\AppData\\Roaming\\jupyter\\nbextensions\\toggle_all_line_numbers\\readme.md\n",
      "[I 14:29:05 InstallContribNbextensionsApp] - Validating: ok\n",
      "[I 14:29:05 InstallContribNbextensionsApp] Installing C:\\Users\\kapil\\anaconda3\\Lib\\site-packages\\jupyter_contrib_nbextensions\\nbextensions\\tree-filter -> tree-filter\n",
      "[I 14:29:05 InstallContribNbextensionsApp] Making directory: C:\\Users\\kapil\\AppData\\Roaming\\jupyter\\nbextensions\\tree-filter\\\n",
      "[I 14:29:05 InstallContribNbextensionsApp] Copying: C:\\Users\\kapil\\anaconda3\\Lib\\site-packages\\jupyter_contrib_nbextensions\\nbextensions\\tree-filter\\demo.gif -> C:\\Users\\kapil\\AppData\\Roaming\\jupyter\\nbextensions\\tree-filter\\demo.gif\n",
      "[I 14:29:05 InstallContribNbextensionsApp] Copying: C:\\Users\\kapil\\anaconda3\\Lib\\site-packages\\jupyter_contrib_nbextensions\\nbextensions\\tree-filter\\index.js -> C:\\Users\\kapil\\AppData\\Roaming\\jupyter\\nbextensions\\tree-filter\\index.js\n",
      "[I 14:29:05 InstallContribNbextensionsApp] Copying: C:\\Users\\kapil\\anaconda3\\Lib\\site-packages\\jupyter_contrib_nbextensions\\nbextensions\\tree-filter\\readme.md -> C:\\Users\\kapil\\AppData\\Roaming\\jupyter\\nbextensions\\tree-filter\\readme.md\n",
      "[I 14:29:05 InstallContribNbextensionsApp] Copying: C:\\Users\\kapil\\anaconda3\\Lib\\site-packages\\jupyter_contrib_nbextensions\\nbextensions\\tree-filter\\tree-filter.yaml -> C:\\Users\\kapil\\AppData\\Roaming\\jupyter\\nbextensions\\tree-filter\\tree-filter.yaml\n",
      "[I 14:29:05 InstallContribNbextensionsApp] - Validating: ok\n",
      "[I 14:29:05 InstallContribNbextensionsApp] Installing C:\\Users\\kapil\\anaconda3\\Lib\\site-packages\\jupyter_contrib_nbextensions\\nbextensions\\varInspector -> varInspector\n",
      "[I 14:29:05 InstallContribNbextensionsApp] Making directory: C:\\Users\\kapil\\AppData\\Roaming\\jupyter\\nbextensions\\varInspector\\\n",
      "[I 14:29:05 InstallContribNbextensionsApp] Copying: C:\\Users\\kapil\\anaconda3\\Lib\\site-packages\\jupyter_contrib_nbextensions\\nbextensions\\varInspector\\demo.gif -> C:\\Users\\kapil\\AppData\\Roaming\\jupyter\\nbextensions\\varInspector\\demo.gif\n",
      "[I 14:29:05 InstallContribNbextensionsApp] Copying: C:\\Users\\kapil\\anaconda3\\Lib\\site-packages\\jupyter_contrib_nbextensions\\nbextensions\\varInspector\\icon.png -> C:\\Users\\kapil\\AppData\\Roaming\\jupyter\\nbextensions\\varInspector\\icon.png\n",
      "[I 14:29:05 InstallContribNbextensionsApp] Copying: C:\\Users\\kapil\\anaconda3\\Lib\\site-packages\\jupyter_contrib_nbextensions\\nbextensions\\varInspector\\jquery.tablesorter.min.js -> C:\\Users\\kapil\\AppData\\Roaming\\jupyter\\nbextensions\\varInspector\\jquery.tablesorter.min.js\n",
      "[I 14:29:05 InstallContribNbextensionsApp] Copying: C:\\Users\\kapil\\anaconda3\\Lib\\site-packages\\jupyter_contrib_nbextensions\\nbextensions\\varInspector\\main.css -> C:\\Users\\kapil\\AppData\\Roaming\\jupyter\\nbextensions\\varInspector\\main.css\n",
      "[I 14:29:05 InstallContribNbextensionsApp] Copying: C:\\Users\\kapil\\anaconda3\\Lib\\site-packages\\jupyter_contrib_nbextensions\\nbextensions\\varInspector\\main.js -> C:\\Users\\kapil\\AppData\\Roaming\\jupyter\\nbextensions\\varInspector\\main.js\n",
      "[I 14:29:05 InstallContribNbextensionsApp] Copying: C:\\Users\\kapil\\anaconda3\\Lib\\site-packages\\jupyter_contrib_nbextensions\\nbextensions\\varInspector\\README.md -> C:\\Users\\kapil\\AppData\\Roaming\\jupyter\\nbextensions\\varInspector\\README.md\n",
      "[I 14:29:05 InstallContribNbextensionsApp] Copying: C:\\Users\\kapil\\anaconda3\\Lib\\site-packages\\jupyter_contrib_nbextensions\\nbextensions\\varInspector\\tablesorter_LICENSE.txt -> C:\\Users\\kapil\\AppData\\Roaming\\jupyter\\nbextensions\\varInspector\\tablesorter_LICENSE.txt\n",
      "[I 14:29:05 InstallContribNbextensionsApp] Copying: C:\\Users\\kapil\\anaconda3\\Lib\\site-packages\\jupyter_contrib_nbextensions\\nbextensions\\varInspector\\varInspector.yaml -> C:\\Users\\kapil\\AppData\\Roaming\\jupyter\\nbextensions\\varInspector\\varInspector.yaml\n",
      "[I 14:29:05 InstallContribNbextensionsApp] Copying: C:\\Users\\kapil\\anaconda3\\Lib\\site-packages\\jupyter_contrib_nbextensions\\nbextensions\\varInspector\\var_list.py -> C:\\Users\\kapil\\AppData\\Roaming\\jupyter\\nbextensions\\varInspector\\var_list.py\n",
      "[I 14:29:05 InstallContribNbextensionsApp] Copying: C:\\Users\\kapil\\anaconda3\\Lib\\site-packages\\jupyter_contrib_nbextensions\\nbextensions\\varInspector\\var_list.r -> C:\\Users\\kapil\\AppData\\Roaming\\jupyter\\nbextensions\\varInspector\\var_list.r\n",
      "[I 14:29:05 InstallContribNbextensionsApp] Making directory: C:\\Users\\kapil\\AppData\\Roaming\\jupyter\\nbextensions\\varInspector\\__pycache__\n",
      "[I 14:29:05 InstallContribNbextensionsApp] Copying: C:\\Users\\kapil\\anaconda3\\Lib\\site-packages\\jupyter_contrib_nbextensions\\nbextensions\\varInspector\\__pycache__\\var_list.cpython-311.pyc -> C:\\Users\\kapil\\AppData\\Roaming\\jupyter\\nbextensions\\varInspector\\__pycache__\\var_list.cpython-311.pyc\n",
      "[I 14:29:05 InstallContribNbextensionsApp] - Validating: ok\n",
      "[I 14:29:05 InstallContribNbextensionsApp] Installing C:\\Users\\kapil\\anaconda3\\Lib\\site-packages\\jupyter_contrib_nbextensions\\nbextensions\\zenmode -> zenmode\n",
      "[I 14:29:05 InstallContribNbextensionsApp] Making directory: C:\\Users\\kapil\\AppData\\Roaming\\jupyter\\nbextensions\\zenmode\\\n",
      "[I 14:29:05 InstallContribNbextensionsApp] Copying: C:\\Users\\kapil\\anaconda3\\Lib\\site-packages\\jupyter_contrib_nbextensions\\nbextensions\\zenmode\\main.css -> C:\\Users\\kapil\\AppData\\Roaming\\jupyter\\nbextensions\\zenmode\\main.css\n",
      "[I 14:29:05 InstallContribNbextensionsApp] Copying: C:\\Users\\kapil\\anaconda3\\Lib\\site-packages\\jupyter_contrib_nbextensions\\nbextensions\\zenmode\\main.js -> C:\\Users\\kapil\\AppData\\Roaming\\jupyter\\nbextensions\\zenmode\\main.js\n",
      "[I 14:29:05 InstallContribNbextensionsApp] Copying: C:\\Users\\kapil\\anaconda3\\Lib\\site-packages\\jupyter_contrib_nbextensions\\nbextensions\\zenmode\\README.md -> C:\\Users\\kapil\\AppData\\Roaming\\jupyter\\nbextensions\\zenmode\\README.md\n",
      "[I 14:29:05 InstallContribNbextensionsApp] Copying: C:\\Users\\kapil\\anaconda3\\Lib\\site-packages\\jupyter_contrib_nbextensions\\nbextensions\\zenmode\\zenmode.yaml -> C:\\Users\\kapil\\AppData\\Roaming\\jupyter\\nbextensions\\zenmode\\zenmode.yaml\n",
      "[I 14:29:05 InstallContribNbextensionsApp] Making directory: C:\\Users\\kapil\\AppData\\Roaming\\jupyter\\nbextensions\\zenmode\\images\n",
      "[I 14:29:05 InstallContribNbextensionsApp] Copying: C:\\Users\\kapil\\anaconda3\\Lib\\site-packages\\jupyter_contrib_nbextensions\\nbextensions\\zenmode\\images\\back1.jpg -> C:\\Users\\kapil\\AppData\\Roaming\\jupyter\\nbextensions\\zenmode\\images\\back1.jpg\n",
      "[I 14:29:05 InstallContribNbextensionsApp] Copying: C:\\Users\\kapil\\anaconda3\\Lib\\site-packages\\jupyter_contrib_nbextensions\\nbextensions\\zenmode\\images\\back11.jpg -> C:\\Users\\kapil\\AppData\\Roaming\\jupyter\\nbextensions\\zenmode\\images\\back11.jpg\n",
      "[I 14:29:05 InstallContribNbextensionsApp] Copying: C:\\Users\\kapil\\anaconda3\\Lib\\site-packages\\jupyter_contrib_nbextensions\\nbextensions\\zenmode\\images\\back12.jpg -> C:\\Users\\kapil\\AppData\\Roaming\\jupyter\\nbextensions\\zenmode\\images\\back12.jpg\n",
      "[I 14:29:05 InstallContribNbextensionsApp] Copying: C:\\Users\\kapil\\anaconda3\\Lib\\site-packages\\jupyter_contrib_nbextensions\\nbextensions\\zenmode\\images\\back2.jpg -> C:\\Users\\kapil\\AppData\\Roaming\\jupyter\\nbextensions\\zenmode\\images\\back2.jpg\n",
      "[I 14:29:05 InstallContribNbextensionsApp] Copying: C:\\Users\\kapil\\anaconda3\\Lib\\site-packages\\jupyter_contrib_nbextensions\\nbextensions\\zenmode\\images\\back21.jpg -> C:\\Users\\kapil\\AppData\\Roaming\\jupyter\\nbextensions\\zenmode\\images\\back21.jpg\n",
      "[I 14:29:05 InstallContribNbextensionsApp] Copying: C:\\Users\\kapil\\anaconda3\\Lib\\site-packages\\jupyter_contrib_nbextensions\\nbextensions\\zenmode\\images\\back22.jpg -> C:\\Users\\kapil\\AppData\\Roaming\\jupyter\\nbextensions\\zenmode\\images\\back22.jpg\n",
      "[I 14:29:05 InstallContribNbextensionsApp] Copying: C:\\Users\\kapil\\anaconda3\\Lib\\site-packages\\jupyter_contrib_nbextensions\\nbextensions\\zenmode\\images\\back3.jpg -> C:\\Users\\kapil\\AppData\\Roaming\\jupyter\\nbextensions\\zenmode\\images\\back3.jpg\n",
      "[I 14:29:05 InstallContribNbextensionsApp] Copying: C:\\Users\\kapil\\anaconda3\\Lib\\site-packages\\jupyter_contrib_nbextensions\\nbextensions\\zenmode\\images\\ipynblogo0.png -> C:\\Users\\kapil\\AppData\\Roaming\\jupyter\\nbextensions\\zenmode\\images\\ipynblogo0.png\n",
      "[I 14:29:05 InstallContribNbextensionsApp] Copying: C:\\Users\\kapil\\anaconda3\\Lib\\site-packages\\jupyter_contrib_nbextensions\\nbextensions\\zenmode\\images\\ipynblogo1.png -> C:\\Users\\kapil\\AppData\\Roaming\\jupyter\\nbextensions\\zenmode\\images\\ipynblogo1.png\n",
      "[I 14:29:05 InstallContribNbextensionsApp] - Validating: ok\n",
      "[I 14:29:05 InstallContribNbextensionsApp] Installing C:\\Users\\kapil\\anaconda3\\Lib\\site-packages\\jupyter_highlight_selected_word\\static\\highlight_selected_word -> highlight_selected_word\n",
      "[I 14:29:05 InstallContribNbextensionsApp] Making directory: C:\\Users\\kapil\\AppData\\Roaming\\jupyter\\nbextensions\\highlight_selected_word\\\n",
      "[I 14:29:05 InstallContribNbextensionsApp] Copying: C:\\Users\\kapil\\anaconda3\\Lib\\site-packages\\jupyter_highlight_selected_word\\static\\highlight_selected_word\\configurator.yaml -> C:\\Users\\kapil\\AppData\\Roaming\\jupyter\\nbextensions\\highlight_selected_word\\configurator.yaml\n",
      "[I 14:29:05 InstallContribNbextensionsApp] Copying: C:\\Users\\kapil\\anaconda3\\Lib\\site-packages\\jupyter_highlight_selected_word\\static\\highlight_selected_word\\main.js -> C:\\Users\\kapil\\AppData\\Roaming\\jupyter\\nbextensions\\highlight_selected_word\\main.js\n",
      "[I 14:29:05 InstallContribNbextensionsApp] Copying: C:\\Users\\kapil\\anaconda3\\Lib\\site-packages\\jupyter_highlight_selected_word\\static\\highlight_selected_word\\README.md -> C:\\Users\\kapil\\AppData\\Roaming\\jupyter\\nbextensions\\highlight_selected_word\\README.md\n",
      "[I 14:29:05 InstallContribNbextensionsApp] - Validating: ok\n",
      "[I 14:29:05 InstallContribNbextensionsApp] Installing jupyter_contrib_nbextensions items to config in C:\\Users\\kapil\\.jupyter\n",
      "Enabling: jupyter_nbextensions_configurator\n",
      "- Writing config: C:\\Users\\kapil\\.jupyter\n",
      "    - Validating...\n",
      "      jupyter_nbextensions_configurator 0.6.1 ok\n",
      "Enabling notebook nbextension nbextensions_configurator/config_menu/main...\n",
      "Enabling tree nbextension nbextensions_configurator/tree_tab/main...\n",
      "[I 14:29:05 InstallContribNbextensionsApp] Enabling notebook extension contrib_nbextensions_help_item/main...\n",
      "[I 14:29:05 InstallContribNbextensionsApp]       - Validating: ok\n",
      "[I 14:29:06 InstallContribNbextensionsApp] - Editing config: C:\\Users\\kapil\\.jupyter\\jupyter_nbconvert_config.json\n",
      "[I 14:29:06 InstallContribNbextensionsApp] --  Configuring nbconvert template path\n",
      "[I 14:29:06 InstallContribNbextensionsApp] --  Configuring nbconvert preprocessors\n",
      "[I 14:29:06 InstallContribNbextensionsApp] - Writing config: C:\\Users\\kapil\\.jupyter\\jupyter_nbconvert_config.json\n",
      "[I 14:29:06 InstallContribNbextensionsApp] --  Writing updated config file C:\\Users\\kapil\\.jupyter\\jupyter_nbconvert_config.json\n"
     ]
    }
   ],
   "source": [
    "!jupyter contrib nbextension install --user"
   ]
  },
  {
   "cell_type": "code",
   "execution_count": 4,
   "id": "7b4a3bd4",
   "metadata": {},
   "outputs": [
    {
     "name": "stderr",
     "output_type": "stream",
     "text": [
      "Enabling notebook extension varInspector/main...\n",
      "      - Validating: ok\n"
     ]
    }
   ],
   "source": [
    "!jupyter nbextension enable varInspector/main"
   ]
  },
  {
   "cell_type": "markdown",
   "id": "34405594",
   "metadata": {},
   "source": [
    "## Using Gradient Descent"
   ]
  },
  {
   "cell_type": "code",
   "execution_count": 1,
   "id": "e3bc8693",
   "metadata": {},
   "outputs": [],
   "source": [
    "from sklearn.datasets import load_diabetes\n",
    "from sklearn.metrics import r2_score\n",
    "import numpy as np"
   ]
  },
  {
   "cell_type": "code",
   "execution_count": 2,
   "id": "b541fecf",
   "metadata": {},
   "outputs": [],
   "source": [
    "X, y = load_diabetes(return_X_y=True)"
   ]
  },
  {
   "cell_type": "code",
   "execution_count": 3,
   "id": "01bef43b",
   "metadata": {},
   "outputs": [],
   "source": [
    "from sklearn.model_selection import train_test_split"
   ]
  },
  {
   "cell_type": "code",
   "execution_count": 4,
   "id": "e2f2acd3",
   "metadata": {},
   "outputs": [],
   "source": [
    "X_train, X_test, y_train, y_test = train_test_split(X, y, test_size=0.2, random_state=4)"
   ]
  },
  {
   "cell_type": "code",
   "execution_count": 5,
   "id": "f8647db3",
   "metadata": {},
   "outputs": [],
   "source": [
    "from sklearn.linear_model import SGDRegressor"
   ]
  },
  {
   "cell_type": "code",
   "execution_count": 8,
   "id": "9c97824d",
   "metadata": {},
   "outputs": [],
   "source": [
    "reg = SGDRegressor(penalty='l2', max_iter=500, eta0=0.1, learning_rate='constant', alpha=0.001)"
   ]
  },
  {
   "cell_type": "code",
   "execution_count": 9,
   "id": "70c800c9",
   "metadata": {},
   "outputs": [
    {
     "data": {
      "text/html": [
       "<style>#sk-container-id-1 {color: black;}#sk-container-id-1 pre{padding: 0;}#sk-container-id-1 div.sk-toggleable {background-color: white;}#sk-container-id-1 label.sk-toggleable__label {cursor: pointer;display: block;width: 100%;margin-bottom: 0;padding: 0.3em;box-sizing: border-box;text-align: center;}#sk-container-id-1 label.sk-toggleable__label-arrow:before {content: \"▸\";float: left;margin-right: 0.25em;color: #696969;}#sk-container-id-1 label.sk-toggleable__label-arrow:hover:before {color: black;}#sk-container-id-1 div.sk-estimator:hover label.sk-toggleable__label-arrow:before {color: black;}#sk-container-id-1 div.sk-toggleable__content {max-height: 0;max-width: 0;overflow: hidden;text-align: left;background-color: #f0f8ff;}#sk-container-id-1 div.sk-toggleable__content pre {margin: 0.2em;color: black;border-radius: 0.25em;background-color: #f0f8ff;}#sk-container-id-1 input.sk-toggleable__control:checked~div.sk-toggleable__content {max-height: 200px;max-width: 100%;overflow: auto;}#sk-container-id-1 input.sk-toggleable__control:checked~label.sk-toggleable__label-arrow:before {content: \"▾\";}#sk-container-id-1 div.sk-estimator input.sk-toggleable__control:checked~label.sk-toggleable__label {background-color: #d4ebff;}#sk-container-id-1 div.sk-label input.sk-toggleable__control:checked~label.sk-toggleable__label {background-color: #d4ebff;}#sk-container-id-1 input.sk-hidden--visually {border: 0;clip: rect(1px 1px 1px 1px);clip: rect(1px, 1px, 1px, 1px);height: 1px;margin: -1px;overflow: hidden;padding: 0;position: absolute;width: 1px;}#sk-container-id-1 div.sk-estimator {font-family: monospace;background-color: #f0f8ff;border: 1px dotted black;border-radius: 0.25em;box-sizing: border-box;margin-bottom: 0.5em;}#sk-container-id-1 div.sk-estimator:hover {background-color: #d4ebff;}#sk-container-id-1 div.sk-parallel-item::after {content: \"\";width: 100%;border-bottom: 1px solid gray;flex-grow: 1;}#sk-container-id-1 div.sk-label:hover label.sk-toggleable__label {background-color: #d4ebff;}#sk-container-id-1 div.sk-serial::before {content: \"\";position: absolute;border-left: 1px solid gray;box-sizing: border-box;top: 0;bottom: 0;left: 50%;z-index: 0;}#sk-container-id-1 div.sk-serial {display: flex;flex-direction: column;align-items: center;background-color: white;padding-right: 0.2em;padding-left: 0.2em;position: relative;}#sk-container-id-1 div.sk-item {position: relative;z-index: 1;}#sk-container-id-1 div.sk-parallel {display: flex;align-items: stretch;justify-content: center;background-color: white;position: relative;}#sk-container-id-1 div.sk-item::before, #sk-container-id-1 div.sk-parallel-item::before {content: \"\";position: absolute;border-left: 1px solid gray;box-sizing: border-box;top: 0;bottom: 0;left: 50%;z-index: -1;}#sk-container-id-1 div.sk-parallel-item {display: flex;flex-direction: column;z-index: 1;position: relative;background-color: white;}#sk-container-id-1 div.sk-parallel-item:first-child::after {align-self: flex-end;width: 50%;}#sk-container-id-1 div.sk-parallel-item:last-child::after {align-self: flex-start;width: 50%;}#sk-container-id-1 div.sk-parallel-item:only-child::after {width: 0;}#sk-container-id-1 div.sk-dashed-wrapped {border: 1px dashed gray;margin: 0 0.4em 0.5em 0.4em;box-sizing: border-box;padding-bottom: 0.4em;background-color: white;}#sk-container-id-1 div.sk-label label {font-family: monospace;font-weight: bold;display: inline-block;line-height: 1.2em;}#sk-container-id-1 div.sk-label-container {text-align: center;}#sk-container-id-1 div.sk-container {/* jupyter's `normalize.less` sets `[hidden] { display: none; }` but bootstrap.min.css set `[hidden] { display: none !important; }` so we also need the `!important` here to be able to override the default hidden behavior on the sphinx rendered scikit-learn.org. See: https://github.com/scikit-learn/scikit-learn/issues/21755 */display: inline-block !important;position: relative;}#sk-container-id-1 div.sk-text-repr-fallback {display: none;}</style><div id=\"sk-container-id-1\" class=\"sk-top-container\"><div class=\"sk-text-repr-fallback\"><pre>SGDRegressor(alpha=0.001, eta0=0.1, learning_rate=&#x27;constant&#x27;, max_iter=500)</pre><b>In a Jupyter environment, please rerun this cell to show the HTML representation or trust the notebook. <br />On GitHub, the HTML representation is unable to render, please try loading this page with nbviewer.org.</b></div><div class=\"sk-container\" hidden><div class=\"sk-item\"><div class=\"sk-estimator sk-toggleable\"><input class=\"sk-toggleable__control sk-hidden--visually\" id=\"sk-estimator-id-1\" type=\"checkbox\" checked><label for=\"sk-estimator-id-1\" class=\"sk-toggleable__label sk-toggleable__label-arrow\">SGDRegressor</label><div class=\"sk-toggleable__content\"><pre>SGDRegressor(alpha=0.001, eta0=0.1, learning_rate=&#x27;constant&#x27;, max_iter=500)</pre></div></div></div></div></div>"
      ],
      "text/plain": [
       "SGDRegressor(alpha=0.001, eta0=0.1, learning_rate='constant', max_iter=500)"
      ]
     },
     "execution_count": 9,
     "metadata": {},
     "output_type": "execute_result"
    }
   ],
   "source": [
    "reg.fit(X_train, y_train)"
   ]
  },
  {
   "cell_type": "code",
   "execution_count": 10,
   "id": "11d10cbd",
   "metadata": {},
   "outputs": [
    {
     "data": {
      "text/plain": [
       "0.4073600772862427"
      ]
     },
     "execution_count": 10,
     "metadata": {},
     "output_type": "execute_result"
    }
   ],
   "source": [
    "y_pred = reg.predict(X_test)\n",
    "r2_score(y_test, y_pred)"
   ]
  },
  {
   "cell_type": "code",
   "execution_count": 11,
   "id": "e9805ccf",
   "metadata": {},
   "outputs": [
    {
     "name": "stdout",
     "output_type": "stream",
     "text": [
      "[  49.12822601 -152.96376136  363.47335178  269.75383786   -5.31936715\n",
      "  -59.15437698 -166.58466424  135.50525684  327.33138925   98.78474028]\n",
      "[139.46600875]\n"
     ]
    }
   ],
   "source": [
    "print(reg.coef_)\n",
    "print(reg.intercept_)"
   ]
  },
  {
   "cell_type": "code",
   "execution_count": 12,
   "id": "6cdf6fe6",
   "metadata": {},
   "outputs": [],
   "source": [
    "from sklearn.linear_model import Ridge"
   ]
  },
  {
   "cell_type": "code",
   "execution_count": 13,
   "id": "979ff90b",
   "metadata": {},
   "outputs": [],
   "source": [
    "reg = Ridge(alpha=0.001, max_iter=500, solver='sparse_cg')"
   ]
  },
  {
   "cell_type": "code",
   "execution_count": 14,
   "id": "f0068989",
   "metadata": {},
   "outputs": [
    {
     "data": {
      "text/html": [
       "<style>#sk-container-id-2 {color: black;}#sk-container-id-2 pre{padding: 0;}#sk-container-id-2 div.sk-toggleable {background-color: white;}#sk-container-id-2 label.sk-toggleable__label {cursor: pointer;display: block;width: 100%;margin-bottom: 0;padding: 0.3em;box-sizing: border-box;text-align: center;}#sk-container-id-2 label.sk-toggleable__label-arrow:before {content: \"▸\";float: left;margin-right: 0.25em;color: #696969;}#sk-container-id-2 label.sk-toggleable__label-arrow:hover:before {color: black;}#sk-container-id-2 div.sk-estimator:hover label.sk-toggleable__label-arrow:before {color: black;}#sk-container-id-2 div.sk-toggleable__content {max-height: 0;max-width: 0;overflow: hidden;text-align: left;background-color: #f0f8ff;}#sk-container-id-2 div.sk-toggleable__content pre {margin: 0.2em;color: black;border-radius: 0.25em;background-color: #f0f8ff;}#sk-container-id-2 input.sk-toggleable__control:checked~div.sk-toggleable__content {max-height: 200px;max-width: 100%;overflow: auto;}#sk-container-id-2 input.sk-toggleable__control:checked~label.sk-toggleable__label-arrow:before {content: \"▾\";}#sk-container-id-2 div.sk-estimator input.sk-toggleable__control:checked~label.sk-toggleable__label {background-color: #d4ebff;}#sk-container-id-2 div.sk-label input.sk-toggleable__control:checked~label.sk-toggleable__label {background-color: #d4ebff;}#sk-container-id-2 input.sk-hidden--visually {border: 0;clip: rect(1px 1px 1px 1px);clip: rect(1px, 1px, 1px, 1px);height: 1px;margin: -1px;overflow: hidden;padding: 0;position: absolute;width: 1px;}#sk-container-id-2 div.sk-estimator {font-family: monospace;background-color: #f0f8ff;border: 1px dotted black;border-radius: 0.25em;box-sizing: border-box;margin-bottom: 0.5em;}#sk-container-id-2 div.sk-estimator:hover {background-color: #d4ebff;}#sk-container-id-2 div.sk-parallel-item::after {content: \"\";width: 100%;border-bottom: 1px solid gray;flex-grow: 1;}#sk-container-id-2 div.sk-label:hover label.sk-toggleable__label {background-color: #d4ebff;}#sk-container-id-2 div.sk-serial::before {content: \"\";position: absolute;border-left: 1px solid gray;box-sizing: border-box;top: 0;bottom: 0;left: 50%;z-index: 0;}#sk-container-id-2 div.sk-serial {display: flex;flex-direction: column;align-items: center;background-color: white;padding-right: 0.2em;padding-left: 0.2em;position: relative;}#sk-container-id-2 div.sk-item {position: relative;z-index: 1;}#sk-container-id-2 div.sk-parallel {display: flex;align-items: stretch;justify-content: center;background-color: white;position: relative;}#sk-container-id-2 div.sk-item::before, #sk-container-id-2 div.sk-parallel-item::before {content: \"\";position: absolute;border-left: 1px solid gray;box-sizing: border-box;top: 0;bottom: 0;left: 50%;z-index: -1;}#sk-container-id-2 div.sk-parallel-item {display: flex;flex-direction: column;z-index: 1;position: relative;background-color: white;}#sk-container-id-2 div.sk-parallel-item:first-child::after {align-self: flex-end;width: 50%;}#sk-container-id-2 div.sk-parallel-item:last-child::after {align-self: flex-start;width: 50%;}#sk-container-id-2 div.sk-parallel-item:only-child::after {width: 0;}#sk-container-id-2 div.sk-dashed-wrapped {border: 1px dashed gray;margin: 0 0.4em 0.5em 0.4em;box-sizing: border-box;padding-bottom: 0.4em;background-color: white;}#sk-container-id-2 div.sk-label label {font-family: monospace;font-weight: bold;display: inline-block;line-height: 1.2em;}#sk-container-id-2 div.sk-label-container {text-align: center;}#sk-container-id-2 div.sk-container {/* jupyter's `normalize.less` sets `[hidden] { display: none; }` but bootstrap.min.css set `[hidden] { display: none !important; }` so we also need the `!important` here to be able to override the default hidden behavior on the sphinx rendered scikit-learn.org. See: https://github.com/scikit-learn/scikit-learn/issues/21755 */display: inline-block !important;position: relative;}#sk-container-id-2 div.sk-text-repr-fallback {display: none;}</style><div id=\"sk-container-id-2\" class=\"sk-top-container\"><div class=\"sk-text-repr-fallback\"><pre>Ridge(alpha=0.001, max_iter=500, solver=&#x27;sparse_cg&#x27;)</pre><b>In a Jupyter environment, please rerun this cell to show the HTML representation or trust the notebook. <br />On GitHub, the HTML representation is unable to render, please try loading this page with nbviewer.org.</b></div><div class=\"sk-container\" hidden><div class=\"sk-item\"><div class=\"sk-estimator sk-toggleable\"><input class=\"sk-toggleable__control sk-hidden--visually\" id=\"sk-estimator-id-2\" type=\"checkbox\" checked><label for=\"sk-estimator-id-2\" class=\"sk-toggleable__label sk-toggleable__label-arrow\">Ridge</label><div class=\"sk-toggleable__content\"><pre>Ridge(alpha=0.001, max_iter=500, solver=&#x27;sparse_cg&#x27;)</pre></div></div></div></div></div>"
      ],
      "text/plain": [
       "Ridge(alpha=0.001, max_iter=500, solver='sparse_cg')"
      ]
     },
     "execution_count": 14,
     "metadata": {},
     "output_type": "execute_result"
    }
   ],
   "source": [
    "reg.fit(X_train, y_train)"
   ]
  },
  {
   "cell_type": "code",
   "execution_count": 15,
   "id": "7a23fc19",
   "metadata": {},
   "outputs": [
    {
     "data": {
      "text/plain": [
       "0.4625010162200953"
      ]
     },
     "execution_count": 15,
     "metadata": {},
     "output_type": "execute_result"
    }
   ],
   "source": [
    "y_pred = reg.predict(X_test)\n",
    "r2_score(y_test, y_pred)"
   ]
  },
  {
   "cell_type": "code",
   "execution_count": 16,
   "id": "0f2ac6bf",
   "metadata": {},
   "outputs": [
    {
     "name": "stdout",
     "output_type": "stream",
     "text": [
      "[  34.52193964 -290.84082833  482.40183351  368.06788505 -852.44870996\n",
      "  501.59162506  180.11113887  270.76336793  759.73536977   37.49137498]\n",
      "151.10198522383362\n"
     ]
    }
   ],
   "source": [
    "print(reg.coef_)\n",
    "print(reg.intercept_)"
   ]
  },
  {
   "cell_type": "code",
   "execution_count": 21,
   "id": "b53deefd",
   "metadata": {},
   "outputs": [],
   "source": [
    "class MeraGDRidge:\n",
    "    \n",
    "    def __init__(self, epochs, learning_rate, alpha=0.1):\n",
    "        \n",
    "        self.coef_ = None\n",
    "        self.intercept_ = None\n",
    "        self.learning_rate = learning_rate\n",
    "        self.alpha = alpha\n",
    "        self.epochs = epochs\n",
    "        \n",
    "    def fit(self, X_train, y_train):\n",
    "        \n",
    "        self.coef_ = np.ones(X_train.shape[1])\n",
    "        self.intercept_=0\n",
    "        \n",
    "        thetha = np.insert(self.coef_,0,self.intercept_)\n",
    "        \n",
    "        X_train = np.insert(X_train,0,1,axis=1)\n",
    "        \n",
    "        for i in range(self.epochs):\n",
    "            thetha_der = np.dot(X_train.T,X_train).dot(thetha) - np.dot(X_train.T,y_train) + self.alpha*thetha\n",
    "            thetha = thetha - self.learning_rate*thetha_der\n",
    "        \n",
    "        self.coef_ = thetha[1:]\n",
    "        self.intercept_ = thetha[0]\n",
    "        \n",
    "        \n",
    "        \n",
    "    def predict(self, X_test):\n",
    "        return np.dot(X_test, self.coef_) + self.intercept_\n",
    "    \n",
    "    \n",
    "    "
   ]
  },
  {
   "cell_type": "code",
   "execution_count": 22,
   "id": "6a3b5387",
   "metadata": {},
   "outputs": [],
   "source": [
    "reg = MeraGDRidge(epochs=500,alpha=0.001,learning_rate=0.005)"
   ]
  },
  {
   "cell_type": "code",
   "execution_count": 23,
   "id": "1e57aa00",
   "metadata": {},
   "outputs": [
    {
     "name": "stdout",
     "output_type": "stream",
     "text": [
      "R2 score 0.4738018280260914\n",
      "[  46.65050914 -221.3750037   452.12080647  325.54248128  -29.09464178\n",
      "  -96.47517735 -190.90017011  146.32900372  400.80267299   95.09048094]\n",
      "150.86975316713466\n"
     ]
    }
   ],
   "source": [
    "reg.fit(X_train,y_train)\n",
    "\n",
    "y_pred = reg.predict(X_test)\n",
    "print(\"R2 score\",r2_score(y_test,y_pred))\n",
    "print(reg.coef_)\n",
    "print(reg.intercept_)"
   ]
  },
  {
   "cell_type": "code",
   "execution_count": null,
   "id": "0f02c16f",
   "metadata": {},
   "outputs": [],
   "source": []
  },
  {
   "cell_type": "code",
   "execution_count": null,
   "id": "55222393",
   "metadata": {},
   "outputs": [],
   "source": []
  },
  {
   "cell_type": "code",
   "execution_count": null,
   "id": "e2de96d7",
   "metadata": {},
   "outputs": [],
   "source": []
  }
 ],
 "metadata": {
  "kernelspec": {
   "display_name": "Python 3 (ipykernel)",
   "language": "python",
   "name": "python3"
  },
  "language_info": {
   "codemirror_mode": {
    "name": "ipython",
    "version": 3
   },
   "file_extension": ".py",
   "mimetype": "text/x-python",
   "name": "python",
   "nbconvert_exporter": "python",
   "pygments_lexer": "ipython3",
   "version": "3.11.5"
  },
  "varInspector": {
   "cols": {
    "lenName": 16,
    "lenType": 16,
    "lenVar": 40
   },
   "kernels_config": {
    "python": {
     "delete_cmd_postfix": "",
     "delete_cmd_prefix": "del ",
     "library": "var_list.py",
     "varRefreshCmd": "print(var_dic_list())"
    },
    "r": {
     "delete_cmd_postfix": ") ",
     "delete_cmd_prefix": "rm(",
     "library": "var_list.r",
     "varRefreshCmd": "cat(var_dic_list()) "
    }
   },
   "types_to_exclude": [
    "module",
    "function",
    "builtin_function_or_method",
    "instance",
    "_Feature"
   ],
   "window_display": false
  }
 },
 "nbformat": 4,
 "nbformat_minor": 5
}
